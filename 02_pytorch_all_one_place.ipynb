{
  "nbformat": 4,
  "nbformat_minor": 0,
  "metadata": {
    "colab": {
      "provenance": [],
      "gpuType": "T4",
      "authorship_tag": "ABX9TyPE3JxHatrZZZxuQEOQ11+A",
      "include_colab_link": true
    },
    "kernelspec": {
      "name": "python3",
      "display_name": "Python 3"
    },
    "language_info": {
      "name": "python"
    },
    "accelerator": "GPU"
  },
  "cells": [
    {
      "cell_type": "markdown",
      "metadata": {
        "id": "view-in-github",
        "colab_type": "text"
      },
      "source": [
        "<a href=\"https://colab.research.google.com/github/ugursirvermez/PyTorch_Education/blob/main/02_pytorch_all_one_place.ipynb\" target=\"_parent\"><img src=\"https://colab.research.google.com/assets/colab-badge.svg\" alt=\"Open In Colab\"/></a>"
      ]
    },
    {
      "cell_type": "markdown",
      "source": [
        "# BÜTÜN AŞAMALARI BİR ARAYA GETİERECEĞİZ"
      ],
      "metadata": {
        "id": "J_-bNcPzug23"
      }
    },
    {
      "cell_type": "markdown",
      "source": [
        "#1. VERİLER"
      ],
      "metadata": {
        "id": "vd1zihwRuzsC"
      }
    },
    {
      "cell_type": "code",
      "execution_count": 187,
      "metadata": {
        "id": "q0Qd09TldA8r",
        "colab": {
          "base_uri": "https://localhost:8080/"
        },
        "outputId": "c394e6c1-1747-4358-acd3-15e2db2be362"
      },
      "outputs": [
        {
          "output_type": "stream",
          "name": "stdout",
          "text": [
            "2.4.0+cu121\n"
          ]
        }
      ],
      "source": [
        "import torch\n",
        "from torch import nn\n",
        "import matplotlib.pyplot as plt\n",
        "\n",
        "#Torch verisiyonu kontrol edelim\n",
        "print(torch.__version__)"
      ]
    },
    {
      "cell_type": "markdown",
      "source": [
        "GPU OR CPU ?"
      ],
      "metadata": {
        "id": "TF0pAEfhv9rL"
      }
    },
    {
      "cell_type": "code",
      "source": [
        "#Agnostik kod kullanıyoruz.\n",
        "device = \"cuda\" if torch.cuda.is_available() else \"cpu\"\n",
        "print(f\"Device: {device}\")"
      ],
      "metadata": {
        "colab": {
          "base_uri": "https://localhost:8080/"
        },
        "id": "tQ1F2H2MwCtV",
        "outputId": "7efea0f5-d113-409c-e800-e5f34682573e"
      },
      "execution_count": 188,
      "outputs": [
        {
          "output_type": "stream",
          "name": "stdout",
          "text": [
            "Device: cpu\n"
          ]
        }
      ]
    },
    {
      "cell_type": "markdown",
      "source": [
        "# DOĞRUSAL REGRESYON İÇİN VERİ OLUŞTURMA"
      ],
      "metadata": {
        "id": "BjWdnpyexY9o"
      }
    },
    {
      "cell_type": "code",
      "source": [
        "#Verileri Doğrusal regresyon modeli için oluşturalım.\n",
        "# y = agirlik * X + eğilim -> y = weight * X + bias\n",
        "weight = 0.923\n",
        "bias = 0.44\n",
        "\n",
        "#Değer aralığını yaratalım.\n",
        "start = 0\n",
        "end = 1\n",
        "step = 0.05\n",
        "\n",
        "#X ve Y değerlerini olusturalım. (Degiskenleri ve içerikleri olusturuyoruz)\n",
        "X = torch.arange(start, end, step).unsqueeze(dim=1) #unsqueeze etmezsek hata verir.\n",
        "y = weight * X +bias\n",
        "print(X[:10], y[:10])"
      ],
      "metadata": {
        "colab": {
          "base_uri": "https://localhost:8080/"
        },
        "id": "dj44yFR5xc9F",
        "outputId": "c9903270-19f7-4557-b935-df2666c398f5"
      },
      "execution_count": 189,
      "outputs": [
        {
          "output_type": "stream",
          "name": "stdout",
          "text": [
            "tensor([[0.0000],\n",
            "        [0.0500],\n",
            "        [0.1000],\n",
            "        [0.1500],\n",
            "        [0.2000],\n",
            "        [0.2500],\n",
            "        [0.3000],\n",
            "        [0.3500],\n",
            "        [0.4000],\n",
            "        [0.4500]]) tensor([[0.4400],\n",
            "        [0.4861],\n",
            "        [0.5323],\n",
            "        [0.5784],\n",
            "        [0.6246],\n",
            "        [0.6708],\n",
            "        [0.7169],\n",
            "        [0.7630],\n",
            "        [0.8092],\n",
            "        [0.8554]])\n"
          ]
        }
      ]
    },
    {
      "cell_type": "markdown",
      "source": [
        "#Verileri Split Etme\n",
        "  Ayırma işlemi de deniyor."
      ],
      "metadata": {
        "id": "Z7G5bH7nx7w-"
      }
    },
    {
      "cell_type": "code",
      "source": [
        "#verileri split etme işlemi\n",
        "train_split = int(0.8 * len(X))\n",
        "X_train = X[:train_split]\n",
        "y_train = y[:train_split]\n",
        "X_test = X[train_split:]\n",
        "y_test =y[train_split:]\n",
        "print(len(X_train), len(y_train), len(X_test), len(y_test))\n"
      ],
      "metadata": {
        "colab": {
          "base_uri": "https://localhost:8080/"
        },
        "id": "4knLvY06yCl8",
        "outputId": "eb767f68-ab22-44a7-9f09-fc1afad67234"
      },
      "execution_count": 190,
      "outputs": [
        {
          "output_type": "stream",
          "name": "stdout",
          "text": [
            "16 16 4 4\n"
          ]
        }
      ]
    },
    {
      "cell_type": "markdown",
      "source": [
        "#Plotlib Kullanarak Verilerimizi Görselleştirelim"
      ],
      "metadata": {
        "id": "S8-dNmPTzZkV"
      }
    },
    {
      "cell_type": "code",
      "source": [
        "def plot_predictions(train_data, train_labels, test_data, test_labels, predictions): #Parametreleri fonksiyonu kullanırken dolduracağız.\n",
        "\tplt.figure(figsize=(10,7)) #Grafiğin kaça kaç çizileceğini söylüyorum.\n",
        "  #Scatter çizmeyi ifade ediyor.\n",
        "\tplt.scatter(train_data, train_labels, c=\"b\", s=4, label=\"Training Data\") #veriyi mavi renkte(c), 4 boyutunda(s) gormek istiyorum.\n",
        "\tplt.scatter(test_data, test_labels, c=\"g\", s=4, label=\"Testing Data\") #veriyi yeşil renkte(c), 4 boyutunda(s) gormek istiyorum.\n",
        "\t#eğer tahmin varsa...\n",
        "\tif predictions is not None:\n",
        "\t\t#tahmini yazdir\n",
        "\t\tplt.scatter(test_data, predictions, c=\"r\", s=4, label=\"Predictions\"),\n",
        "\n",
        "\t#Show the legend\n",
        "\tplt.legend(prop={\"size\": 14});\n",
        "\n",
        "plot_predictions(X_train, y_train, X_test, y_test,None)"
      ],
      "metadata": {
        "colab": {
          "base_uri": "https://localhost:8080/",
          "height": 599
        },
        "id": "6MSvfDi-zfmQ",
        "outputId": "f2227ecf-5051-496d-8a73-053ded0bdc19"
      },
      "execution_count": 191,
      "outputs": [
        {
          "output_type": "display_data",
          "data": {
            "text/plain": [
              "<Figure size 1000x700 with 1 Axes>"
            ],
            "image/png": "[encoded data removed]"
          },
          "metadata": {}
        }
      ]
    },
    {
      "cell_type": "markdown",
      "source": [
        "# PYTORCH DOĞRUSAL MODELİ OLUŞTURMA"
      ],
      "metadata": {
        "id": "xFIaATRaz8O0"
      }
    },
    {
      "cell_type": "code",
      "source": [
        "#Doğrusal modeli nn.Module ile sınıfla oluşturalım.\n",
        "class LinearRegressionModelV2(nn.Module):\n",
        "\t#Initialize etme yani başlatma işleminde olacaklar\n",
        "\tdef __init__(self):\n",
        "\t\tsuper().__init__()\n",
        "\t\t#nn.Linear() sayesinde modelin parametrelerini oluşturuyoruz.\n",
        "\t\tself.linear_layer = nn.Linear(in_features=1, out_features=1) #x ve y içeriğimizi oluşturduk.\n",
        "\n",
        "\tdef forward(self, x) -> torch.Tensor: #Devam etme fonksiyonu\n",
        "\t\treturn self.linear_layer(x) #Burada doğrusal denklemi uygulanıyor.\n",
        "\n",
        "torch.manual_seed(42) #Manual seed yapma\n",
        "model_1 = LinearRegressionModelV2()\n",
        "print(model_1)\n",
        "print(model_1.state_dict())"
      ],
      "metadata": {
        "colab": {
          "base_uri": "https://localhost:8080/"
        },
        "id": "psVuvy1E0CTU",
        "outputId": "e75e272d-933d-46fb-874c-3cf92d84f80a"
      },
      "execution_count": 192,
      "outputs": [
        {
          "output_type": "stream",
          "name": "stdout",
          "text": [
            "LinearRegressionModelV2(\n",
            "  (linear_layer): Linear(in_features=1, out_features=1, bias=True)\n",
            ")\n",
            "OrderedDict([('linear_layer.weight', tensor([[0.7645]])), ('linear_layer.bias', tensor([0.8300]))])\n"
          ]
        }
      ]
    },
    {
      "cell_type": "markdown",
      "source": [
        "# EĞİTİMİ OLUŞTURMA"
      ],
      "metadata": {
        "id": "1r03PUMfF2lR"
      }
    },
    {
      "cell_type": "code",
      "source": [
        "#Kayıp fonksiyonu oluşturma\n",
        "loss_fn = nn.L1Loss() #MAE\n",
        "\n",
        "#Optimizer oluşturma\n",
        "optimizer = torch.optim.SGD(params= model_1.parameters(), lr = 0.01)\n",
        "\n",
        "#Eğitim döngüsü oluşturma\n",
        "torch.manual_seed(42)\n",
        "\n",
        "#Kaç devir olacak?\n",
        "epochs = 200\n",
        "\n",
        "#Cihaz ayarlama komutları\n",
        "X_train = X_train.to(device)\n",
        "y_train = y_train.to(device)\n",
        "X_test = X_test.to(device)\n",
        "y_test = y_test.to(device)\n",
        "\n",
        "#donguyu oluşturma\n",
        "for epoch in range(epochs):\n",
        "\tmodel_1.train() #eğitelim\n",
        "\n",
        "\t#1. forward edelim.\n",
        "\ty_pred = model_1(X_train)\n",
        "\n",
        "\t#2. Kaybı hesapla\n",
        "\tloss = loss_fn(y_pred, y_train)\n",
        "\n",
        "\t#3. Optimizer ile gradyeni sıfırlama\n",
        "\toptimizer.zero_grad()\n",
        "\n",
        "\t#4. Geri yayılım yapma\n",
        "\tloss.backward()\n",
        "\n",
        "\t#5. Optimizer adımı\n",
        "\toptimizer.step()\n",
        "\n",
        "\t#Test etme\n",
        "\tmodel_1.eval()\n",
        "\twith torch.inference_mode():\n",
        "\t\ttest_pred = model_1(X_test)\n",
        "\t\ttest_loss = loss_fn(test_pred, y_test)\n",
        "\n",
        "\t\t#Yazdıralım\n",
        "\t\tif epoch % 10 == 0:\n",
        "\t\t\tprint(f\"Epoch: {epoch} | Loss: {loss} | Test loss: {test_loss}\")"
      ],
      "metadata": {
        "colab": {
          "base_uri": "https://localhost:8080/"
        },
        "id": "d93BMpcNF7Jb",
        "outputId": "610b009e-294f-4a33-a5a5-b53139ec9ed0"
      },
      "execution_count": 193,
      "outputs": [
        {
          "output_type": "stream",
          "name": "stdout",
          "text": [
            "Epoch: 0 | Loss: 0.33058488368988037 | Test loss: 0.23807287216186523\n",
            "Epoch: 10 | Loss: 0.21652236580848694 | Test loss: 0.10526025295257568\n",
            "Epoch: 20 | Loss: 0.1024598628282547 | Test loss: 0.02755245566368103\n",
            "Epoch: 30 | Loss: 0.054607290774583817 | Test loss: 0.0948883593082428\n",
            "Epoch: 40 | Loss: 0.0484202615916729 | Test loss: 0.10297426581382751\n",
            "Epoch: 50 | Loss: 0.04460771381855011 | Test loss: 0.1023494303226471\n",
            "Epoch: 60 | Loss: 0.04103892296552658 | Test loss: 0.09666216373443604\n",
            "Epoch: 70 | Loss: 0.03756733983755112 | Test loss: 0.08759987354278564\n",
            "Epoch: 80 | Loss: 0.034145161509513855 | Test loss: 0.08022511005401611\n",
            "Epoch: 90 | Loss: 0.030667362734675407 | Test loss: 0.07116281986236572\n",
            "Epoch: 100 | Loss: 0.027251413092017174 | Test loss: 0.06378787755966187\n",
            "Epoch: 110 | Loss: 0.023767391219735146 | Test loss: 0.054725438356399536\n",
            "Epoch: 120 | Loss: 0.02035767212510109 | Test loss: 0.0473504364490509\n",
            "Epoch: 130 | Loss: 0.016870182007551193 | Test loss: 0.03997546434402466\n",
            "Epoch: 140 | Loss: 0.013463938608765602 | Test loss: 0.030913054943084717\n",
            "Epoch: 150 | Loss: 0.009976448491215706 | Test loss: 0.02353811264038086\n",
            "Epoch: 160 | Loss: 0.006567448377609253 | Test loss: 0.014475703239440918\n",
            "Epoch: 170 | Loss: 0.003082718700170517 | Test loss: 0.00710064172744751\n",
            "Epoch: 180 | Loss: 0.004747658967971802 | Test loss: 0.01054602861404419\n",
            "Epoch: 190 | Loss: 0.004747658967971802 | Test loss: 0.01054602861404419\n"
          ]
        }
      ]
    },
    {
      "cell_type": "markdown",
      "source": [
        "# 4. TAHMİNLER YAPMA VE DEĞERLENDİRME"
      ],
      "metadata": {
        "id": "Vr2TY0R-LPc8"
      }
    },
    {
      "cell_type": "code",
      "source": [
        "#Değerlendirme moduna alalım.\n",
        "model_1.eval()\n",
        "\n",
        "#Tahminler yaparak test verisini test edelim.\n",
        "with torch.inference_mode():\n",
        "\ty_preds = model_1(X_test)\n",
        "print(y_preds)\n",
        "plot_predictions(X_train, y_train, X_test, y_test,predictions=y_preds.cpu()) #önceden bu çizim fonksiyonunu tanımlamıştık."
      ],
      "metadata": {
        "colab": {
          "base_uri": "https://localhost:8080/",
          "height": 670
        },
        "id": "1BP50F0WLR6x",
        "outputId": "2bd2364f-50bc-4712-bef5-29a4eefc4c0f"
      },
      "execution_count": 194,
      "outputs": [
        {
          "output_type": "stream",
          "name": "stdout",
          "text": [
            "tensor([[1.1814],\n",
            "        [1.2274],\n",
            "        [1.2733],\n",
            "        [1.3193]])\n"
          ]
        },
        {
          "output_type": "display_data",
          "data": {
            "text/plain": [
              "<Figure size 1000x700 with 1 Axes>"
            ],
            "image/png": "[encoded data removed]"
          },
          "metadata": {}
        }
      ]
    },
    {
      "cell_type": "markdown",
      "source": [
        "# 5. MODELİ KAYDETME VE YÜKLEME"
      ],
      "metadata": {
        "id": "OXqcBt7iNivZ"
      }
    },
    {
      "cell_type": "markdown",
      "source": [
        "**Önce Kaydetme İşlemi**"
      ],
      "metadata": {
        "id": "4YxfANH1OPWF"
      }
    },
    {
      "cell_type": "code",
      "source": [
        "from pathlib import Path\n",
        "\n",
        "#1. Modelin klasörün oluşturacağız.\n",
        "MODEL_PATH = Path(\"models\")\n",
        "MODEL_PATH.mkdir(parents=True, exist_ok=True)\n",
        "\n",
        "#2. Modelin yolunu oluşturalım\n",
        "MODEL_NAME = \"01_pytorch_model_V2.pth\"\n",
        "MODEL_SAVE_PATH = MODEL_PATH / MODEL_NAME\n",
        "\n",
        "#3. Modeli state dict ile kaydetme\n",
        "print(f\"Modeli Kaydet: {MODEL_SAVE_PATH}\")\n",
        "torch.save(obj=model_1.state_dict(), f=MODEL_SAVE_PATH)"
      ],
      "metadata": {
        "colab": {
          "base_uri": "https://localhost:8080/"
        },
        "id": "58RJP4zSNmqa",
        "outputId": "aea84765-4608-4e1c-e94c-e2015a502835"
      },
      "execution_count": 195,
      "outputs": [
        {
          "output_type": "stream",
          "name": "stdout",
          "text": [
            "Modeli Kaydet: models/01_pytorch_model_V2.pth\n"
          ]
        }
      ]
    },
    {
      "cell_type": "markdown",
      "source": [
        "**Sıra Yükleme İşleminde**"
      ],
      "metadata": {
        "id": "OuTZQqNvOKvz"
      }
    },
    {
      "cell_type": "code",
      "source": [
        "#Yükleme Yapalım yani yeni bir nesne ile başlatalım.\n",
        "\n",
        "loaded_model_1 = LinearRegressionModelV2()\n",
        "\n",
        "#Modeli model_1'den alıyoruz.\n",
        "loaded_model_1.load_state_dict(torch.load(MODEL_SAVE_PATH))\n",
        "\n",
        "#Cihazını ayarlayalım.\n",
        "loaded_model_1.to(device)\n",
        "\n",
        "#Yazdıralım\n",
        "print(loaded_model_1.state_dict())\n",
        "\n",
        "#Son kez kontrol edelim.\n",
        "loaded_model_1.eval()\n",
        "with torch.inference_mode():\n",
        "\tloaded_model_1_preds = loaded_model_1(X_test)\n",
        "y_preds == loaded_model_1_preds"
      ],
      "metadata": {
        "colab": {
          "base_uri": "https://localhost:8080/"
        },
        "id": "fE7k2kPTOS3l",
        "outputId": "65ab2372-deef-442a-e744-5ad3cdf354c8"
      },
      "execution_count": 196,
      "outputs": [
        {
          "output_type": "stream",
          "name": "stdout",
          "text": [
            "OrderedDict([('linear_layer.weight', tensor([[0.9190]])), ('linear_layer.bias', tensor([0.4463]))])\n"
          ]
        },
        {
          "output_type": "stream",
          "name": "stderr",
          "text": [
            "<ipython-input-196-1316299acdf4>:6: FutureWarning: You are using `torch.load` with `weights_only=False` (the current default value), which uses the default pickle module implicitly. It is possible to construct malicious pickle data which will execute arbitrary code during unpickling (See https://github.com/pytorch/pytorch/blob/main/SECURITY.md#untrusted-models for more details). In a future release, the default value for `weights_only` will be flipped to `True`. This limits the functions that could be executed during unpickling. Arbitrary objects will no longer be allowed to be loaded via this mode unless they are explicitly allowlisted by the user via `torch.serialization.add_safe_globals`. We recommend you start setting `weights_only=True` for any use case where you don't have full control of the loaded file. Please open an issue on GitHub for any issues related to this experimental feature.\n",
            "  loaded_model_1.load_state_dict(torch.load(MODEL_SAVE_PATH))\n"
          ]
        },
        {
          "output_type": "execute_result",
          "data": {
            "text/plain": [
              "tensor([[True],\n",
              "        [True],\n",
              "        [True],\n",
              "        [True]])"
            ]
          },
          "metadata": {},
          "execution_count": 196
        }
      ]
    }
  ]
}