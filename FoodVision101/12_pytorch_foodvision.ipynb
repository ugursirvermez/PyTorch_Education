{
  "nbformat": 4,
  "nbformat_minor": 0,
  "metadata": {
    "colab": {
      "provenance": [],
      "gpuType": "A100",
      "authorship_tag": "ABX9TyNfkqrsNOhLQ2laQ5ThPNY+",
      "include_colab_link": true
    },
    "kernelspec": {
      "name": "python3",
      "display_name": "Python 3"
    },
    "language_info": {
      "name": "python"
    },
    "accelerator": "GPU",
    "widgets": {
      "application/vnd.jupyter.widget-state+json": {
        "bf46d5bac8cb43abbc85adaca2a45e73": {
          "model_module": "@jupyter-widgets/controls",
          "model_name": "HBoxModel",
          "model_module_version": "1.5.0",
          "state": {
            "_dom_classes": [],
            "_model_module": "@jupyter-widgets/controls",
            "_model_module_version": "1.5.0",
            "_model_name": "HBoxModel",
            "_view_count": null,
            "_view_module": "@jupyter-widgets/controls",
            "_view_module_version": "1.5.0",
            "_view_name": "HBoxView",
            "box_style": "",
            "children": [
              "IPY_MODEL_53ad05d77a084a6ca15637675841bc84",
              "IPY_MODEL_0e58c8b6f9e240159f571cb5e36da9c8",
              "IPY_MODEL_bc37c60f30444d89922e14654fa9777a"
            ],
            "layout": "IPY_MODEL_003f9c4471eb450f882700ca9d89eaa6"
          }
        },
        "53ad05d77a084a6ca15637675841bc84": {
          "model_module": "@jupyter-widgets/controls",
          "model_name": "HTMLModel",
          "model_module_version": "1.5.0",
          "state": {
            "_dom_classes": [],
            "_model_module": "@jupyter-widgets/controls",
            "_model_module_version": "1.5.0",
            "_model_name": "HTMLModel",
            "_view_count": null,
            "_view_module": "@jupyter-widgets/controls",
            "_view_module_version": "1.5.0",
            "_view_name": "HTMLView",
            "description": "",
            "description_tooltip": null,
            "layout": "IPY_MODEL_07031b02b0064a898ed9277b31ded604",
            "placeholder": "​",
            "style": "IPY_MODEL_246a732bb042412d9ffaca4dd9e44b1a",
            "value": "100%"
          }
        },
        "0e58c8b6f9e240159f571cb5e36da9c8": {
          "model_module": "@jupyter-widgets/controls",
          "model_name": "FloatProgressModel",
          "model_module_version": "1.5.0",
          "state": {
            "_dom_classes": [],
            "_model_module": "@jupyter-widgets/controls",
            "_model_module_version": "1.5.0",
            "_model_name": "FloatProgressModel",
            "_view_count": null,
            "_view_module": "@jupyter-widgets/controls",
            "_view_module_version": "1.5.0",
            "_view_name": "ProgressView",
            "bar_style": "success",
            "description": "",
            "description_tooltip": null,
            "layout": "IPY_MODEL_b8a5b0986a5246b6a0dcb52ec328c2ff",
            "max": 100,
            "min": 0,
            "orientation": "horizontal",
            "style": "IPY_MODEL_7db77155b19348639d20f62f446a985b",
            "value": 100
          }
        },
        "bc37c60f30444d89922e14654fa9777a": {
          "model_module": "@jupyter-widgets/controls",
          "model_name": "HTMLModel",
          "model_module_version": "1.5.0",
          "state": {
            "_dom_classes": [],
            "_model_module": "@jupyter-widgets/controls",
            "_model_module_version": "1.5.0",
            "_model_name": "HTMLModel",
            "_view_count": null,
            "_view_module": "@jupyter-widgets/controls",
            "_view_module_version": "1.5.0",
            "_view_name": "HTMLView",
            "description": "",
            "description_tooltip": null,
            "layout": "IPY_MODEL_739e162f47454b4f8068da948fafa93e",
            "placeholder": "​",
            "style": "IPY_MODEL_3e54e2adcb45459b8ae61070faac7126",
            "value": " 100/100 [4:47:10&lt;00:00, 168.63s/it]"
          }
        },
        "003f9c4471eb450f882700ca9d89eaa6": {
          "model_module": "@jupyter-widgets/base",
          "model_name": "LayoutModel",
          "model_module_version": "1.2.0",
          "state": {
            "_model_module": "@jupyter-widgets/base",
            "_model_module_version": "1.2.0",
            "_model_name": "LayoutModel",
            "_view_count": null,
            "_view_module": "@jupyter-widgets/base",
            "_view_module_version": "1.2.0",
            "_view_name": "LayoutView",
            "align_content": null,
            "align_items": null,
            "align_self": null,
            "border": null,
            "bottom": null,
            "display": null,
            "flex": null,
            "flex_flow": null,
            "grid_area": null,
            "grid_auto_columns": null,
            "grid_auto_flow": null,
            "grid_auto_rows": null,
            "grid_column": null,
            "grid_gap": null,
            "grid_row": null,
            "grid_template_areas": null,
            "grid_template_columns": null,
            "grid_template_rows": null,
            "height": null,
            "justify_content": null,
            "justify_items": null,
            "left": null,
            "margin": null,
            "max_height": null,
            "max_width": null,
            "min_height": null,
            "min_width": null,
            "object_fit": null,
            "object_position": null,
            "order": null,
            "overflow": null,
            "overflow_x": null,
            "overflow_y": null,
            "padding": null,
            "right": null,
            "top": null,
            "visibility": null,
            "width": null
          }
        },
        "07031b02b0064a898ed9277b31ded604": {
          "model_module": "@jupyter-widgets/base",
          "model_name": "LayoutModel",
          "model_module_version": "1.2.0",
          "state": {
            "_model_module": "@jupyter-widgets/base",
            "_model_module_version": "1.2.0",
            "_model_name": "LayoutModel",
            "_view_count": null,
            "_view_module": "@jupyter-widgets/base",
            "_view_module_version": "1.2.0",
            "_view_name": "LayoutView",
            "align_content": null,
            "align_items": null,
            "align_self": null,
            "border": null,
            "bottom": null,
            "display": null,
            "flex": null,
            "flex_flow": null,
            "grid_area": null,
            "grid_auto_columns": null,
            "grid_auto_flow": null,
            "grid_auto_rows": null,
            "grid_column": null,
            "grid_gap": null,
            "grid_row": null,
            "grid_template_areas": null,
            "grid_template_columns": null,
            "grid_template_rows": null,
            "height": null,
            "justify_content": null,
            "justify_items": null,
            "left": null,
            "margin": null,
            "max_height": null,
            "max_width": null,
            "min_height": null,
            "min_width": null,
            "object_fit": null,
            "object_position": null,
            "order": null,
            "overflow": null,
            "overflow_x": null,
            "overflow_y": null,
            "padding": null,
            "right": null,
            "top": null,
            "visibility": null,
            "width": null
          }
        },
        "246a732bb042412d9ffaca4dd9e44b1a": {
          "model_module": "@jupyter-widgets/controls",
          "model_name": "DescriptionStyleModel",
          "model_module_version": "1.5.0",
          "state": {
            "_model_module": "@jupyter-widgets/controls",
            "_model_module_version": "1.5.0",
            "_model_name": "DescriptionStyleModel",
            "_view_count": null,
            "_view_module": "@jupyter-widgets/base",
            "_view_module_version": "1.2.0",
            "_view_name": "StyleView",
            "description_width": ""
          }
        },
        "b8a5b0986a5246b6a0dcb52ec328c2ff": {
          "model_module": "@jupyter-widgets/base",
          "model_name": "LayoutModel",
          "model_module_version": "1.2.0",
          "state": {
            "_model_module": "@jupyter-widgets/base",
            "_model_module_version": "1.2.0",
            "_model_name": "LayoutModel",
            "_view_count": null,
            "_view_module": "@jupyter-widgets/base",
            "_view_module_version": "1.2.0",
            "_view_name": "LayoutView",
            "align_content": null,
            "align_items": null,
            "align_self": null,
            "border": null,
            "bottom": null,
            "display": null,
            "flex": null,
            "flex_flow": null,
            "grid_area": null,
            "grid_auto_columns": null,
            "grid_auto_flow": null,
            "grid_auto_rows": null,
            "grid_column": null,
            "grid_gap": null,
            "grid_row": null,
            "grid_template_areas": null,
            "grid_template_columns": null,
            "grid_template_rows": null,
            "height": null,
            "justify_content": null,
            "justify_items": null,
            "left": null,
            "margin": null,
            "max_height": null,
            "max_width": null,
            "min_height": null,
            "min_width": null,
            "object_fit": null,
            "object_position": null,
            "order": null,
            "overflow": null,
            "overflow_x": null,
            "overflow_y": null,
            "padding": null,
            "right": null,
            "top": null,
            "visibility": null,
            "width": null
          }
        },
        "7db77155b19348639d20f62f446a985b": {
          "model_module": "@jupyter-widgets/controls",
          "model_name": "ProgressStyleModel",
          "model_module_version": "1.5.0",
          "state": {
            "_model_module": "@jupyter-widgets/controls",
            "_model_module_version": "1.5.0",
            "_model_name": "ProgressStyleModel",
            "_view_count": null,
            "_view_module": "@jupyter-widgets/base",
            "_view_module_version": "1.2.0",
            "_view_name": "StyleView",
            "bar_color": null,
            "description_width": ""
          }
        },
        "739e162f47454b4f8068da948fafa93e": {
          "model_module": "@jupyter-widgets/base",
          "model_name": "LayoutModel",
          "model_module_version": "1.2.0",
          "state": {
            "_model_module": "@jupyter-widgets/base",
            "_model_module_version": "1.2.0",
            "_model_name": "LayoutModel",
            "_view_count": null,
            "_view_module": "@jupyter-widgets/base",
            "_view_module_version": "1.2.0",
            "_view_name": "LayoutView",
            "align_content": null,
            "align_items": null,
            "align_self": null,
            "border": null,
            "bottom": null,
            "display": null,
            "flex": null,
            "flex_flow": null,
            "grid_area": null,
            "grid_auto_columns": null,
            "grid_auto_flow": null,
            "grid_auto_rows": null,
            "grid_column": null,
            "grid_gap": null,
            "grid_row": null,
            "grid_template_areas": null,
            "grid_template_columns": null,
            "grid_template_rows": null,
            "height": null,
            "justify_content": null,
            "justify_items": null,
            "left": null,
            "margin": null,
            "max_height": null,
            "max_width": null,
            "min_height": null,
            "min_width": null,
            "object_fit": null,
            "object_position": null,
            "order": null,
            "overflow": null,
            "overflow_x": null,
            "overflow_y": null,
            "padding": null,
            "right": null,
            "top": null,
            "visibility": null,
            "width": null
          }
        },
        "3e54e2adcb45459b8ae61070faac7126": {
          "model_module": "@jupyter-widgets/controls",
          "model_name": "DescriptionStyleModel",
          "model_module_version": "1.5.0",
          "state": {
            "_model_module": "@jupyter-widgets/controls",
            "_model_module_version": "1.5.0",
            "_model_name": "DescriptionStyleModel",
            "_view_count": null,
            "_view_module": "@jupyter-widgets/base",
            "_view_module_version": "1.2.0",
            "_view_name": "StyleView",
            "description_width": ""
          }
        }
      }
    }
  },
  "cells": [
    {
      "cell_type": "markdown",
      "metadata": {
        "id": "view-in-github",
        "colab_type": "text"
      },
      "source": [
        "<a href=\"https://colab.research.google.com/github/ugursirvermez/FoodVisionApp/blob/main/12_pytorch_foodvision.ipynb\" target=\"_parent\"><img src=\"https://colab.research.google.com/assets/colab-badge.svg\" alt=\"Open In Colab\"/></a>"
      ]
    },
    {
      "cell_type": "markdown",
      "source": [
        "#KURULUM"
      ],
      "metadata": {
        "id": "8sXaNQnZfcXL"
      }
    },
    {
      "cell_type": "code",
      "execution_count": 1,
      "metadata": {
        "colab": {
          "base_uri": "https://localhost:8080/"
        },
        "id": "bbndUt1lfYU1",
        "outputId": "c21e2f25-36ae-4010-8d65-7a2d73f9ce9e"
      },
      "outputs": [
        {
          "output_type": "stream",
          "name": "stdout",
          "text": [
            "[INFO] torch/torchvision en güncel sürümü ile yükleniyor...\n",
            "Looking in indexes: https://pypi.org/simple, https://download.pytorch.org/whl/cu113\n",
            "Requirement already satisfied: torch in /usr/local/lib/python3.11/dist-packages (2.6.0)\n",
            "Requirement already satisfied: torchvision in /usr/local/lib/python3.11/dist-packages (0.21.0)\n",
            "Requirement already satisfied: torchaudio in /usr/local/lib/python3.11/dist-packages (2.6.0)\n",
            "Requirement already satisfied: filelock in /usr/local/lib/python3.11/dist-packages (from torch) (3.17.0)\n",
            "Requirement already satisfied: typing-extensions>=4.10.0 in /usr/local/lib/python3.11/dist-packages (from torch) (4.12.2)\n",
            "Requirement already satisfied: networkx in /usr/local/lib/python3.11/dist-packages (from torch) (3.4.2)\n",
            "Requirement already satisfied: jinja2 in /usr/local/lib/python3.11/dist-packages (from torch) (3.1.5)\n",
            "Requirement already satisfied: fsspec in /usr/local/lib/python3.11/dist-packages (from torch) (2024.10.0)\n",
            "Requirement already satisfied: nvidia-cuda-nvrtc-cu12==12.4.127 in /usr/local/lib/python3.11/dist-packages (from torch) (12.4.127)\n",
            "Requirement already satisfied: nvidia-cuda-runtime-cu12==12.4.127 in /usr/local/lib/python3.11/dist-packages (from torch) (12.4.127)\n",
            "Requirement already satisfied: nvidia-cuda-cupti-cu12==12.4.127 in /usr/local/lib/python3.11/dist-packages (from torch) (12.4.127)\n",
            "Requirement already satisfied: nvidia-cudnn-cu12==9.1.0.70 in /usr/local/lib/python3.11/dist-packages (from torch) (9.1.0.70)\n",
            "Requirement already satisfied: nvidia-cublas-cu12==12.4.5.8 in /usr/local/lib/python3.11/dist-packages (from torch) (12.4.5.8)\n",
            "Requirement already satisfied: nvidia-cufft-cu12==11.2.1.3 in /usr/local/lib/python3.11/dist-packages (from torch) (11.2.1.3)\n",
            "Requirement already satisfied: nvidia-curand-cu12==10.3.5.147 in /usr/local/lib/python3.11/dist-packages (from torch) (10.3.5.147)\n",
            "Requirement already satisfied: nvidia-cusolver-cu12==11.6.1.9 in /usr/local/lib/python3.11/dist-packages (from torch) (11.6.1.9)\n",
            "Requirement already satisfied: nvidia-cusparse-cu12==12.3.1.170 in /usr/local/lib/python3.11/dist-packages (from torch) (12.3.1.170)\n",
            "Requirement already satisfied: nvidia-cusparselt-cu12==0.6.2 in /usr/local/lib/python3.11/dist-packages (from torch) (0.6.2)\n",
            "Requirement already satisfied: nvidia-nccl-cu12==2.21.5 in /usr/local/lib/python3.11/dist-packages (from torch) (2.21.5)\n",
            "Requirement already satisfied: nvidia-nvtx-cu12==12.4.127 in /usr/local/lib/python3.11/dist-packages (from torch) (12.4.127)\n",
            "Requirement already satisfied: nvidia-nvjitlink-cu12==12.4.127 in /usr/local/lib/python3.11/dist-packages (from torch) (12.4.127)\n",
            "Requirement already satisfied: triton==3.2.0 in /usr/local/lib/python3.11/dist-packages (from torch) (3.2.0)\n",
            "Requirement already satisfied: sympy==1.13.1 in /usr/local/lib/python3.11/dist-packages (from torch) (1.13.1)\n",
            "Requirement already satisfied: mpmath<1.4,>=1.1.0 in /usr/local/lib/python3.11/dist-packages (from sympy==1.13.1->torch) (1.3.0)\n",
            "Requirement already satisfied: numpy in /usr/local/lib/python3.11/dist-packages (from torchvision) (1.26.4)\n",
            "Requirement already satisfied: pillow!=8.3.*,>=5.3.0 in /usr/local/lib/python3.11/dist-packages (from torchvision) (11.1.0)\n",
            "Requirement already satisfied: MarkupSafe>=2.0 in /usr/local/lib/python3.11/dist-packages (from jinja2->torch) (3.0.2)\n",
            "torch: 2.6.0+cu124\n",
            "torchvision: 0.21.0+cu124\n",
            "data/pizza_steak_sushi dosya zaten var.\n",
            "İndiriliyor...\n",
            "Sıkıştırılmış dosyada çıkarılıyor...\n",
            "Train data:\n",
            "Dataset ImageFolder\n",
            "    Number of datapoints: 225\n",
            "    Root location: data/pizza_steak_sushi/train\n",
            "    StandardTransform\n",
            "Transform: Compose(\n",
            "               Resize(size=(64, 64), interpolation=bilinear, max_size=None, antialias=True)\n",
            "               ToTensor()\n",
            "           )\n",
            "Test data:\n",
            "Dataset ImageFolder\n",
            "    Number of datapoints: 75\n",
            "    Root location: data/pizza_steak_sushi/test\n",
            "    StandardTransform\n",
            "Transform: Compose(\n",
            "               Resize(size=(64, 64), interpolation=bilinear, max_size=None, antialias=True)\n",
            "               ToTensor()\n",
            "           )\n"
          ]
        }
      ],
      "source": [
        "# torch 1.12+ ve torchvision 0.13+ üzeri olmalı\n",
        "try:\n",
        "    import torch\n",
        "    import torchvision\n",
        "    assert int(torch.__version__.split(\".\")[1]) >= 12, \"torch version 1.12+ üzeri olmalı\"\n",
        "    assert int(torchvision.__version__.split(\".\")[1]) >= 13, \"torchvision 0.13+ üzeri olmalı\"\n",
        "    print(f\"torch: {torch.__version__}\")\n",
        "    print(f\"torchvision: {torchvision.__version__}\")\n",
        "except:\n",
        "    print(f\"[INFO] torch/torchvision en güncel sürümü ile yükleniyor...\")\n",
        "    !pip3 install -U torch torchvision torchaudio --extra-index-url https://download.pytorch.org/whl/cu113\n",
        "    import torch\n",
        "    import torchvision\n",
        "    print(f\"torch: {torch.__version__}\")\n",
        "    print(f\"torchvision: {torchvision.__version__}\")\n",
        "\n",
        "import matplotlib.pyplot as plt\n",
        "import torch\n",
        "import torchvision\n",
        "\n",
        "from torch import nn\n",
        "from torchvision import transforms\n",
        "\n",
        "# Trochinfo Kurulumu\n",
        "try:\n",
        "    from torchinfo import summary\n",
        "except:\n",
        "    print(\"[INFO] Torchinfo bulunamadı, yükleniyor...\")\n",
        "    !pip install -q torchinfo\n",
        "    from torchinfo import summary\n",
        "\n",
        "# Github'tan dosyalar indirilsin.\n",
        "try:\n",
        "    from Module_Files import data_setup, engine\n",
        "    from helper_functions import download_data, set_seeds, plot_loss_curves\n",
        "except:\n",
        "    # Module_Files adlı dosyalar\n",
        "    print(\"[INFO] Github dosyaları indiriliyor.\")\n",
        "    !git clone https://github.com/ugursirvermez/PyTorch_Education/\n",
        "    !mv PyTorch_Education/Module_Files .\n",
        "    !rm -rf PyTorch_Education\n",
        "    from Module_Files import data_setup, engine\n",
        "\n",
        "    # MRDBOURKE'un Helper_Functions'ı\n",
        "    !git clone https://github.com/mrdbourke/pytorch-deep-learning\n",
        "    !mv pytorch-deep-learning/going_modular .\n",
        "    !mv pytorch-deep-learning/helper_functions.py . # Helper_Functions by mrdbourke\n",
        "    !rm -rf pytorch-deep-learning\n",
        "    from helper_functions import download_data, set_seeds, plot_loss_curves\n"
      ]
    },
    {
      "cell_type": "code",
      "source": [
        "device = \"cuda\" if torch.cuda.is_available() else \"cpu\""
      ],
      "metadata": {
        "id": "zJUxiYrhfmhr"
      },
      "execution_count": 2,
      "outputs": []
    },
    {
      "cell_type": "code",
      "source": [
        "%%writefile demo/foodvision_big/model.py\n",
        "import torch\n",
        "import torchvision\n",
        "\n",
        "from torch import nn\n",
        "\n",
        "#EffnetB2 Modeli Oluşturma\n",
        "def create_effnetb2_model(num_classes:int=3,\n",
        "                          seed:int=42):\n",
        "\n",
        "    # 1, 2, 3. EffNetB2 eğitilmiş weights, transforms ve model\n",
        "    weights = torchvision.models.EfficientNet_B2_Weights.DEFAULT\n",
        "    transforms = weights.transforms()\n",
        "    model = torchvision.models.efficientnet_b2(weights=weights)\n",
        "\n",
        "    # 4. Temel Katmanları Dondurma\n",
        "    for param in model.parameters():\n",
        "        param.requires_grad = False\n",
        "\n",
        "    # 5. Tekrarlanabilirlik için sınıflandırma başlığını rastgele seed atma\n",
        "    torch.manual_seed(seed)\n",
        "    model.classifier = nn.Sequential(\n",
        "        nn.Dropout(p=0.3, inplace=True),\n",
        "        nn.Linear(in_features=1408, out_features=num_classes),\n",
        "    )\n",
        "\n",
        "    return model, transforms"
      ],
      "metadata": {
        "id": "IkdpuLJthKA_",
        "colab": {
          "base_uri": "https://localhost:8080/"
        },
        "outputId": "3467857f-d092-4d85-fbdf-e081272636bd"
      },
      "execution_count": 3,
      "outputs": [
        {
          "output_type": "stream",
          "name": "stdout",
          "text": [
            "Overwriting demo/foodvision_big/model.py\n"
          ]
        }
      ]
    },
    {
      "cell_type": "code",
      "source": [
        "#EffnetB2 Modeli Oluşturma\n",
        "def create_effnetb2_model(num_classes:int=3,\n",
        "                          seed:int=42):\n",
        "\n",
        "    # 1, 2, 3. EffNetB2 eğitilmiş weights, transforms ve model\n",
        "    weights = torchvision.models.EfficientNet_B2_Weights.DEFAULT\n",
        "    transforms = weights.transforms()\n",
        "    model = torchvision.models.efficientnet_b2(weights=weights)\n",
        "\n",
        "    # 4. Temel Katmanları Dondurma\n",
        "    for param in model.parameters():\n",
        "        param.requires_grad = False\n",
        "\n",
        "    # 5. Tekrarlanabilirlik için sınıflandırma başlığını rastgele seed atma\n",
        "    torch.manual_seed(seed)\n",
        "    model.classifier = nn.Sequential(\n",
        "        nn.Dropout(p=0.3, inplace=True),\n",
        "        nn.Linear(in_features=1408, out_features=num_classes),\n",
        "    )\n",
        "\n",
        "    return model, transforms"
      ],
      "metadata": {
        "id": "5YH_XmbP0hNO"
      },
      "execution_count": 4,
      "outputs": []
    },
    {
      "cell_type": "code",
      "source": [
        "# EffNetB2 modeli 101 sınıflı -> Food101\n",
        "effnetb2_food101, effnetb2_transforms = create_effnetb2_model(num_classes=101)\n",
        "\n",
        "# # Modeli yazdıralım.\n",
        "summary(effnetb2_food101,\n",
        "        input_size=(1, 3, 224, 224),\n",
        "        col_names=[\"input_size\", \"output_size\", \"num_params\", \"trainable\"],\n",
        "        col_width=20,\n",
        "        row_settings=[\"var_names\"])"
      ],
      "metadata": {
        "colab": {
          "base_uri": "https://localhost:8080/"
        },
        "id": "y_26WeDMfr-F",
        "outputId": "2e0fd48d-5f4f-4c2d-8e38-d89556e76ea5"
      },
      "execution_count": 5,
      "outputs": [
        {
          "output_type": "execute_result",
          "data": {
            "text/plain": [
              "============================================================================================================================================\n",
              "Layer (type (var_name))                                      Input Shape          Output Shape         Param #              Trainable\n",
              "============================================================================================================================================\n",
              "EfficientNet (EfficientNet)                                  [1, 3, 224, 224]     [1, 101]             --                   Partial\n",
              "├─Sequential (features)                                      [1, 3, 224, 224]     [1, 1408, 7, 7]      --                   False\n",
              "│    └─Conv2dNormActivation (0)                              [1, 3, 224, 224]     [1, 32, 112, 112]    --                   False\n",
              "│    │    └─Conv2d (0)                                       [1, 3, 224, 224]     [1, 32, 112, 112]    (864)                False\n",
              "│    │    └─BatchNorm2d (1)                                  [1, 32, 112, 112]    [1, 32, 112, 112]    (64)                 False\n",
              "│    │    └─SiLU (2)                                         [1, 32, 112, 112]    [1, 32, 112, 112]    --                   --\n",
              "│    └─Sequential (1)                                        [1, 32, 112, 112]    [1, 16, 112, 112]    --                   False\n",
              "│    │    └─MBConv (0)                                       [1, 32, 112, 112]    [1, 16, 112, 112]    (1,448)              False\n",
              "│    │    └─MBConv (1)                                       [1, 16, 112, 112]    [1, 16, 112, 112]    (612)                False\n",
              "│    └─Sequential (2)                                        [1, 16, 112, 112]    [1, 24, 56, 56]      --                   False\n",
              "│    │    └─MBConv (0)                                       [1, 16, 112, 112]    [1, 24, 56, 56]      (6,004)              False\n",
              "│    │    └─MBConv (1)                                       [1, 24, 56, 56]      [1, 24, 56, 56]      (10,710)             False\n",
              "│    │    └─MBConv (2)                                       [1, 24, 56, 56]      [1, 24, 56, 56]      (10,710)             False\n",
              "│    └─Sequential (3)                                        [1, 24, 56, 56]      [1, 48, 28, 28]      --                   False\n",
              "│    │    └─MBConv (0)                                       [1, 24, 56, 56]      [1, 48, 28, 28]      (16,518)             False\n",
              "│    │    └─MBConv (1)                                       [1, 48, 28, 28]      [1, 48, 28, 28]      (43,308)             False\n",
              "│    │    └─MBConv (2)                                       [1, 48, 28, 28]      [1, 48, 28, 28]      (43,308)             False\n",
              "│    └─Sequential (4)                                        [1, 48, 28, 28]      [1, 88, 14, 14]      --                   False\n",
              "│    │    └─MBConv (0)                                       [1, 48, 28, 28]      [1, 88, 14, 14]      (50,300)             False\n",
              "│    │    └─MBConv (1)                                       [1, 88, 14, 14]      [1, 88, 14, 14]      (123,750)            False\n",
              "│    │    └─MBConv (2)                                       [1, 88, 14, 14]      [1, 88, 14, 14]      (123,750)            False\n",
              "│    │    └─MBConv (3)                                       [1, 88, 14, 14]      [1, 88, 14, 14]      (123,750)            False\n",
              "│    └─Sequential (5)                                        [1, 88, 14, 14]      [1, 120, 14, 14]     --                   False\n",
              "│    │    └─MBConv (0)                                       [1, 88, 14, 14]      [1, 120, 14, 14]     (149,158)            False\n",
              "│    │    └─MBConv (1)                                       [1, 120, 14, 14]     [1, 120, 14, 14]     (237,870)            False\n",
              "│    │    └─MBConv (2)                                       [1, 120, 14, 14]     [1, 120, 14, 14]     (237,870)            False\n",
              "│    │    └─MBConv (3)                                       [1, 120, 14, 14]     [1, 120, 14, 14]     (237,870)            False\n",
              "│    └─Sequential (6)                                        [1, 120, 14, 14]     [1, 208, 7, 7]       --                   False\n",
              "│    │    └─MBConv (0)                                       [1, 120, 14, 14]     [1, 208, 7, 7]       (301,406)            False\n",
              "│    │    └─MBConv (1)                                       [1, 208, 7, 7]       [1, 208, 7, 7]       (686,868)            False\n",
              "│    │    └─MBConv (2)                                       [1, 208, 7, 7]       [1, 208, 7, 7]       (686,868)            False\n",
              "│    │    └─MBConv (3)                                       [1, 208, 7, 7]       [1, 208, 7, 7]       (686,868)            False\n",
              "│    │    └─MBConv (4)                                       [1, 208, 7, 7]       [1, 208, 7, 7]       (686,868)            False\n",
              "│    └─Sequential (7)                                        [1, 208, 7, 7]       [1, 352, 7, 7]       --                   False\n",
              "│    │    └─MBConv (0)                                       [1, 208, 7, 7]       [1, 352, 7, 7]       (846,900)            False\n",
              "│    │    └─MBConv (1)                                       [1, 352, 7, 7]       [1, 352, 7, 7]       (1,888,920)          False\n",
              "│    └─Conv2dNormActivation (8)                              [1, 352, 7, 7]       [1, 1408, 7, 7]      --                   False\n",
              "│    │    └─Conv2d (0)                                       [1, 352, 7, 7]       [1, 1408, 7, 7]      (495,616)            False\n",
              "│    │    └─BatchNorm2d (1)                                  [1, 1408, 7, 7]      [1, 1408, 7, 7]      (2,816)              False\n",
              "│    │    └─SiLU (2)                                         [1, 1408, 7, 7]      [1, 1408, 7, 7]      --                   --\n",
              "├─AdaptiveAvgPool2d (avgpool)                                [1, 1408, 7, 7]      [1, 1408, 1, 1]      --                   --\n",
              "├─Sequential (classifier)                                    [1, 1408]            [1, 101]             --                   True\n",
              "│    └─Dropout (0)                                           [1, 1408]            [1, 1408]            --                   --\n",
              "│    └─Linear (1)                                            [1, 1408]            [1, 101]             142,309              True\n",
              "============================================================================================================================================\n",
              "Total params: 7,843,303\n",
              "Trainable params: 142,309\n",
              "Non-trainable params: 7,700,994\n",
              "Total mult-adds (Units.MEGABYTES): 657.78\n",
              "============================================================================================================================================\n",
              "Input size (MB): 0.60\n",
              "Forward/backward pass size (MB): 156.80\n",
              "Params size (MB): 31.37\n",
              "Estimated Total Size (MB): 188.77\n",
              "============================================================================================================================================"
            ]
          },
          "metadata": {},
          "execution_count": 5
        }
      ]
    },
    {
      "cell_type": "code",
      "source": [
        "# Food101 eğitimi için transform'lar\n",
        "food101_train_transforms = torchvision.transforms.Compose([\n",
        "    torchvision.transforms.TrivialAugmentWide(),\n",
        "    effnetb2_transforms,\n",
        "])\n",
        "\n",
        "print(f\"Training transforms:\\n{food101_train_transforms}\\n\")\n",
        "print(f\"Testing transforms:\\n{effnetb2_transforms}\")"
      ],
      "metadata": {
        "colab": {
          "base_uri": "https://localhost:8080/"
        },
        "id": "Unqb1OgOhMxL",
        "outputId": "007e84b2-8e92-4ffe-a738-9f60f4a05982"
      },
      "execution_count": 6,
      "outputs": [
        {
          "output_type": "stream",
          "name": "stdout",
          "text": [
            "Training transforms:\n",
            "Compose(\n",
            "    TrivialAugmentWide(num_magnitude_bins=31, interpolation=InterpolationMode.NEAREST, fill=None)\n",
            "    ImageClassification(\n",
            "    crop_size=[288]\n",
            "    resize_size=[288]\n",
            "    mean=[0.485, 0.456, 0.406]\n",
            "    std=[0.229, 0.224, 0.225]\n",
            "    interpolation=InterpolationMode.BICUBIC\n",
            ")\n",
            ")\n",
            "\n",
            "Testing transforms:\n",
            "ImageClassification(\n",
            "    crop_size=[288]\n",
            "    resize_size=[288]\n",
            "    mean=[0.485, 0.456, 0.406]\n",
            "    std=[0.229, 0.224, 0.225]\n",
            "    interpolation=InterpolationMode.BICUBIC\n",
            ")\n"
          ]
        }
      ]
    },
    {
      "cell_type": "code",
      "source": [
        "from torchvision import datasets\n",
        "\n",
        "# Verileri saklayacağımız bir yol oluşturalım.\n",
        "from pathlib import Path\n",
        "data_dir = Path(\"data\")\n",
        "\n",
        "# Eğtilmiş veriyi alalım (~750 resim x 101 etiket)\n",
        "train_data = datasets.Food101(root=data_dir, # dosyaların indirileceği klasör\n",
        "                              split=\"train\", # dataseti ayıracak etiket\n",
        "                              transform=food101_train_transforms, # tansform\n",
        "                              download=True) # indirmek istiyor muyuz?\n",
        "\n",
        "# Test edilecek veriyi alalım (~250 resim x 101 etiket)\n",
        "test_data = datasets.Food101(root=data_dir,\n",
        "                             split=\"test\",\n",
        "                             transform=effnetb2_transforms, #EffNetB2 transform\n",
        "                             download=True)"
      ],
      "metadata": {
        "colab": {
          "base_uri": "https://localhost:8080/"
        },
        "id": "g2_zJ_cnhU1N",
        "outputId": "763a2c4d-9fbf-4f9f-c591-e3f24a1f9d56"
      },
      "execution_count": 7,
      "outputs": [
        {
          "output_type": "stream",
          "name": "stderr",
          "text": [
            "100%|██████████| 5.00G/5.00G [02:56<00:00, 28.4MB/s]\n"
          ]
        }
      ]
    },
    {
      "cell_type": "code",
      "source": [
        "# Food101 veri setindeki etiketlere bakalım\n",
        "food101_class_names = train_data.classes\n",
        "\n",
        "# İlk 10 taneyi yazdıralım.\n",
        "food101_class_names[:10]"
      ],
      "metadata": {
        "colab": {
          "base_uri": "https://localhost:8080/"
        },
        "id": "RRLWfZSYheEf",
        "outputId": "e2c199f0-b370-42d8-eb50-d55464d959ed"
      },
      "execution_count": 8,
      "outputs": [
        {
          "output_type": "execute_result",
          "data": {
            "text/plain": [
              "['apple_pie',\n",
              " 'baby_back_ribs',\n",
              " 'baklava',\n",
              " 'beef_carpaccio',\n",
              " 'beef_tartare',\n",
              " 'beet_salad',\n",
              " 'beignets',\n",
              " 'bibimbap',\n",
              " 'bread_pudding',\n",
              " 'breakfast_burrito']"
            ]
          },
          "metadata": {},
          "execution_count": 8
        }
      ]
    },
    {
      "cell_type": "code",
      "source": [
        "# %80 eğitilmiş, %20 test verisi olarak ikiye ayıralım:\n",
        "def split_dataset(dataset:torchvision.datasets, split_size:float=0.2, seed:int=42):\n",
        "\n",
        "    # Orijinal veri setinin uzunluğuna göre veri setini istenilen boyutta ayıralım.\n",
        "    length_1 = int(len(dataset) * split_size) # istenilen uzunluk\n",
        "    length_2 = len(dataset) - length_1 # geriye kalan uzunluk\n",
        "\n",
        "    # Yazdır\n",
        "    print(f\"[INFO] Veri Setinin uzunluğu: {len(dataset)} paylar olarak ayrılan uzunluklar: {length_1} ({int(split_size*100)}%), {length_2} ({int((1-split_size)*100)}%)\")\n",
        "\n",
        "    # Rasgele seed ile iki gruba ayırma\n",
        "    random_split_1, random_split_2 = torch.utils.data.random_split(dataset,\n",
        "                                                                   lengths=[length_1, length_2],\n",
        "                                                                   generator=torch.manual_seed(seed)) # random seed\n",
        "    return random_split_1, random_split_2"
      ],
      "metadata": {
        "id": "RyJ8CxYWhezV"
      },
      "execution_count": 9,
      "outputs": []
    },
    {
      "cell_type": "code",
      "source": [
        "# Eğitilmiş 20% split of Food101\n",
        "train_data_food101_80_percent, _ = split_dataset(dataset=train_data,\n",
        "                                                 split_size=0.8)\n",
        "\n",
        "# Test Edilecek 20% split of Food101\n",
        "test_data_food101_20_percent, _ = split_dataset(dataset=test_data,\n",
        "                                                split_size=0.2)\n",
        "\n",
        "len(train_data_food101_80_percent), len(test_data_food101_20_percent)"
      ],
      "metadata": {
        "colab": {
          "base_uri": "https://localhost:8080/"
        },
        "id": "GbvWwvyMhhhE",
        "outputId": "e97dd8d7-8a43-4a1b-f644-c329c4b1a91c"
      },
      "execution_count": 10,
      "outputs": [
        {
          "output_type": "stream",
          "name": "stdout",
          "text": [
            "[INFO] Veri Setinin uzunluğu: 75750 paylar olarak ayrılan uzunluklar: 60600 (80%), 15150 (19%)\n",
            "[INFO] Veri Setinin uzunluğu: 25250 paylar olarak ayrılan uzunluklar: 5050 (20%), 20200 (80%)\n"
          ]
        },
        {
          "output_type": "execute_result",
          "data": {
            "text/plain": [
              "(60600, 5050)"
            ]
          },
          "metadata": {},
          "execution_count": 10
        }
      ]
    },
    {
      "cell_type": "code",
      "source": [
        "import os\n",
        "import torch\n",
        "\n",
        "BATCH_SIZE = 32\n",
        "NUM_WORKERS = 2 if os.cpu_count() <= 4 else 4 # Google Colab'in 2 İşlemcisi olduğu için bu şekilde\n",
        "\n",
        "# Food101 %80 eğitilmiş DataLoader'ı\n",
        "train_dataloader_food101_80_percent = torch.utils.data.DataLoader(train_data_food101_80_percent,\n",
        "                                                                  batch_size=BATCH_SIZE,\n",
        "                                                                  shuffle=True,\n",
        "                                                                  num_workers=NUM_WORKERS)\n",
        "# Food101 %20 test edilecek DataLoader'ı\n",
        "test_dataloader_food101_20_percent = torch.utils.data.DataLoader(test_data_food101_20_percent,\n",
        "                                                                 batch_size=BATCH_SIZE,\n",
        "                                                                 shuffle=False,\n",
        "                                                                 num_workers=NUM_WORKERS)"
      ],
      "metadata": {
        "id": "PIFv8LUAhjjw"
      },
      "execution_count": 11,
      "outputs": []
    },
    {
      "cell_type": "code",
      "source": [
        "from Module_Files import engine\n",
        "\n",
        "# Optimizer\n",
        "optimizer = torch.optim.Adam(params=effnetb2_food101.parameters(),\n",
        "                             lr=1e-3)\n",
        "\n",
        "# Loss fonksiyonu\n",
        "loss_fn = torch.nn.CrossEntropyLoss(label_smoothing=0.1)\n",
        "\n",
        "# En az %56 başarısı olduğu araştırma çalışmasında yer alıyor.\n",
        "set_seeds()\n",
        "effnetb2_food101_results = engine.train(model=effnetb2_food101,\n",
        "                                        train_dataloader=train_dataloader_food101_80_percent,\n",
        "                                        test_dataloader=test_dataloader_food101_20_percent,\n",
        "                                        optimizer=optimizer,\n",
        "                                        loss_fn=loss_fn,\n",
        "                                        epochs=100,\n",
        "                                        device=device)"
      ],
      "metadata": {
        "colab": {
          "base_uri": "https://localhost:8080/",
          "height": 1000,
          "referenced_widgets": [
            "bf46d5bac8cb43abbc85adaca2a45e73",
            "53ad05d77a084a6ca15637675841bc84",
            "0e58c8b6f9e240159f571cb5e36da9c8",
            "bc37c60f30444d89922e14654fa9777a",
            "003f9c4471eb450f882700ca9d89eaa6",
            "07031b02b0064a898ed9277b31ded604",
            "246a732bb042412d9ffaca4dd9e44b1a",
            "b8a5b0986a5246b6a0dcb52ec328c2ff",
            "7db77155b19348639d20f62f446a985b",
            "739e162f47454b4f8068da948fafa93e",
            "3e54e2adcb45459b8ae61070faac7126"
          ]
        },
        "id": "U48gMGM3hnrn",
        "outputId": "ca4bf6c2-1a00-4ec2-c95c-1d959d4b8485"
      },
      "execution_count": 12,
      "outputs": [
        {
          "output_type": "display_data",
          "data": {
            "text/plain": [
              "  0%|          | 0/100 [00:00<?, ?it/s]"
            ],
            "application/vnd.jupyter.widget-view+json": {
              "version_major": 2,
              "version_minor": 0,
              "model_id": "bf46d5bac8cb43abbc85adaca2a45e73"
            }
          },
          "metadata": {}
        },
        {
          "output_type": "stream",
          "name": "stdout",
          "text": [
            "Epoch: 1 | train_loss: 3.0466 | train_acc: 0.3944 | test_loss: 2.2328 | test_acc: 0.5969\n",
            "Epoch: 2 | train_loss: 2.6595 | train_acc: 0.4763 | test_loss: 2.1465 | test_acc: 0.6201\n",
            "Epoch: 3 | train_loss: 2.6166 | train_acc: 0.4894 | test_loss: 2.1184 | test_acc: 0.6240\n",
            "Epoch: 4 | train_loss: 2.5895 | train_acc: 0.4967 | test_loss: 2.0994 | test_acc: 0.6288\n",
            "Epoch: 5 | train_loss: 2.5772 | train_acc: 0.5003 | test_loss: 2.1014 | test_acc: 0.6268\n",
            "Epoch: 6 | train_loss: 2.5774 | train_acc: 0.5010 | test_loss: 2.0933 | test_acc: 0.6356\n",
            "Epoch: 7 | train_loss: 2.5684 | train_acc: 0.5033 | test_loss: 2.0761 | test_acc: 0.6397\n",
            "Epoch: 8 | train_loss: 2.5656 | train_acc: 0.5062 | test_loss: 2.0708 | test_acc: 0.6379\n",
            "Epoch: 9 | train_loss: 2.5708 | train_acc: 0.5044 | test_loss: 2.0735 | test_acc: 0.6439\n",
            "Epoch: 10 | train_loss: 2.5706 | train_acc: 0.5040 | test_loss: 2.0645 | test_acc: 0.6396\n",
            "Epoch: 11 | train_loss: 2.5682 | train_acc: 0.5049 | test_loss: 2.0782 | test_acc: 0.6336\n",
            "Epoch: 12 | train_loss: 2.5618 | train_acc: 0.5068 | test_loss: 2.0737 | test_acc: 0.6276\n",
            "Epoch: 13 | train_loss: 2.5741 | train_acc: 0.5021 | test_loss: 2.0761 | test_acc: 0.6348\n",
            "Epoch: 14 | train_loss: 2.5723 | train_acc: 0.5047 | test_loss: 2.0634 | test_acc: 0.6392\n",
            "Epoch: 15 | train_loss: 2.5674 | train_acc: 0.5058 | test_loss: 2.0559 | test_acc: 0.6539\n",
            "Epoch: 16 | train_loss: 2.5674 | train_acc: 0.5054 | test_loss: 2.0569 | test_acc: 0.6452\n",
            "Epoch: 17 | train_loss: 2.5648 | train_acc: 0.5070 | test_loss: 2.0623 | test_acc: 0.6398\n",
            "Epoch: 18 | train_loss: 2.5707 | train_acc: 0.5032 | test_loss: 2.0573 | test_acc: 0.6418\n",
            "Epoch: 19 | train_loss: 2.5704 | train_acc: 0.5066 | test_loss: 2.0541 | test_acc: 0.6428\n",
            "Epoch: 20 | train_loss: 2.5684 | train_acc: 0.5067 | test_loss: 2.0588 | test_acc: 0.6419\n",
            "Epoch: 21 | train_loss: 2.5581 | train_acc: 0.5101 | test_loss: 2.0674 | test_acc: 0.6399\n",
            "Epoch: 22 | train_loss: 2.5718 | train_acc: 0.5064 | test_loss: 2.0604 | test_acc: 0.6427\n",
            "Epoch: 23 | train_loss: 2.5627 | train_acc: 0.5079 | test_loss: 2.0533 | test_acc: 0.6435\n",
            "Epoch: 24 | train_loss: 2.5706 | train_acc: 0.5035 | test_loss: 2.0470 | test_acc: 0.6490\n",
            "Epoch: 25 | train_loss: 2.5674 | train_acc: 0.5075 | test_loss: 2.0536 | test_acc: 0.6447\n",
            "Epoch: 26 | train_loss: 2.5647 | train_acc: 0.5063 | test_loss: 2.0619 | test_acc: 0.6430\n",
            "Epoch: 27 | train_loss: 2.5668 | train_acc: 0.5067 | test_loss: 2.0585 | test_acc: 0.6437\n",
            "Epoch: 28 | train_loss: 2.5703 | train_acc: 0.5035 | test_loss: 2.0546 | test_acc: 0.6458\n",
            "Epoch: 29 | train_loss: 2.5686 | train_acc: 0.5063 | test_loss: 2.0541 | test_acc: 0.6451\n",
            "Epoch: 30 | train_loss: 2.5645 | train_acc: 0.5066 | test_loss: 2.0530 | test_acc: 0.6446\n",
            "Epoch: 31 | train_loss: 2.5685 | train_acc: 0.5076 | test_loss: 2.0622 | test_acc: 0.6438\n",
            "Epoch: 32 | train_loss: 2.5746 | train_acc: 0.5046 | test_loss: 2.0569 | test_acc: 0.6463\n",
            "Epoch: 33 | train_loss: 2.5721 | train_acc: 0.5049 | test_loss: 2.0564 | test_acc: 0.6452\n",
            "Epoch: 34 | train_loss: 2.5672 | train_acc: 0.5066 | test_loss: 2.0495 | test_acc: 0.6526\n",
            "Epoch: 35 | train_loss: 2.5619 | train_acc: 0.5092 | test_loss: 2.0407 | test_acc: 0.6510\n",
            "Epoch: 36 | train_loss: 2.5674 | train_acc: 0.5050 | test_loss: 2.0662 | test_acc: 0.6412\n",
            "Epoch: 37 | train_loss: 2.5659 | train_acc: 0.5057 | test_loss: 2.0601 | test_acc: 0.6419\n",
            "Epoch: 38 | train_loss: 2.5818 | train_acc: 0.5027 | test_loss: 2.0535 | test_acc: 0.6463\n",
            "Epoch: 39 | train_loss: 2.5652 | train_acc: 0.5068 | test_loss: 2.0595 | test_acc: 0.6481\n",
            "Epoch: 40 | train_loss: 2.5701 | train_acc: 0.5063 | test_loss: 2.0528 | test_acc: 0.6473\n",
            "Epoch: 41 | train_loss: 2.5639 | train_acc: 0.5067 | test_loss: 2.0595 | test_acc: 0.6388\n",
            "Epoch: 42 | train_loss: 2.5710 | train_acc: 0.5055 | test_loss: 2.0577 | test_acc: 0.6447\n",
            "Epoch: 43 | train_loss: 2.5685 | train_acc: 0.5063 | test_loss: 2.0555 | test_acc: 0.6446\n",
            "Epoch: 44 | train_loss: 2.5689 | train_acc: 0.5074 | test_loss: 2.0623 | test_acc: 0.6443\n",
            "Epoch: 45 | train_loss: 2.5764 | train_acc: 0.5044 | test_loss: 2.0674 | test_acc: 0.6368\n",
            "Epoch: 46 | train_loss: 2.5658 | train_acc: 0.5074 | test_loss: 2.0580 | test_acc: 0.6432\n",
            "Epoch: 47 | train_loss: 2.5653 | train_acc: 0.5085 | test_loss: 2.0583 | test_acc: 0.6394\n",
            "Epoch: 48 | train_loss: 2.5693 | train_acc: 0.5066 | test_loss: 2.0497 | test_acc: 0.6490\n",
            "Epoch: 49 | train_loss: 2.5638 | train_acc: 0.5083 | test_loss: 2.0585 | test_acc: 0.6440\n",
            "Epoch: 50 | train_loss: 2.5699 | train_acc: 0.5057 | test_loss: 2.0537 | test_acc: 0.6501\n",
            "Epoch: 51 | train_loss: 2.5749 | train_acc: 0.5024 | test_loss: 2.0504 | test_acc: 0.6453\n",
            "Epoch: 52 | train_loss: 2.5665 | train_acc: 0.5065 | test_loss: 2.0562 | test_acc: 0.6457\n",
            "Epoch: 53 | train_loss: 2.5654 | train_acc: 0.5075 | test_loss: 2.0580 | test_acc: 0.6414\n",
            "Epoch: 54 | train_loss: 2.5681 | train_acc: 0.5045 | test_loss: 2.0543 | test_acc: 0.6481\n",
            "Epoch: 55 | train_loss: 2.5680 | train_acc: 0.5043 | test_loss: 2.0589 | test_acc: 0.6414\n",
            "Epoch: 56 | train_loss: 2.5755 | train_acc: 0.5038 | test_loss: 2.0437 | test_acc: 0.6513\n",
            "Epoch: 57 | train_loss: 2.5661 | train_acc: 0.5076 | test_loss: 2.0589 | test_acc: 0.6463\n",
            "Epoch: 58 | train_loss: 2.5657 | train_acc: 0.5089 | test_loss: 2.0687 | test_acc: 0.6386\n",
            "Epoch: 59 | train_loss: 2.5724 | train_acc: 0.5076 | test_loss: 2.0608 | test_acc: 0.6382\n",
            "Epoch: 60 | train_loss: 2.5623 | train_acc: 0.5085 | test_loss: 2.0587 | test_acc: 0.6413\n",
            "Epoch: 61 | train_loss: 2.5660 | train_acc: 0.5070 | test_loss: 2.0576 | test_acc: 0.6473\n",
            "Epoch: 62 | train_loss: 2.5610 | train_acc: 0.5084 | test_loss: 2.0675 | test_acc: 0.6404\n",
            "Epoch: 63 | train_loss: 2.5739 | train_acc: 0.5031 | test_loss: 2.0597 | test_acc: 0.6431\n",
            "Epoch: 64 | train_loss: 2.5629 | train_acc: 0.5080 | test_loss: 2.0666 | test_acc: 0.6429\n",
            "Epoch: 65 | train_loss: 2.5642 | train_acc: 0.5084 | test_loss: 2.0655 | test_acc: 0.6390\n",
            "Epoch: 66 | train_loss: 2.5652 | train_acc: 0.5066 | test_loss: 2.0548 | test_acc: 0.6432\n",
            "Epoch: 67 | train_loss: 2.5569 | train_acc: 0.5094 | test_loss: 2.0490 | test_acc: 0.6479\n",
            "Epoch: 68 | train_loss: 2.5653 | train_acc: 0.5052 | test_loss: 2.0531 | test_acc: 0.6418\n",
            "Epoch: 69 | train_loss: 2.5665 | train_acc: 0.5076 | test_loss: 2.0605 | test_acc: 0.6417\n",
            "Epoch: 70 | train_loss: 2.5635 | train_acc: 0.5060 | test_loss: 2.0643 | test_acc: 0.6458\n",
            "Epoch: 71 | train_loss: 2.5656 | train_acc: 0.5082 | test_loss: 2.0635 | test_acc: 0.6358\n",
            "Epoch: 72 | train_loss: 2.5556 | train_acc: 0.5060 | test_loss: 2.0566 | test_acc: 0.6423\n",
            "Epoch: 73 | train_loss: 2.5667 | train_acc: 0.5076 | test_loss: 2.0720 | test_acc: 0.6390\n",
            "Epoch: 74 | train_loss: 2.5690 | train_acc: 0.5049 | test_loss: 2.0581 | test_acc: 0.6466\n",
            "Epoch: 75 | train_loss: 2.5676 | train_acc: 0.5056 | test_loss: 2.0710 | test_acc: 0.6410\n",
            "Epoch: 76 | train_loss: 2.5615 | train_acc: 0.5085 | test_loss: 2.0606 | test_acc: 0.6368\n",
            "Epoch: 77 | train_loss: 2.5636 | train_acc: 0.5065 | test_loss: 2.0579 | test_acc: 0.6367\n",
            "Epoch: 78 | train_loss: 2.5632 | train_acc: 0.5072 | test_loss: 2.0655 | test_acc: 0.6435\n",
            "Epoch: 79 | train_loss: 2.5665 | train_acc: 0.5069 | test_loss: 2.0608 | test_acc: 0.6429\n",
            "Epoch: 80 | train_loss: 2.5622 | train_acc: 0.5073 | test_loss: 2.0359 | test_acc: 0.6536\n",
            "Epoch: 81 | train_loss: 2.5686 | train_acc: 0.5069 | test_loss: 2.0597 | test_acc: 0.6440\n",
            "Epoch: 82 | train_loss: 2.5629 | train_acc: 0.5069 | test_loss: 2.0673 | test_acc: 0.6404\n",
            "Epoch: 83 | train_loss: 2.5711 | train_acc: 0.5066 | test_loss: 2.0719 | test_acc: 0.6378\n",
            "Epoch: 84 | train_loss: 2.5626 | train_acc: 0.5064 | test_loss: 2.0611 | test_acc: 0.6432\n",
            "Epoch: 85 | train_loss: 2.5649 | train_acc: 0.5069 | test_loss: 2.0655 | test_acc: 0.6359\n",
            "Epoch: 86 | train_loss: 2.5662 | train_acc: 0.5050 | test_loss: 2.0616 | test_acc: 0.6434\n",
            "Epoch: 87 | train_loss: 2.5694 | train_acc: 0.5074 | test_loss: 2.0659 | test_acc: 0.6429\n",
            "Epoch: 88 | train_loss: 2.5742 | train_acc: 0.5064 | test_loss: 2.0506 | test_acc: 0.6388\n",
            "Epoch: 89 | train_loss: 2.5609 | train_acc: 0.5082 | test_loss: 2.0623 | test_acc: 0.6385\n",
            "Epoch: 90 | train_loss: 2.5737 | train_acc: 0.5049 | test_loss: 2.0456 | test_acc: 0.6499\n",
            "Epoch: 91 | train_loss: 2.5666 | train_acc: 0.5061 | test_loss: 2.0579 | test_acc: 0.6396\n",
            "Epoch: 92 | train_loss: 2.5695 | train_acc: 0.5045 | test_loss: 2.0670 | test_acc: 0.6416\n",
            "Epoch: 93 | train_loss: 2.5707 | train_acc: 0.5042 | test_loss: 2.0569 | test_acc: 0.6436\n",
            "Epoch: 94 | train_loss: 2.5604 | train_acc: 0.5088 | test_loss: 2.0453 | test_acc: 0.6505\n",
            "Epoch: 95 | train_loss: 2.5606 | train_acc: 0.5079 | test_loss: 2.0525 | test_acc: 0.6456\n",
            "Epoch: 96 | train_loss: 2.5686 | train_acc: 0.5060 | test_loss: 2.0611 | test_acc: 0.6430\n",
            "Epoch: 97 | train_loss: 2.5727 | train_acc: 0.5059 | test_loss: 2.0755 | test_acc: 0.6355\n",
            "Epoch: 98 | train_loss: 2.5691 | train_acc: 0.5044 | test_loss: 2.0674 | test_acc: 0.6429\n",
            "Epoch: 99 | train_loss: 2.5616 | train_acc: 0.5069 | test_loss: 2.0716 | test_acc: 0.6364\n",
            "Epoch: 100 | train_loss: 2.5727 | train_acc: 0.5036 | test_loss: 2.0717 | test_acc: 0.6399\n"
          ]
        }
      ]
    },
    {
      "cell_type": "code",
      "source": [
        "from helper_functions import plot_loss_curves\n",
        "\n",
        "# FoodVision için Eğriye Bakalım\n",
        "plot_loss_curves(effnetb2_food101_results)"
      ],
      "metadata": {
        "id": "jDFpVg7yhp_n",
        "colab": {
          "base_uri": "https://localhost:8080/",
          "height": 569
        },
        "outputId": "6bd5b195-900a-4057-9306-44301efecebb"
      },
      "execution_count": 13,
      "outputs": [
        {
          "output_type": "display_data",
          "data": {
            "text/plain": [
              "<Figure size 1500x700 with 2 Axes>"
            ],
            "image/png": "[encoded data removed]"
          },
          "metadata": {}
        }
      ]
    },
    {
      "cell_type": "code",
      "source": [
        "from Module_Files import utils\n",
        "\n",
        "# model yolu\n",
        "effnetb2_food101_model_path = \"11_pretrained_effnetb2_food101.pth\"\n",
        "\n",
        "# FoodVision modelini kaydet\n",
        "utils.save_model(model=effnetb2_food101,\n",
        "                 target_dir=\"models\",\n",
        "                 model_name=effnetb2_food101_model_path)"
      ],
      "metadata": {
        "id": "tAs0BtsDhsRA",
        "colab": {
          "base_uri": "https://localhost:8080/"
        },
        "outputId": "8f1912c9-62a2-4e53-a66d-edcf10d8917b"
      },
      "execution_count": 14,
      "outputs": [
        {
          "output_type": "stream",
          "name": "stdout",
          "text": [
            "[INFO] Modelin Kaydedildiği Yer: models/11_pretrained_effnetb2_food101.pth\n"
          ]
        }
      ]
    },
    {
      "cell_type": "code",
      "source": [
        "from pathlib import Path\n",
        "# Food101  EffNetB2 değişkeni oluşturalım\n",
        "loaded_effnetb2_food101, effnetb2_transforms = create_effnetb2_model(num_classes=101)\n",
        "\n",
        "# Oluşan değişken ile modelin state_dict() parametresini kullanalım\n",
        "loaded_effnetb2_food101.load_state_dict(torch.load(\"models/11_pretrained_effnetb2_food101.pth\"))\n",
        "\n",
        "# Modelin boyutunu megabayt cinsinden olçelim.\n",
        "pretrained_effnetb2_food101_model_size = Path(\"models\", effnetb2_food101_model_path).stat().st_size // (1024*1024)\n",
        "print(f\"EffNetB2 Food101 model boyutu: {pretrained_effnetb2_food101_model_size} MB\")"
      ],
      "metadata": {
        "id": "XOf1K-f7hs2l",
        "colab": {
          "base_uri": "https://localhost:8080/"
        },
        "outputId": "77c15ca1-c2aa-4577-85d4-782f90dbc485"
      },
      "execution_count": 15,
      "outputs": [
        {
          "output_type": "stream",
          "name": "stdout",
          "text": [
            "EffNetB2 Food101 model boyutu: 30 MB\n"
          ]
        }
      ]
    },
    {
      "cell_type": "code",
      "source": [
        "from pathlib import Path\n",
        "import shutil\n",
        "\n",
        "# FoodVision Big Demo Dosya Yolu\n",
        "foodvision_big_demo_path = Path(\"demo/foodvision_big/\")\n",
        "\n",
        "# FoodVision Big demo klasör yolu\n",
        "foodvision_big_demo_path.mkdir(parents=True, exist_ok=True)\n",
        "\n",
        "# FoodVision Big demo örnekler klasörü oluşturuyoruz\n",
        "(foodvision_big_demo_path / \"examples\").mkdir(parents=True, exist_ok=True)\n",
        "\n",
        "#Resimleri klasöre yükleyelim:\n",
        "foodvision_examples = [Path('data/pizza_steak_sushi/test/sushi/1172255.jpg'),\n",
        "                            Path('data/pizza_steak_sushi/test/steak/100274.jpg'),\n",
        "                            Path('data/pizza_steak_sushi/test/pizza/1152100.jpg')]\n",
        "\n",
        "# örnek resmin kopyasını gömelim.\n",
        "for example in foodvision_examples:\n",
        "    destination = foodvision_big_demo_path /\"examples\"/ example.name\n",
        "    print(f\"[INFO] Kopyala {example} to {destination}\")\n",
        "    shutil.copy2(src=example, dst=destination)\n",
        "\n",
        "# Önceden yollanan modeli bulamazsa bu işlem yapılmasın.\n",
        "!mv models/11_pretrained_effnetb2_food101.pth demo/foodvision_big"
      ],
      "metadata": {
        "id": "FYOr2diUhvcR",
        "colab": {
          "base_uri": "https://localhost:8080/"
        },
        "outputId": "7a8df5c1-67b5-4610-bef5-f0415f7cd982"
      },
      "execution_count": 16,
      "outputs": [
        {
          "output_type": "stream",
          "name": "stdout",
          "text": [
            "[INFO] Kopyala data/pizza_steak_sushi/test/sushi/1172255.jpg to demo/foodvision_big/examples/1172255.jpg\n",
            "[INFO] Kopyala data/pizza_steak_sushi/test/steak/100274.jpg to demo/foodvision_big/examples/100274.jpg\n",
            "[INFO] Kopyala data/pizza_steak_sushi/test/pizza/1152100.jpg to demo/foodvision_big/examples/1152100.jpg\n"
          ]
        }
      ]
    },
    {
      "cell_type": "code",
      "source": [
        "# Food101 sınıf isimleri metni oluşturma\n",
        "foodvision_big_class_names_path = foodvision_big_demo_path / \"class_names.txt\"\n",
        "\n",
        "# Food101'deki bütün isimleri metin belgesine yaz.\n",
        "with open(foodvision_big_class_names_path, \"w\") as f:\n",
        "    print(f\"[INFO] Food101 Sınıf isimleri {foodvision_big_class_names_path} yazıldı...\")\n",
        "    f.write(\"\\n\".join(food101_class_names)) # her birini alt alta yaz \\n ile"
      ],
      "metadata": {
        "id": "0lE8dpb9hy7C",
        "colab": {
          "base_uri": "https://localhost:8080/"
        },
        "outputId": "6a3e3762-840d-4f08-ed6e-64094e45cde4"
      },
      "execution_count": 17,
      "outputs": [
        {
          "output_type": "stream",
          "name": "stdout",
          "text": [
            "[INFO] Food101 Sınıf isimleri demo/foodvision_big/class_names.txt yazıldı...\n"
          ]
        }
      ]
    },
    {
      "cell_type": "code",
      "source": [
        "with open(foodvision_big_class_names_path, \"r\") as f:\n",
        "    food101_class_names_loaded = [food.strip() for food in  f.readlines()]\n",
        "\n",
        "food101_class_names_loaded[:5]"
      ],
      "metadata": {
        "id": "RbMr0dIIJAX7",
        "colab": {
          "base_uri": "https://localhost:8080/"
        },
        "outputId": "fc6ca1c9-403f-40bf-83f6-3d077f5bec2f"
      },
      "execution_count": 18,
      "outputs": [
        {
          "output_type": "execute_result",
          "data": {
            "text/plain": [
              "['apple_pie', 'baby_back_ribs', 'baklava', 'beef_carpaccio', 'beef_tartare']"
            ]
          },
          "metadata": {},
          "execution_count": 18
        }
      ]
    },
    {
      "cell_type": "code",
      "source": [
        "%%writefile demo/foodvision_big/app.py\n",
        "### 1. Kütüphaneler ve dosyaları dahil edelim.###\n",
        "import gradio as gr\n",
        "import os\n",
        "import torch\n",
        "import torchvision\n",
        "\n",
        "from model import create_effnetb2_model\n",
        "from timeit import default_timer as timer\n",
        "from typing import Tuple, Dict\n",
        "\n",
        "# Sınıf isimlerini çağıralım\n",
        "with open(\"class_names.txt\", \"r\") as f: # reading them in from class_names.txt\n",
        "    class_names = [food_name.strip() for food_name in  f.readlines()]\n",
        "\n",
        "### 2. Modeli ve transformları doldurlaım ###\n",
        "\n",
        "# Model\n",
        "effnetb2, effnetb2_transforms = create_effnetb2_model(\n",
        "    num_classes=101, # could also use len(class_names)\n",
        ")\n",
        "\n",
        "# Verileri yükleme (Weights)\n",
        "effnetb2.load_state_dict(\n",
        "    torch.load(\n",
        "        f=\"11_pretrained_effnetb2_food101.pth\",\n",
        "        map_location=torch.device(\"cpu\"),  # load to CPU\n",
        "    )\n",
        ")\n",
        "\n",
        "### 3. Tahmin yürütme ###\n",
        "def predict(img) -> Tuple[Dict, float]:\n",
        "\n",
        "    # Zsmanlayıcıyı başlat\n",
        "    start_time = timer()\n",
        "\n",
        "    # Transform'a batch ekle\n",
        "    img = effnetb2_transforms(img).unsqueeze(0)\n",
        "\n",
        "    # Veriyi modele at.\n",
        "    effnetb2.eval()\n",
        "    with torch.inference_mode():\n",
        "        # Olasılıkları geçir\n",
        "        pred_probs = torch.softmax(effnetb2(img), dim=1)\n",
        "\n",
        "    # Etiket tahminlerine bak\n",
        "    pred_labels_and_probs = {class_names[i]: float(pred_probs[0][i]) for i in range(len(class_names))}\n",
        "\n",
        "    # Ortalama zaman jesaplama\n",
        "    pred_time = round(timer() - start_time, 5)\n",
        "\n",
        "    # Tahmini ve olasılığı geri döndür.\n",
        "    return pred_labels_and_probs, pred_time\n",
        "\n",
        "### 4. Gradio Uygulaması ###\n",
        "title = \"FoodVision101 🍔👁\"\n",
        "description = \"EfficientNetB2 ve PyTorch'taki food101 veri setinin kullanımını içeren programdır. Burada Veri seti ve model testi yapılmıştır. Eğitim amaçlı olup Uğur Sırvermez tarafından oluşturuldu. [101 sınıfın listesi:](https://github.com/ugursirvermez/PyTorch_Education/blob/main/Module_Files/food101_class_names.txt).\"\n",
        "article = \"Esinlenilen makale: [09. PyTorch Model Deployment](https://github.com/mrdbourke/pytorch-deep-learning/tree/main).\"\n",
        "\n",
        "# Örnekler\n",
        "example_list = [[\"examples/\" + example] for example in os.listdir(\"examples\")]\n",
        "\n",
        "# Gradio UI\n",
        "demo = gr.Interface(\n",
        "    fn=predict,\n",
        "    inputs=gr.Image(type=\"pil\"),\n",
        "    outputs=[\n",
        "        gr.Label(num_top_classes=5, label=\"Tahminler\"),\n",
        "        gr.Number(label=\"Tahmin Süresi (s)\"),\n",
        "    ],\n",
        "    examples=example_list,\n",
        "    title=title,\n",
        "    description=description,\n",
        "    article=article,\n",
        ")\n",
        "\n",
        "# Uygulamayı Yayınlama\n",
        "demo.launch()\n"
      ],
      "metadata": {
        "id": "MlHzYFrGvvHR",
        "colab": {
          "base_uri": "https://localhost:8080/"
        },
        "outputId": "0bba0cad-81cb-4eb4-8183-0b07f8d38e9d"
      },
      "execution_count": 19,
      "outputs": [
        {
          "output_type": "stream",
          "name": "stdout",
          "text": [
            "Writing demo/foodvision_big/app.py\n"
          ]
        }
      ]
    },
    {
      "cell_type": "code",
      "source": [
        "%%writefile demo/foodvision_big/requirements.txt\n",
        "pip==23.3.1\n",
        "pandas==2.2.3\n",
        "numpy==1.26.4\n",
        "torch==1.12.0\n",
        "torchvision==0.13.0\n",
        "gradio==5.17.1"
      ],
      "metadata": {
        "id": "JOZ1VrTT1dBf",
        "colab": {
          "base_uri": "https://localhost:8080/"
        },
        "outputId": "5750fc60-1340-4a64-f9a1-39666d5be9ec"
      },
      "execution_count": 20,
      "outputs": [
        {
          "output_type": "stream",
          "name": "stdout",
          "text": [
            "Writing demo/foodvision_big/requirements.txt\n"
          ]
        }
      ]
    },
    {
      "cell_type": "code",
      "source": [
        "# Zip haline dosyaları indirelim.\n",
        "!cd demo/foodvision_big && zip -r ../foodvision_big.zip * -x \"*.pyc\" \"*.ipynb\" \"*__pycache__*\" \"*ipynb_checkpoints*\"\n",
        "\n",
        "# Google Colab'te çalışma durumu için\n",
        "try:\n",
        "    from google.colab import files\n",
        "    files.download(\"demo/foodvision_big.zip\")\n",
        "except:\n",
        "    print(\"Google Colab error\")"
      ],
      "metadata": {
        "id": "xKSY_RCU1vFt",
        "colab": {
          "base_uri": "https://localhost:8080/",
          "height": 173
        },
        "outputId": "194c5a78-adac-4e3a-ada6-5acf7e206cec"
      },
      "execution_count": 21,
      "outputs": [
        {
          "output_type": "stream",
          "name": "stdout",
          "text": [
            "  adding: 11_pretrained_effnetb2_food101.pth (deflated 8%)\n",
            "  adding: app.py (deflated 47%)\n",
            "  adding: class_names.txt (deflated 48%)\n",
            "  adding: examples/ (stored 0%)\n",
            "  adding: examples/1152100.jpg (deflated 0%)\n",
            "  adding: examples/1172255.jpg (deflated 0%)\n",
            "  adding: examples/100274.jpg (deflated 1%)\n",
            "  adding: model.py (deflated 45%)\n",
            "  adding: requirements.txt (deflated 12%)\n"
          ]
        },
        {
          "output_type": "display_data",
          "data": {
            "text/plain": [
              "<IPython.core.display.Javascript object>"
            ],
            "application/javascript": [
              "\n",
              "    async function download(id, filename, size) {\n",
              "      if (!google.colab.kernel.accessAllowed) {\n",
              "        return;\n",
              "      }\n",
              "      const div = document.createElement('div');\n",
              "      const label = document.createElement('label');\n",
              "      label.textContent = `Downloading \"${filename}\": `;\n",
              "      div.appendChild(label);\n",
              "      const progress = document.createElement('progress');\n",
              "      progress.max = size;\n",
              "      div.appendChild(progress);\n",
              "      document.body.appendChild(div);\n",
              "\n",
              "      const buffers = [];\n",
              "      let downloaded = 0;\n",
              "\n",
              "      const channel = await google.colab.kernel.comms.open(id);\n",
              "      // Send a message to notify the kernel that we're ready.\n",
              "      channel.send({})\n",
              "\n",
              "      for await (const message of channel.messages) {\n",
              "        // Send a message to notify the kernel that we're ready.\n",
              "        channel.send({})\n",
              "        if (message.buffers) {\n",
              "          for (const buffer of message.buffers) {\n",
              "            buffers.push(buffer);\n",
              "            downloaded += buffer.byteLength;\n",
              "            progress.value = downloaded;\n",
              "          }\n",
              "        }\n",
              "      }\n",
              "      const blob = new Blob(buffers, {type: 'application/binary'});\n",
              "      const a = document.createElement('a');\n",
              "      a.href = window.URL.createObjectURL(blob);\n",
              "      a.download = filename;\n",
              "      div.appendChild(a);\n",
              "      a.click();\n",
              "      div.remove();\n",
              "    }\n",
              "  "
            ]
          },
          "metadata": {}
        },
        {
          "output_type": "display_data",
          "data": {
            "text/plain": [
              "<IPython.core.display.Javascript object>"
            ],
            "application/javascript": [
              "download(\"download_2f07f6d9-43ed-4a4d-a324-2ecd4113559b\", \"foodvision_big.zip\", 29424303)"
            ]
          },
          "metadata": {}
        }
      ]
    },
    {
      "cell_type": "code",
      "source": [
        "# IPython ile Arayüz\n",
        "from IPython.display import IFrame\n",
        "\n",
        "# FoodVision\n",
        "IFrame(src=\"https://hf.space/embed/ugursirvermez/foodvision101/+\", width=900, height=750)"
      ],
      "metadata": {
        "id": "a9uCs0NWD3w3",
        "colab": {
          "base_uri": "https://localhost:8080/",
          "height": 771
        },
        "outputId": "e4c43d9a-58f5-473c-8186-6a1099995296"
      },
      "execution_count": 22,
      "outputs": [
        {
          "output_type": "execute_result",
          "data": {
            "text/plain": [
              "<IPython.lib.display.IFrame at 0x7bdf8842d450>"
            ],
            "text/html": [
              "\n",
              "        <iframe\n",
              "            width=\"900\"\n",
              "            height=\"750\"\n",
              "            src=\"https://hf.space/embed/ugursirvermez/foodvision101/+\"\n",
              "            frameborder=\"0\"\n",
              "            allowfullscreen\n",
              "            \n",
              "        ></iframe>\n",
              "        "
            ]
          },
          "metadata": {},
          "execution_count": 22
        }
      ]
    }
  ]
}