{
  "nbformat": 4,
  "nbformat_minor": 0,
  "metadata": {
    "colab": {
      "provenance": [],
      "authorship_tag": "ABX9TyPgklf8lTAcoLstIT4FE0B8",
      "include_colab_link": true
    },
    "kernelspec": {
      "name": "python3",
      "display_name": "Python 3"
    },
    "language_info": {
      "name": "python"
    }
  },
  "cells": [
    {
      "cell_type": "markdown",
      "metadata": {
        "id": "view-in-github",
        "colab_type": "text"
      },
      "source": [
        "<a href=\"https://colab.research.google.com/github/ugursirvermez/PyTorch_Education/blob/main/07_python_script_module.ipynb\" target=\"_parent\"><img src=\"https://colab.research.google.com/assets/colab-badge.svg\" alt=\"Open In Colab\"/></a>"
      ]
    },
    {
      "cell_type": "markdown",
      "source": [
        "#Script Hale Getirme"
      ],
      "metadata": {
        "id": "AEQMbvz4SYBL"
      }
    },
    {
      "cell_type": "markdown",
      "source": [
        "#Data_Setup.py"
      ],
      "metadata": {
        "id": "RtuqnPCvbSuy"
      }
    },
    {
      "cell_type": "code",
      "execution_count": 14,
      "metadata": {
        "colab": {
          "base_uri": "https://localhost:8080/"
        },
        "id": "KiYgGmQzR-O2",
        "outputId": "e972e01d-4736-4ecb-a003-75934e7830ca"
      },
      "outputs": [
        {
          "output_type": "stream",
          "name": "stdout",
          "text": [
            "Overwriting data_setup.py\n"
          ]
        }
      ],
      "source": [
        "%%writefile data_setup.py\n",
        "#going_modular adında olusturdugumuz dosyanın üzerine bu kodu data_setup.py olarak yaz.\n",
        "import os\n",
        "import zipfile\n",
        "from pathlib import Path\n",
        "import requests\n",
        "\n",
        "import torch\n",
        "#Torchvision Kutuphaneleri\n",
        "from torchvision import transforms\n",
        "from torchvision import datasets\n",
        "from torch.utils.data import DataLoader\n",
        "\n",
        "#-------------------------------------------------------------------------------------------------------------\n",
        "#VERİ SETLERİ\n",
        "\n",
        "# Dosyaların cikacagi yolu ayarla\n",
        "data_path = Path(\"data/\")\n",
        "image_path = data_path / \"pizza_steak_sushi\"\n",
        "\n",
        "# Eger dosya yoksa indirmeye basla\n",
        "if image_path.is_dir():\n",
        "    print(f\"{image_path} dosya zaten var.\")\n",
        "else:\n",
        "    print(f\"{image_path} Dosyası olusturuluyor\")\n",
        "    image_path.mkdir(parents=True, exist_ok=True)\n",
        "\n",
        "# Yemek bilgilerini indir\n",
        "with open(data_path / \"pizza_steak_sushi.zip\", \"wb\") as f:\n",
        "    request = requests.get(\"https://github.com/mrdbourke/pytorch-deep-learning/raw/main/data/pizza_steak_sushi.zip\")\n",
        "    print(\"İndiriliyor...\")\n",
        "    f.write(request.content)\n",
        "\n",
        "# Dosyaları zipten cikar\n",
        "with zipfile.ZipFile(data_path / \"pizza_steak_sushi.zip\", \"r\") as zip_ref:\n",
        "    print(\"Sıkıştırılmış dosyada çıkarılıyor...\")\n",
        "    zip_ref.extractall(image_path)\n",
        "\n",
        "# Zip dosyasini sil.\n",
        "os.remove(data_path / \"pizza_steak_sushi.zip\")\n",
        "\n",
        "# train ve test degiskenlerine dosyalari at.\n",
        "train_dir = image_path / \"train\"\n",
        "test_dir = image_path / \"test\"\n",
        "\n",
        "# Transform ile verileri donustur.\n",
        "data_transform = transforms.Compose([\n",
        "    transforms.Resize((64, 64)),\n",
        "    transforms.ToTensor(),\n",
        "])\n",
        "\n",
        "# ImageFolder'dan bir train_data olustur. Data Load etme işlemi\n",
        "train_data = datasets.ImageFolder(root=train_dir, # hedeflenen görseller\n",
        "                                  transform=data_transform, # data_transform şekline çevir\n",
        "                                  target_transform=None) # Etikete özel dnosutrme yapılmayacak.\n",
        "\n",
        "#Test_data benzer şekilde olusturuldu.\n",
        "test_data = datasets.ImageFolder(root=test_dir,\n",
        "                                 transform=data_transform)\n",
        "\n",
        "print(f\"Train data:\\n{train_data}\\nTest data:\\n{test_data}\") #veriler geldi mi?\n",
        "#--------------------------------------------------------------------------------------------------------\n",
        "\n",
        "#DATA_SETUP.PY BURADA BASLIYOR\n",
        "#İşlemci sayilari\n",
        "NUM_WORKERS = os.cpu_count()\n",
        "\n",
        "#DataLoader Fonksiyonu DataSet -> DataLoader\n",
        "#Train, test ve sınıfların etiketlerini deger olarak dondurecek bir fonksiyondur.\n",
        "def create_dataloaders(\n",
        "    train_dir: str, #Train Klasoru\n",
        "    test_dir: str, #Test Klasoru\n",
        "    transform: transforms.Compose, #transform dosyalarını bir araya getir. (train ve test)\n",
        "    batch_size: int, #DataLoader'dan ne kadar batch yapılacak?\n",
        "    num_workers: int=NUM_WORKERS #DataLoader'da kaç işlemci çalışacak?\n",
        "):\n",
        "   # ImageFolder Kullanarak dataset olusturma\n",
        "  train_data = datasets.ImageFolder(train_dir, transform=transform)\n",
        "  test_data = datasets.ImageFolder(test_dir, transform=transform)\n",
        "\n",
        "  # Train_data'da etiketlenmiş verileri al.\n",
        "  class_names = train_data.classes\n",
        "\n",
        "  # Resimleri DataLoader'a donustur\n",
        "  train_dataloader = DataLoader(train_data,\n",
        "      batch_size=batch_size,\n",
        "      shuffle=True,\n",
        "      num_workers=num_workers,\n",
        "      pin_memory=True,\n",
        "  )\n",
        "  test_dataloader = DataLoader(\n",
        "      test_data,\n",
        "      batch_size=batch_size,\n",
        "      shuffle=False,\n",
        "      num_workers=num_workers,\n",
        "      pin_memory=True,\n",
        "  )\n",
        "\n",
        "  return train_dataloader, test_dataloader, class_names #Loader dosyaları ve etiketler dondursun.\n",
        "\n",
        "#data_setup.py ile dosyaları DataLoader'ı kullanabiliriz."
      ]
    },
    {
      "cell_type": "markdown",
      "source": [
        "#Model_Builder.py"
      ],
      "metadata": {
        "id": "-ZLlg2onbWoz"
      }
    },
    {
      "cell_type": "code",
      "source": [
        "#Model_Builder.py inşa etme\n",
        "%%writefile model_builder.py\n",
        "import torch\n",
        "from torch import nn\n",
        "\n",
        "class TinyVGG(nn.Module):\n",
        "  # 4 Conv2d Model ve son olarak classifier olarak çalışan model\n",
        "  def __init__(self, input_shape: int, hidden_units: int, output_shape: int) -> None:\n",
        "      super().__init__()\n",
        "      self.conv_block_1 = nn.Sequential(\n",
        "          nn.Conv2d(in_channels=input_shape,\n",
        "                    out_channels=hidden_units,\n",
        "                    kernel_size=3,\n",
        "                    stride=1,\n",
        "                    padding=0),\n",
        "          nn.ReLU(),\n",
        "          nn.Conv2d(in_channels=hidden_units,\n",
        "                    out_channels=hidden_units,\n",
        "                    kernel_size=3,\n",
        "                    stride=1,\n",
        "                    padding=0),\n",
        "          nn.ReLU(),\n",
        "          nn.MaxPool2d(kernel_size=2,\n",
        "                        stride=2)\n",
        "      )\n",
        "      self.conv_block_2 = nn.Sequential(\n",
        "          nn.Conv2d(hidden_units, hidden_units, kernel_size=3, padding=0),\n",
        "          nn.ReLU(),\n",
        "          nn.Conv2d(hidden_units, hidden_units, kernel_size=3, padding=0),\n",
        "          nn.ReLU(),\n",
        "          nn.MaxPool2d(2)\n",
        "      )\n",
        "      self.classifier = nn.Sequential(\n",
        "          nn.Flatten(),\n",
        "          # in_features nereden geldiğine bakılmalı.\n",
        "          # Kurulan her ağ modelimizi genişletiyor.\n",
        "          #Neden 13x13?\n",
        "          nn.Linear(in_features=hidden_units*13*13,\n",
        "                    out_features=output_shape)\n",
        "      )\n",
        "\n",
        "  def forward(self, x: torch.Tensor):\n",
        "    x = self.conv_block_1(x)\n",
        "    x = self.conv_block_2(x)\n",
        "    x = self.classifier(x)\n",
        "    return x\n",
        "    # return self.classifier(self.conv_block_2(self.conv_block_1(x)))\n",
        "\n"
      ],
      "metadata": {
        "colab": {
          "base_uri": "https://localhost:8080/"
        },
        "id": "bHx1ZQM5adKf",
        "outputId": "fe73bf47-562a-45e2-b286-73f706e80c6c"
      },
      "execution_count": 15,
      "outputs": [
        {
          "output_type": "stream",
          "name": "stdout",
          "text": [
            "Overwriting model_builder.py\n"
          ]
        }
      ]
    },
    {
      "cell_type": "markdown",
      "source": [
        "#Engine.py"
      ],
      "metadata": {
        "id": "z_VLSHg4cIUm"
      }
    },
    {
      "cell_type": "code",
      "source": [
        "#Engine.py oluşturduk.\n",
        "%%writefile engine.py\n",
        "import torch\n",
        "\n",
        "from tqdm.auto import tqdm\n",
        "from typing import Dict, List, Tuple\n",
        "\n",
        "def train_step(model: torch.nn.Module, dataloader: torch.utils.data.DataLoader,loss_fn: torch.nn.Module, optimizer: torch.optim.Optimizer,\n",
        "               device: torch.device) -> Tuple[float, float]:\n",
        "\n",
        "  # modeli eğitmeye başla\n",
        "  model.train()\n",
        "\n",
        "  # loss ve accuracy yani kayıp ve tutarlılık miktarı\n",
        "  train_loss, train_acc = 0, 0\n",
        "\n",
        "\n",
        "  # Donguyu dataloader'dan çalıştır\n",
        "  for batch, (X, y) in enumerate(dataloader):\n",
        "      # device ? cpu : gpu -> cihaza yolla\n",
        "      X, y = X.to(device), y.to(device)\n",
        "\n",
        "      # 1.Forward etme\n",
        "      y_pred = model(X)\n",
        "\n",
        "      # 2. Kaybı hesaplama\n",
        "      loss = loss_fn(y_pred, y)\n",
        "      train_loss += loss.item()\n",
        "\n",
        "      # 3. Optimizer zero grad\n",
        "      optimizer.zero_grad()\n",
        "\n",
        "      # 4. Loss backward\n",
        "      loss.backward()\n",
        "\n",
        "      # 5. Optimizer step\n",
        "      optimizer.step()\n",
        "\n",
        "      # Batch'teki değerleri kümeleyerek hesapla.\n",
        "      y_pred_class = torch.argmax(torch.softmax(y_pred, dim=1), dim=1)\n",
        "      train_acc += (y_pred_class == y).sum().item()/len(y_pred)\n",
        "\n",
        "  # Ortalama kayıp ve tutarlılığı hesapla.\n",
        "  train_loss = train_loss / len(dataloader)\n",
        "  train_acc = train_acc / len(dataloader)\n",
        "  return train_loss, train_acc\n",
        "\n",
        "def test_step(model: torch.nn.Module, dataloader: torch.utils.data.DataLoader, loss_fn: torch.nn.Module,\n",
        "              device: torch.device) -> Tuple[float, float]:\n",
        "\n",
        "  # Modeli Değerlendir\n",
        "  model.eval()\n",
        "\n",
        "  # test kayıp ve tutarlılıkları hesaplayacağız\n",
        "  test_loss, test_acc = 0, 0\n",
        "  # İçeriği kontrol edeceğiz.\n",
        "  with torch.inference_mode():\n",
        "      # DataLoader'daki Batch'i yükle\n",
        "      for batch, (X, y) in enumerate(dataloader):\n",
        "          # device ? cpu : gpu -> cihaza yolla\n",
        "          X, y = X.to(device), y.to(device)\n",
        "\n",
        "          # 1. Forward et\n",
        "          test_pred_logits = model(X)\n",
        "\n",
        "          # 2. loss ve acc hesapla\n",
        "          loss = loss_fn(test_pred_logits, y)\n",
        "          test_loss += loss.item()\n",
        "\n",
        "          test_pred_labels = test_pred_logits.argmax(dim=1) #logaritmadan çevir.\n",
        "          test_acc += ((test_pred_labels == y).sum().item()/len(test_pred_labels))\n",
        "\n",
        "  # ortalama test loss ve acc'ı yazdır.\n",
        "  test_loss = test_loss / len(dataloader)\n",
        "  test_acc = test_acc / len(dataloader)\n",
        "  return test_loss, test_acc\n",
        "\n",
        "#TRAIN_STEP VE TEST_STEP ILE DONGUYU CALISTIR!\n",
        "def train(model: torch.nn.Module, train_dataloader: torch.utils.data.DataLoader, test_dataloader: torch.utils.data.DataLoader,\n",
        "          optimizer: torch.optim.Optimizer, loss_fn: torch.nn.Module, epochs: int, device: torch.device) -> Dict[str, List]:\n",
        "  # İki step'teki sonuçları yazdır.\n",
        "  results = {\"train_loss\": [],\n",
        "      \"train_acc\": [],\n",
        "      \"test_loss\": [],\n",
        "      \"test_acc\": []\n",
        "  }\n",
        "\n",
        "  # train ve test step'lerini döngüyle çalıştır.\n",
        "  for epoch in tqdm(range(epochs)):\n",
        "      #Train_Step kısmı\n",
        "      train_loss, train_acc = train_step(model=model,dataloader=train_dataloader, loss_fn=loss_fn, optimizer=optimizer, device=device)\n",
        "      #Test_Step kısmı\n",
        "      test_loss, test_acc = test_step(model=model, dataloader=test_dataloader,loss_fn=loss_fn, device=device)\n",
        "\n",
        "      # Neler olduğunu adım adım yazdır.\n",
        "      print(\n",
        "          f\"Epoch: {epoch+1} | \"\n",
        "          f\"train_loss: {train_loss:.4f} | \"\n",
        "          f\"train_acc: {train_acc:.4f} | \"\n",
        "          f\"test_loss: {test_loss:.4f} | \"\n",
        "          f\"test_acc: {test_acc:.4f}\"\n",
        "      )\n",
        "\n",
        "      # Güncellenen sonuçları yazdir\n",
        "      results[\"train_loss\"].append(train_loss)\n",
        "      results[\"train_acc\"].append(train_acc)\n",
        "      results[\"test_loss\"].append(test_loss)\n",
        "      results[\"test_acc\"].append(test_acc)\n",
        "\n",
        "  # Toplam sonucu ver.\n",
        "  return results"
      ],
      "metadata": {
        "colab": {
          "base_uri": "https://localhost:8080/"
        },
        "id": "UmDgtBo3cKiF",
        "outputId": "1d7c17cb-0228-4967-fc23-23387ffd8304"
      },
      "execution_count": 16,
      "outputs": [
        {
          "output_type": "stream",
          "name": "stdout",
          "text": [
            "Overwriting engine.py\n"
          ]
        }
      ]
    },
    {
      "cell_type": "markdown",
      "source": [
        "#Utils.py"
      ],
      "metadata": {
        "id": "OtsnHoa7fFHy"
      }
    },
    {
      "cell_type": "code",
      "source": [
        "#utils.py ile save model yapıyoruz.\n",
        "%%writefile utils.py\n",
        "\n",
        "import torch\n",
        "from pathlib import Path\n",
        "\n",
        "#Modeli Kaydetme İşlemi\n",
        "def save_model(model: torch.nn.Module, target_dir: str, model_name: str):\n",
        "   #Hedeflenen klasörü ve yolu oluşturma\n",
        "  target_dir_path = Path(target_dir)\n",
        "  target_dir_path.mkdir(parents=True, exist_ok=True)\n",
        "\n",
        "  #Modelin kaydedileceği yolu oluşturma\n",
        "  assert model_name.endswith(\".pth\") or model_name.endswith(\".pt\"), \"model_name sonunda '.pt' veya '.pth' ile bitmelidir!\"\n",
        "  model_save_path = target_dir_path / model_name\n",
        "\n",
        "  #state_dict() ile son durumu güncelleme\n",
        "  print(f\"[INFO] Modelin Kaydedildiği Yer: {model_save_path}\")\n",
        "  torch.save(obj=model.state_dict(), f=model_save_path)"
      ],
      "metadata": {
        "colab": {
          "base_uri": "https://localhost:8080/"
        },
        "id": "NkjTC3IOfGTl",
        "outputId": "4b5caf24-459d-4170-b3c0-71f520300ea3"
      },
      "execution_count": 17,
      "outputs": [
        {
          "output_type": "stream",
          "name": "stdout",
          "text": [
            "Overwriting utils.py\n"
          ]
        }
      ]
    },
    {
      "cell_type": "markdown",
      "source": [
        "#Train.py Oluşturma"
      ],
      "metadata": {
        "id": "RpGvdukippRs"
      }
    },
    {
      "cell_type": "code",
      "source": [
        "#Train.py Dosyasını Oluşturduk.\n",
        "%%writefile train.py\n",
        "\n",
        "import os\n",
        "import torch\n",
        "import data_setup, engine, model_builder, utils #Bütün oluşturduğumuz dosyaları alıyoruz.\n",
        "from torchvision import transforms\n",
        "\n",
        "# Girdi Parametrelerimizi oluşturuyoruz. -> HiperParametre\n",
        "NUM_EPOCHS = 5\n",
        "BATCH_SIZE = 32\n",
        "HIDDEN_UNITS = 10\n",
        "LEARNING_RATE = 0.001\n",
        "\n",
        "# Klasörleri hazırladık.\n",
        "train_dir = \"data/pizza_steak_sushi/train\"\n",
        "test_dir = \"data/pizza_steak_sushi/test\"\n",
        "\n",
        "# Cihaz CPU mu yoksa GPU mu buna karar veriyoruz.\n",
        "device = \"cuda\" if torch.cuda.is_available() else \"cpu\"\n",
        "\n",
        "#Transform Oluşturma\n",
        "data_transform = transforms.Compose([transforms.Resize((64, 64)), transforms.ToTensor()])\n",
        "\n",
        "#data_setup.py ile DataLoader oluşturma\n",
        "#3 Parametre döndürüyordu. train ve test dataloader ile etiketlerdi.\n",
        "train_dataloader, test_dataloader, class_names = data_setup.create_dataloaders(train_dir=train_dir, test_dir=test_dir,\n",
        "                                                                               transform=data_transform,batch_size=BATCH_SIZE) #HiperParametre var.\n",
        "\n",
        "#model_builder.py ile birlikte modeli oluşturuyoruz.\n",
        "model = model_builder.TinyVGG(input_shape=3, hidden_units=HIDDEN_UNITS,output_shape=len(class_names)).to(device)#HiperParametre var.\n",
        "\n",
        "#loss ve optimizer hazırlama\n",
        "loss_fn = torch.nn.CrossEntropyLoss()\n",
        "optimizer = torch.optim.Adam(model.parameters(),lr=LEARNING_RATE) #HiperParametre var.\n",
        "\n",
        "# engine.py ile eğitimi başlatabiliriz.\n",
        "engine.train(model=model, train_dataloader=train_dataloader,test_dataloader=test_dataloader,loss_fn=loss_fn, optimizer=optimizer,\n",
        "             epochs=NUM_EPOCHS, device=device) #HiperParametre var.\n",
        "\n",
        "#utils.py ile modelin son halini kaydetme\n",
        "utils.save_model(model=model, target_dir=\"models\", model_name=\"07_modular_script_mode_tinyvgg_model.pth\")"
      ],
      "metadata": {
        "colab": {
          "base_uri": "https://localhost:8080/"
        },
        "id": "Xv9aGKB4prnG",
        "outputId": "4d65488c-ce1c-44a7-a67a-65afc1d96247"
      },
      "execution_count": 18,
      "outputs": [
        {
          "output_type": "stream",
          "name": "stdout",
          "text": [
            "Overwriting train.py\n"
          ]
        }
      ]
    },
    {
      "cell_type": "markdown",
      "source": [
        "#Kodları Çalıştırma"
      ],
      "metadata": {
        "id": "kSzCvtiUwWMR"
      }
    },
    {
      "cell_type": "code",
      "source": [
        "!python train.py"
      ],
      "metadata": {
        "colab": {
          "base_uri": "https://localhost:8080/"
        },
        "id": "pX3Z1UV8wXxg",
        "outputId": "b4f0bcc2-8eb9-4276-c131-75cddfdecc07"
      },
      "execution_count": 19,
      "outputs": [
        {
          "output_type": "stream",
          "name": "stdout",
          "text": [
            "data/pizza_steak_sushi Dosyası olusturuluyor\n",
            "İndiriliyor...\n",
            "Sıkıştırılmış dosyada çıkarılıyor...\n",
            "Train data:\n",
            "Dataset ImageFolder\n",
            "    Number of datapoints: 225\n",
            "    Root location: data/pizza_steak_sushi/train\n",
            "    StandardTransform\n",
            "Transform: Compose(\n",
            "               Resize(size=(64, 64), interpolation=bilinear, max_size=None, antialias=True)\n",
            "               ToTensor()\n",
            "           )\n",
            "Test data:\n",
            "Dataset ImageFolder\n",
            "    Number of datapoints: 75\n",
            "    Root location: data/pizza_steak_sushi/test\n",
            "    StandardTransform\n",
            "Transform: Compose(\n",
            "               Resize(size=(64, 64), interpolation=bilinear, max_size=None, antialias=True)\n",
            "               ToTensor()\n",
            "           )\n",
            "  0% 0/5 [00:00<?, ?it/s]Epoch: 1 | train_loss: 1.1066 | train_acc: 0.2578 | test_loss: 1.0873 | test_acc: 0.2604\n",
            " 20% 1/5 [00:02<00:08,  2.21s/it]Epoch: 2 | train_loss: 1.1050 | train_acc: 0.3125 | test_loss: 1.0644 | test_acc: 0.5729\n",
            " 40% 2/5 [00:04<00:05,  1.99s/it]Epoch: 3 | train_loss: 1.0784 | train_acc: 0.3906 | test_loss: 1.0790 | test_acc: 0.4527\n",
            " 60% 3/5 [00:06<00:04,  2.43s/it]Epoch: 4 | train_loss: 1.0297 | train_acc: 0.5352 | test_loss: 1.0328 | test_acc: 0.5938\n",
            " 80% 4/5 [00:09<00:02,  2.28s/it]Epoch: 5 | train_loss: 1.0086 | train_acc: 0.5742 | test_loss: 1.0485 | test_acc: 0.4233\n",
            "100% 5/5 [00:11<00:00,  2.21s/it]\n",
            "[INFO] Modelin Kaydedildiği Yer: models/07_modular_script_mode_tinyvgg_model.pth\n"
          ]
        }
      ]
    }
  ]
}