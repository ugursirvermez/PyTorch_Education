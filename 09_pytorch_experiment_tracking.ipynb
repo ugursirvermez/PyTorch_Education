{
  "nbformat": 4,
  "nbformat_minor": 0,
  "metadata": {
    "colab": {
      "provenance": [],
      "authorship_tag": "ABX9TyPaQmWV5o4+FZ1FEr531xIw",
      "include_colab_link": true
    },
    "kernelspec": {
      "name": "python3",
      "display_name": "Python 3"
    },
    "language_info": {
      "name": "python"
    }
  },
  "cells": [
    {
      "cell_type": "markdown",
      "metadata": {
        "id": "view-in-github",
        "colab_type": "text"
      },
      "source": [
        "<a href=\"https://colab.research.google.com/github/ugursirvermez/PyTorch_Education/blob/main/09_pytorch_experiment_tracking.ipynb\" target=\"_parent\"><img src=\"https://colab.research.google.com/assets/colab-badge.svg\" alt=\"Open In Colab\"/></a>"
      ]
    },
    {
      "cell_type": "markdown",
      "source": [
        "#Deney Takibi"
      ],
      "metadata": {
        "id": "SrRS5WC9cOrN"
      }
    },
    {
      "cell_type": "markdown",
      "source": [
        "##0.Kurulum"
      ],
      "metadata": {
        "id": "4AXj-QTCcRny"
      }
    },
    {
      "cell_type": "code",
      "execution_count": 4,
      "metadata": {
        "colab": {
          "base_uri": "https://localhost:8080/"
        },
        "id": "eVaFZFSncF2j",
        "outputId": "80d68d9b-36aa-4600-82df-7163d8940821"
      },
      "outputs": [
        {
          "output_type": "stream",
          "name": "stdout",
          "text": [
            "[INFO] torch/torchvision versionları son sürümleri ile güncellenmektedir...\n",
            "Looking in indexes: https://pypi.org/simple, https://download.pytorch.org/whl/cu113\n",
            "Requirement already satisfied: torch in /usr/local/lib/python3.10/dist-packages (2.5.1+cu121)\n",
            "Requirement already satisfied: torchvision in /usr/local/lib/python3.10/dist-packages (0.20.1+cu121)\n",
            "Requirement already satisfied: torchaudio in /usr/local/lib/python3.10/dist-packages (2.5.1+cu121)\n",
            "Requirement already satisfied: filelock in /usr/local/lib/python3.10/dist-packages (from torch) (3.16.1)\n",
            "Requirement already satisfied: typing-extensions>=4.8.0 in /usr/local/lib/python3.10/dist-packages (from torch) (4.12.2)\n",
            "Requirement already satisfied: networkx in /usr/local/lib/python3.10/dist-packages (from torch) (3.4.2)\n",
            "Requirement already satisfied: jinja2 in /usr/local/lib/python3.10/dist-packages (from torch) (3.1.4)\n",
            "Requirement already satisfied: fsspec in /usr/local/lib/python3.10/dist-packages (from torch) (2024.10.0)\n",
            "Requirement already satisfied: sympy==1.13.1 in /usr/local/lib/python3.10/dist-packages (from torch) (1.13.1)\n",
            "Requirement already satisfied: mpmath<1.4,>=1.1.0 in /usr/local/lib/python3.10/dist-packages (from sympy==1.13.1->torch) (1.3.0)\n",
            "Requirement already satisfied: numpy in /usr/local/lib/python3.10/dist-packages (from torchvision) (1.26.4)\n",
            "Requirement already satisfied: pillow!=8.3.*,>=5.3.0 in /usr/local/lib/python3.10/dist-packages (from torchvision) (11.0.0)\n",
            "Requirement already satisfied: MarkupSafe>=2.0 in /usr/local/lib/python3.10/dist-packages (from jinja2->torch) (3.0.2)\n",
            "torch version: 2.5.1+cu121\n",
            "torchvision version: 0.20.1+cu121\n",
            "[INFO] Dosyalar bulunamadı. Github'tan dosyalara erişiliyor...\n",
            "Cloning into 'PyTorch_Education'...\n",
            "remote: Enumerating objects: 142, done.\u001b[K\n",
            "remote: Counting objects: 100% (142/142), done.\u001b[K\n",
            "remote: Compressing objects: 100% (140/140), done.\u001b[K\n",
            "remote: Total 142 (delta 70), reused 0 (delta 0), pack-reused 0 (from 0)\u001b[K\n",
            "Receiving objects: 100% (142/142), 9.81 MiB | 7.06 MiB/s, done.\n",
            "Resolving deltas: 100% (70/70), done.\n",
            "data/pizza_steak_sushi Dosyası olusturuluyor\n",
            "İndiriliyor...\n",
            "Sıkıştırılmış dosyada çıkarılıyor...\n",
            "Train data:\n",
            "Dataset ImageFolder\n",
            "    Number of datapoints: 225\n",
            "    Root location: data/pizza_steak_sushi/train\n",
            "    StandardTransform\n",
            "Transform: Compose(\n",
            "               Resize(size=(64, 64), interpolation=bilinear, max_size=None, antialias=True)\n",
            "               ToTensor()\n",
            "           )\n",
            "Test data:\n",
            "Dataset ImageFolder\n",
            "    Number of datapoints: 75\n",
            "    Root location: data/pizza_steak_sushi/test\n",
            "    StandardTransform\n",
            "Transform: Compose(\n",
            "               Resize(size=(64, 64), interpolation=bilinear, max_size=None, antialias=True)\n",
            "               ToTensor()\n",
            "           )\n"
          ]
        }
      ],
      "source": [
        "# Torch'un güncel olarak torch 1.12+ ve torchvision 0.13+ versiyonlarından üstün olup olamdığına bakalım.\n",
        "try:\n",
        "    import torch\n",
        "    import torchvision\n",
        "    assert int(torch.__version__.split(\".\")[1]) >= 12, \"torch version 1.12+ üstü olmalıdır!\"\n",
        "    assert int(torchvision.__version__.split(\".\")[1]) >= 13, \"torchvision version 0.13+ üstü olmalıdır!\"\n",
        "    print(f\"torch version: {torch.__version__}\")\n",
        "    print(f\"torchvision version: {torchvision.__version__}\")\n",
        "except:\n",
        "    print(f\"[INFO] torch/torchvision versionları son sürümleri ile güncellenmektedir...\")\n",
        "    !pip3 install -U torch torchvision torchaudio --extra-index-url https://download.pytorch.org/whl/cu113\n",
        "    import torch\n",
        "    import torchvision\n",
        "    print(f\"torch version: {torch.__version__}\")\n",
        "    print(f\"torchvision version: {torchvision.__version__}\")\n",
        "\n",
        "#TEMEL KÜTÜPHANELERİN KURULUMU\n",
        "import matplotlib.pyplot as plt\n",
        "import torch\n",
        "import torchvision\n",
        "\n",
        "from torch import nn\n",
        "from torchvision import transforms\n",
        "\n",
        "# Torchinfo var mı? yoksa Yükle!\n",
        "try:\n",
        "    from torchinfo import summary\n",
        "except:\n",
        "    print(\"[INFO] Torchinfo bulunamadı. Yükleniyor...\")\n",
        "    !pip install -q torchinfo\n",
        "    from torchinfo import summary\n",
        "\n",
        "# Module_Files dosyasındaki kütüphanelerimizi yüklemeye çalışalım.\n",
        "try:\n",
        "    from Module_Files import data_setup, engine\n",
        "except:\n",
        "    # Get the going_modular scripts\n",
        "    print(\"[INFO] Dosyalar bulunamadı. Github'tan dosyalara erişiliyor...\")\n",
        "    !git clone https://github.com/ugursirvermez/PyTorch_Education\n",
        "    !mv PyTorch_Education/Module_Files .\n",
        "    !rm -rf PyTorch_Education\n",
        "    from Module_Files import data_setup, engine\n",
        "\n",
        "#Son olarak CPU mu yoksa GPU'da mı çalışacak bunu belirttiğimiz kısmı yazıyoruz.\n",
        "device = \"cuda\" if torch.cuda.is_available() else \"cpu\"\n",
        "\n",
        "#Bölüm 10'dakinin dışında (Transfer Learning) yardımcı bir seed atma fonksiyonu yazıyoruz.\n",
        "#Seeds Hazırlama\n",
        "def set_seeds(seed: int=42):\n",
        "    #Random Seed = 42\n",
        "    # Normal cihazlar için Seed oluşturma\n",
        "    torch.manual_seed(seed)\n",
        "    # CUDA yani GPU'daki Seed oluşturma\n",
        "    torch.cuda.manual_seed(seed)"
      ]
    }
  ]
}