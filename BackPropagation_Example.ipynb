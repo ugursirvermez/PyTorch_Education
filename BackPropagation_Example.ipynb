{
  "nbformat": 4,
  "nbformat_minor": 0,
  "metadata": {
    "colab": {
      "provenance": [],
      "authorship_tag": "ABX9TyN3CaqU65yRuDhe6VgBCBTg",
      "include_colab_link": true
    },
    "kernelspec": {
      "name": "python3",
      "display_name": "Python 3"
    },
    "language_info": {
      "name": "python"
    }
  },
  "cells": [
    {
      "cell_type": "markdown",
      "metadata": {
        "id": "view-in-github",
        "colab_type": "text"
      },
      "source": [
        "<a href=\"https://colab.research.google.com/github/ugursirvermez/PyTorch_Education/blob/main/BackPropagation_Example.ipynb\" target=\"_parent\"><img src=\"https://colab.research.google.com/assets/colab-badge.svg\" alt=\"Open In Colab\"/></a>"
      ]
    },
    {
      "cell_type": "code",
      "execution_count": 2,
      "metadata": {
        "id": "qe-O-TXO4X53",
        "colab": {
          "base_uri": "https://localhost:8080/"
        },
        "outputId": "f0e324b0-1f35-4f74-adf1-c5da6fc72f49"
      },
      "outputs": [
        {
          "output_type": "stream",
          "name": "stdout",
          "text": [
            "Output After Training: \n",
            "[[2.11135662e-04]\n",
            " [9.99525588e-01]\n",
            " [1.66889680e-04]\n",
            " [9.99576185e-01]\n",
            " [9.99362960e-01]\n",
            " [1.30185107e-03]]\n"
          ]
        }
      ],
      "source": [
        "import numpy as np\n",
        "\n",
        "# Sigmoid fonksiyonu tanımlanır\n",
        "def sigmoid(x, derivative=False):\n",
        "\n",
        "    if (derivative == True):\n",
        "        return sigmoid(x,derivative=False) * (1 - sigmoid(x,derivative=False))\n",
        "    else:\n",
        "        return 1 / (1 + np.exp(-x))\n",
        "\n",
        "# Rastgele Seed Atılır.\n",
        "np.random.seed(1)\n",
        "\n",
        "# lr = learning rate -> Ogrenme ciktisi degeri (yuksek deger)\n",
        "alpha = .1\n",
        "\n",
        "# Gizli KAtnmandaki katman sayisi\n",
        "num_hidden = 3\n",
        "\n",
        "# Girdi\n",
        "X = np.array([\n",
        "    [0, 0, 1],\n",
        "    [0, 1, 1],\n",
        "    [1, 0, 0],\n",
        "    [1, 1, 0],\n",
        "    [1, 0, 1],\n",
        "    [1, 1, 1],\n",
        "])\n",
        "\n",
        "# Cikti\n",
        "# x.T x'in transpozu (tersi), Sutun vektor yapildi\n",
        "y = np.array([[0, 1, 0, 1, 1, 0]]).T\n",
        "\n",
        "# Weight'ler ortalaması 0 baslatildi ve araligi [-1, 1] olarak verildi.\n",
        "# İlk katmandaki +1, weight matrisindeki bias miktaridir.\n",
        "hidden_weights = 2*np.random.random((X.shape[1] + 1, num_hidden)) - 1\n",
        "output_weights = 2*np.random.random((num_hidden + 1, y.shape[1])) - 1\n",
        "\n",
        "# Gradyen Azaltma Miktari\n",
        "num_iterations = 10000\n",
        "\n",
        "# Dongunun basladigi yer\n",
        "for i in range(num_iterations):\n",
        "\n",
        "    # forward()\n",
        "    input_layer_outputs = np.hstack((np.ones((X.shape[0], 1)), X))\n",
        "    hidden_layer_outputs = np.hstack((np.ones((X.shape[0], 1)), sigmoid(np.dot(input_layer_outputs, hidden_weights))))\n",
        "    output_layer_outputs = np.dot(hidden_layer_outputs, output_weights)\n",
        "\n",
        "    # backward()\n",
        "    output_error = output_layer_outputs - y\n",
        "    hidden_error = hidden_layer_outputs[:, 1:] * (1 - hidden_layer_outputs[:, 1:]) * np.dot(output_error, output_weights.T[:, 1:])\n",
        "\n",
        "    # Kismi Turevler\n",
        "    hidden_pd = input_layer_outputs[:, :, np.newaxis] * hidden_error[: , np.newaxis, :]\n",
        "    output_pd = hidden_layer_outputs[:, :, np.newaxis] * output_error[:, np.newaxis, :]\n",
        "\n",
        "    # Ortalama gradyen azaltma\n",
        "    total_hidden_gradient = np.average(hidden_pd, axis=0)\n",
        "    total_output_gradient = np.average(output_pd, axis=0)\n",
        "\n",
        "    # weight guncelleme\n",
        "    hidden_weights += - alpha * total_hidden_gradient\n",
        "    output_weights += - alpha * total_output_gradient\n",
        "\n",
        "# Egitim sonrasi son cikti\n",
        "print(\"Output After Training: \\n{}\".format(output_layer_outputs))\n",
        "\n",
        "#Cite as: Backpropagation. Brilliant.org. Retrieved 14:02, September 12, 2024, from https://brilliant.org/wiki/backpropagation/\n"
      ]
    }
  ]
}