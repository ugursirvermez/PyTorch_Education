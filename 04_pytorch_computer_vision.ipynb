{
  "nbformat": 4,
  "nbformat_minor": 0,
  "metadata": {
    "colab": {
      "provenance": [],
      "authorship_tag": "ABX9TyNiO+DG1mizYBhIpR2WQRrd",
      "include_colab_link": true
    },
    "kernelspec": {
      "name": "python3",
      "display_name": "Python 3"
    },
    "language_info": {
      "name": "python"
    }
  },
  "cells": [
    {
      "cell_type": "markdown",
      "metadata": {
        "id": "view-in-github",
        "colab_type": "text"
      },
      "source": [
        "<a href=\"https://colab.research.google.com/github/ugursirvermez/PyTorch_Education/blob/main/04_pytorch_computer_vision.ipynb\" target=\"_parent\"><img src=\"https://colab.research.google.com/assets/colab-badge.svg\" alt=\"Open In Colab\"/></a>"
      ]
    },
    {
      "cell_type": "markdown",
      "source": [
        "#Computer Vision"
      ],
      "metadata": {
        "id": "r6of_DvfTB1u"
      }
    },
    {
      "cell_type": "code",
      "execution_count": 4,
      "metadata": {
        "id": "_oaIAJFOS7F3",
        "colab": {
          "base_uri": "https://localhost:8080/"
        },
        "outputId": "7b0818ff-f421-4889-d1f5-d6dd1d94c690"
      },
      "outputs": [
        {
          "output_type": "stream",
          "name": "stdout",
          "text": [
            "Downloading http://fashion-mnist.s3-website.eu-central-1.amazonaws.com/train-images-idx3-ubyte.gz\n",
            "Downloading http://fashion-mnist.s3-website.eu-central-1.amazonaws.com/train-images-idx3-ubyte.gz to data/FashionMNIST/raw/train-images-idx3-ubyte.gz\n"
          ]
        },
        {
          "output_type": "stream",
          "name": "stderr",
          "text": [
            "100%|██████████| 26421880/26421880 [00:09<00:00, 2819975.15it/s] \n"
          ]
        },
        {
          "output_type": "stream",
          "name": "stdout",
          "text": [
            "Extracting data/FashionMNIST/raw/train-images-idx3-ubyte.gz to data/FashionMNIST/raw\n",
            "\n",
            "Downloading http://fashion-mnist.s3-website.eu-central-1.amazonaws.com/train-labels-idx1-ubyte.gz\n",
            "Downloading http://fashion-mnist.s3-website.eu-central-1.amazonaws.com/train-labels-idx1-ubyte.gz to data/FashionMNIST/raw/train-labels-idx1-ubyte.gz\n"
          ]
        },
        {
          "output_type": "stream",
          "name": "stderr",
          "text": [
            "100%|██████████| 29515/29515 [00:00<00:00, 303371.99it/s]\n"
          ]
        },
        {
          "output_type": "stream",
          "name": "stdout",
          "text": [
            "Extracting data/FashionMNIST/raw/train-labels-idx1-ubyte.gz to data/FashionMNIST/raw\n",
            "\n",
            "Downloading http://fashion-mnist.s3-website.eu-central-1.amazonaws.com/t10k-images-idx3-ubyte.gz\n",
            "Downloading http://fashion-mnist.s3-website.eu-central-1.amazonaws.com/t10k-images-idx3-ubyte.gz to data/FashionMNIST/raw/t10k-images-idx3-ubyte.gz\n"
          ]
        },
        {
          "output_type": "stream",
          "name": "stderr",
          "text": [
            "100%|██████████| 4422102/4422102 [00:02<00:00, 2023139.82it/s]\n"
          ]
        },
        {
          "output_type": "stream",
          "name": "stdout",
          "text": [
            "Extracting data/FashionMNIST/raw/t10k-images-idx3-ubyte.gz to data/FashionMNIST/raw\n",
            "\n",
            "Downloading http://fashion-mnist.s3-website.eu-central-1.amazonaws.com/t10k-labels-idx1-ubyte.gz\n",
            "Downloading http://fashion-mnist.s3-website.eu-central-1.amazonaws.com/t10k-labels-idx1-ubyte.gz to data/FashionMNIST/raw/t10k-labels-idx1-ubyte.gz\n"
          ]
        },
        {
          "output_type": "stream",
          "name": "stderr",
          "text": [
            "100%|██████████| 5148/5148 [00:00<00:00, 17568980.47it/s]\n"
          ]
        },
        {
          "output_type": "stream",
          "name": "stdout",
          "text": [
            "Extracting data/FashionMNIST/raw/t10k-labels-idx1-ubyte.gz to data/FashionMNIST/raw\n",
            "\n",
            "Train Data:60000, Test Data:10000\n"
          ]
        }
      ],
      "source": [
        "#PyTorch Computer Vision -> TorchVision\n",
        "#TorchVision -> resimleri yorumlama dönüştürme ve içerikleri yordamak için kullanılan kütüphanedir.\n",
        "#KUTUPHANELER\n",
        "import torch\n",
        "from torch import nn\n",
        "import torchvision\n",
        "from torchvision import datasets\n",
        "from torchvision import transforms\n",
        "from torchvision.transforms import ToTensor\n",
        "import matplotlib.pyplot as plt\n",
        "#-------------------------------------------------\n",
        "#Veri Setimizi Oluşturalım.\n",
        "#MNIST DataBase -> Makine Öğreniminde kullanılan eğitilmiş ve test görsellerinin kullanılmasında etkili olan bir veri tabanıdır.\n",
        "# 60,000 eğitilmiş, 10,000 test edilmiş görsel içinde barındırabilir. 28x28 piksel barındırır.\n",
        "#FASHIONMNIST -> sıklıkla bu projede kullanacağız.\n",
        "\n",
        "#root = veri nereye inecek?, train = veri setini eğitecek miyiz?, download = veriyi indirecek miyiz?\n",
        "#transform = veriyi nasıl dönüştürmek istiyoruz?, target_transform = etiketleri ve hedefleri nasıl değiştireceğiz?\n",
        "#TRAIN_DATA\n",
        "train_data = datasets.FashionMNIST(root=\"data\", train=True, download=True, transform = torchvision.transforms.ToTensor(), target_transform = None)\n",
        "\n",
        "#TEST_DATA\n",
        "test_data = datasets.FashionMNIST(root=\"data\", train=False, download=True, transform = torchvision.transforms.ToTensor(), target_transform = None)\n",
        "#Yukarıdaki değişkenlerimizden sonra Google Colab veya bilgisyarınımızda FashionMNIST'ten klasörler indirilir.\n",
        "#Bunları görelim.\n",
        "print(f\"Train Data:{len(train_data)}, Test Data:{len(test_data)}\")\n"
      ]
    }
  ]
}