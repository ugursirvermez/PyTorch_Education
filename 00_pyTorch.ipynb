{
  "nbformat": 4,
  "nbformat_minor": 0,
  "metadata": {
    "colab": {
      "provenance": [],
      "gpuType": "T4",
      "authorship_tag": "ABX9TyPZs/LV/LPz/0An/dXf6cr2",
      "include_colab_link": true
    },
    "kernelspec": {
      "name": "python3",
      "display_name": "Python 3"
    },
    "language_info": {
      "name": "python"
    },
    "accelerator": "GPU"
  },
  "cells": [
    {
      "cell_type": "markdown",
      "metadata": {
        "id": "view-in-github",
        "colab_type": "text"
      },
      "source": [
        "<a href=\"https://colab.research.google.com/github/ugursirvermez/PyTorch_Education/blob/main/01_pyTorch.ipynb\" target=\"_parent\"><img src=\"https://colab.research.google.com/assets/colab-badge.svg\" alt=\"Open In Colab\"/></a>"
      ]
    },
    {
      "cell_type": "code",
      "source": [
        "!nvidia-smi"
      ],
      "metadata": {
        "colab": {
          "base_uri": "https://localhost:8080/"
        },
        "id": "IozNTq3ecfip",
        "outputId": "7d7a7ee0-9223-485e-bbaa-0df812be2d5b"
      },
      "execution_count": null,
      "outputs": [
        {
          "output_type": "stream",
          "name": "stdout",
          "text": [
            "Sun Jan 14 19:28:16 2024       \n",
            "+---------------------------------------------------------------------------------------+\n",
            "| NVIDIA-SMI 535.104.05             Driver Version: 535.104.05   CUDA Version: 12.2     |\n",
            "|-----------------------------------------+----------------------+----------------------+\n",
            "| GPU  Name                 Persistence-M | Bus-Id        Disp.A | Volatile Uncorr. ECC |\n",
            "| Fan  Temp   Perf          Pwr:Usage/Cap |         Memory-Usage | GPU-Util  Compute M. |\n",
            "|                                         |                      |               MIG M. |\n",
            "|=========================================+======================+======================|\n",
            "|   0  Tesla T4                       Off | 00000000:00:04.0 Off |                    0 |\n",
            "| N/A   49C    P8              10W /  70W |      0MiB / 15360MiB |      0%      Default |\n",
            "|                                         |                      |                  N/A |\n",
            "+-----------------------------------------+----------------------+----------------------+\n",
            "                                                                                         \n",
            "+---------------------------------------------------------------------------------------+\n",
            "| Processes:                                                                            |\n",
            "|  GPU   GI   CI        PID   Type   Process name                            GPU Memory |\n",
            "|        ID   ID                                                             Usage      |\n",
            "|=======================================================================================|\n",
            "|  No running processes found                                                           |\n",
            "+---------------------------------------------------------------------------------------+\n"
          ]
        }
      ]
    },
    {
      "cell_type": "code",
      "source": [
        "##Chapter 1: PyTorch Kodlamaya Giriş - 00. PyTorch Fundamentals\n",
        "#Kaynak: www.learnpytorch.io/00_pytorch_fundamentals"
      ],
      "metadata": {
        "id": "mfrE56HKcmcx"
      },
      "execution_count": null,
      "outputs": []
    },
    {
      "cell_type": "code",
      "source": [
        "import torch\n",
        "import pandas as pd\n",
        "import numpy as np\n",
        "import matplotlib.pyplot as plt\n",
        "print(torch.__version__)"
      ],
      "metadata": {
        "id": "OgVAlGeod769"
      },
      "execution_count": null,
      "outputs": []
    },
    {
      "cell_type": "code",
      "source": [
        "import torch\n",
        "import pandas as pd\n",
        "import numpy as np\n",
        "import matplotlib.pyplot as plt\n",
        "\n",
        "#Skaler\n",
        "vector = torch.tensor([7,7])\n",
        "vector.shape"
      ],
      "metadata": {
        "colab": {
          "base_uri": "https://localhost:8080/"
        },
        "id": "z-eTxsB5Up3V",
        "outputId": "3c3ecff7-85da-48b4-9a5b-4f794a5ca7c0"
      },
      "execution_count": null,
      "outputs": [
        {
          "output_type": "execute_result",
          "data": {
            "text/plain": [
              "torch.Size([2])"
            ]
          },
          "metadata": {},
          "execution_count": 7
        }
      ]
    },
    {
      "cell_type": "code",
      "source": [
        "import torch\n",
        "import pandas as pd\n",
        "import numpy as np\n",
        "import matplotlib.pyplot as plt\n",
        "\n",
        "#Random Tensor\n",
        "random = torch.rand(2,2)\n",
        "random.ndim\n",
        "random"
      ],
      "metadata": {
        "colab": {
          "base_uri": "https://localhost:8080/"
        },
        "id": "c4yWKzXJxZdo",
        "outputId": "66c3399e-1a7f-4a9a-8f87-147025db4997"
      },
      "execution_count": null,
      "outputs": [
        {
          "output_type": "execute_result",
          "data": {
            "text/plain": [
              "tensor([[0.3933, 0.2381],\n",
              "        [0.4212, 0.8490]])"
            ]
          },
          "metadata": {},
          "execution_count": 17
        }
      ]
    },
    {
      "cell_type": "code",
      "source": [
        "import torch\n",
        "import pandas as pd\n",
        "import numpy as np\n",
        "import matplotlib.pyplot as plt\n",
        "\n",
        "random_img_size_tensor = torch.rand(size =(224, 224, 3)) #height, width, color channels\n",
        "random_img_size_tensor.shape\n"
      ],
      "metadata": {
        "colab": {
          "base_uri": "https://localhost:8080/"
        },
        "id": "18xUvZw-0dZE",
        "outputId": "8556cb6e-d4e1-473a-a1af-e1c2923136c2"
      },
      "execution_count": null,
      "outputs": [
        {
          "output_type": "execute_result",
          "data": {
            "text/plain": [
              "torch.Size([224, 224, 3])"
            ]
          },
          "metadata": {},
          "execution_count": 23
        }
      ]
    },
    {
      "cell_type": "code",
      "source": [
        "import torch\n",
        "import pandas as pd\n",
        "import numpy as np\n",
        "import matplotlib.pyplot as plt\n",
        "\n",
        "float32_tensor = torch.tensor([3.0, 6.0, 9.0], dtype=torch.float32)\n",
        "float16_tensor = float32_tensor.type(torch.float16)\n",
        "float32_tensor * float16_tensor"
      ],
      "metadata": {
        "colab": {
          "base_uri": "https://localhost:8080/"
        },
        "id": "afGJCl_axk0W",
        "outputId": "42d2a0b1-a5bd-4ac5-ebda-8b2c3b3c6a9c"
      },
      "execution_count": null,
      "outputs": [
        {
          "output_type": "execute_result",
          "data": {
            "text/plain": [
              "tensor([ 9., 36., 81.])"
            ]
          },
          "metadata": {},
          "execution_count": 3
        }
      ]
    },
    {
      "cell_type": "code",
      "source": [
        "import torch\n",
        "import pandas as pd\n",
        "import numpy as np\n",
        "import matplotlib.pyplot as plt\n",
        "\n",
        "int32_tensor = torch.tensor([3.0, 6.0, 9.0], dtype=torch.int32)\n",
        "float32_tensor = torch.tensor([3.0, 6.0, 9.0], dtype=torch.float32)\n",
        "int32_tensor * float32_tensor"
      ],
      "metadata": {
        "colab": {
          "base_uri": "https://localhost:8080/"
        },
        "id": "k1HKWDBE0igK",
        "outputId": "37806d57-ac8c-451b-cf25-5bb635275873"
      },
      "execution_count": null,
      "outputs": [
        {
          "output_type": "execute_result",
          "data": {
            "text/plain": [
              "tensor([ 9., 36., 81.])"
            ]
          },
          "metadata": {},
          "execution_count": 5
        }
      ]
    },
    {
      "cell_type": "code",
      "source": [
        "import torch\n",
        "import pandas as pd\n",
        "import numpy as np\n",
        "import matplotlib.pyplot as plt\n",
        "\n",
        "#Çalışmayan matris çarpımı kodu\n",
        "tensor= torch.rand(3,4)\n",
        "torch.matmul(tensor, tensor)\n",
        "#RuntimeError: mat1 and mat2 shapes cannot be multiplied (3x4 and 3x4) hatası verir"
      ],
      "metadata": {
        "colab": {
          "base_uri": "https://localhost:8080/",
          "height": 250
        },
        "id": "WUzS0TkZCqz_",
        "outputId": "675747ce-9319-4b52-a9e8-b6faaf78e146"
      },
      "execution_count": null,
      "outputs": [
        {
          "output_type": "error",
          "ename": "RuntimeError",
          "evalue": "mat1 and mat2 shapes cannot be multiplied (3x4 and 3x4)",
          "traceback": [
            "\u001b[0;31m---------------------------------------------------------------------------\u001b[0m",
            "\u001b[0;31mRuntimeError\u001b[0m                              Traceback (most recent call last)",
            "\u001b[0;32m<ipython-input-1-d59e1b653938>\u001b[0m in \u001b[0;36m<cell line: 8>\u001b[0;34m()\u001b[0m\n\u001b[1;32m      6\u001b[0m \u001b[0;31m#Çalışmayan matris çarpımı kodu\u001b[0m\u001b[0;34m\u001b[0m\u001b[0;34m\u001b[0m\u001b[0m\n\u001b[1;32m      7\u001b[0m \u001b[0mtensor\u001b[0m\u001b[0;34m=\u001b[0m \u001b[0mtorch\u001b[0m\u001b[0;34m.\u001b[0m\u001b[0mrand\u001b[0m\u001b[0;34m(\u001b[0m\u001b[0;36m3\u001b[0m\u001b[0;34m,\u001b[0m\u001b[0;36m4\u001b[0m\u001b[0;34m)\u001b[0m\u001b[0;34m\u001b[0m\u001b[0;34m\u001b[0m\u001b[0m\n\u001b[0;32m----> 8\u001b[0;31m \u001b[0mtorch\u001b[0m\u001b[0;34m.\u001b[0m\u001b[0mmatmul\u001b[0m\u001b[0;34m(\u001b[0m\u001b[0mtensor\u001b[0m\u001b[0;34m,\u001b[0m \u001b[0mtensor\u001b[0m\u001b[0;34m)\u001b[0m\u001b[0;34m\u001b[0m\u001b[0;34m\u001b[0m\u001b[0m\n\u001b[0m",
            "\u001b[0;31mRuntimeError\u001b[0m: mat1 and mat2 shapes cannot be multiplied (3x4 and 3x4)"
          ]
        }
      ]
    },
    {
      "cell_type": "code",
      "source": [
        "import torch\n",
        "import pandas as pd\n",
        "import numpy as np\n",
        "import matplotlib.pyplot as plt\n",
        "\n",
        "#Çalışan matris çarpımı kodu\n",
        "tensor = torch.rand(3,6) #Birincinin sütunu\n",
        "tensor2 = torch.rand(6,8) #İkincinin satırına eşit olmalı\n",
        "print(\"1.Tensor:\",tensor)\n",
        "print(\"2.Tensor\",tensor2)\n",
        "print(\"Sonuc:\",torch.matmul(tensor, tensor2))"
      ],
      "metadata": {
        "colab": {
          "base_uri": "https://localhost:8080/"
        },
        "id": "OF4J6LVYDAe-",
        "outputId": "d60ccf09-85a8-49c6-f97d-62c4011d088e"
      },
      "execution_count": null,
      "outputs": [
        {
          "output_type": "stream",
          "name": "stdout",
          "text": [
            "1.Tensor: tensor([[0.8213, 0.4545, 0.3721, 0.9917, 0.3017, 0.2365],\n",
            "        [0.6247, 0.5478, 0.8940, 0.5234, 0.3180, 0.6300],\n",
            "        [0.5284, 0.9169, 0.3095, 0.5635, 0.3929, 0.7900]])\n",
            "2.Tensor tensor([[0.8126, 0.9725, 0.6034, 0.9151, 0.3844, 0.9925, 0.9199, 0.5313],\n",
            "        [0.1459, 0.4721, 0.0313, 0.2392, 0.9337, 0.6712, 0.4958, 0.2275],\n",
            "        [0.1332, 0.2663, 0.3254, 0.4446, 0.6568, 0.1559, 0.8337, 0.6574],\n",
            "        [0.1016, 0.2167, 0.3444, 0.3678, 0.8688, 0.9732, 0.3954, 0.5817],\n",
            "        [0.5018, 0.4732, 0.7866, 0.2452, 0.9578, 0.9613, 0.5109, 0.4685],\n",
            "        [0.5211, 0.0871, 0.7430, 0.8714, 0.1101, 0.0762, 0.0151, 0.3042]])\n",
            "Sonuc: tensor([[1.1586, 1.4906, 1.3854, 1.6705, 2.1611, 2.4514, 1.8410, 1.5745],\n",
            "        [1.2477, 1.4229, 1.5835, 1.9197, 2.1674, 1.9901, 1.9705, 1.6892],\n",
            "        [1.2705, 1.4060, 1.5384, 1.8326, 2.2155, 2.1745, 1.6343, 1.4450]])\n"
          ]
        }
      ]
    }
  ]
}
