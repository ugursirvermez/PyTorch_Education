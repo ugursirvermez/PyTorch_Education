{
  "nbformat": 4,
  "nbformat_minor": 0,
  "metadata": {
    "colab": {
      "provenance": [],
      "authorship_tag": "ABX9TyN+AeRyQA3pehRk6hsulp30",
      "include_colab_link": true
    },
    "kernelspec": {
      "name": "python3",
      "display_name": "Python 3"
    },
    "language_info": {
      "name": "python"
    }
  },
  "cells": [
    {
      "cell_type": "markdown",
      "metadata": {
        "id": "view-in-github",
        "colab_type": "text"
      },
      "source": [
        "<a href=\"https://colab.research.google.com/github/ugursirvermez/PyTorch_Education/blob/main/10_pytorch_paper_replicating.ipynb\" target=\"_parent\"><img src=\"https://colab.research.google.com/assets/colab-badge.svg\" alt=\"Open In Colab\"/></a>"
      ]
    },
    {
      "cell_type": "markdown",
      "source": [
        "#Paper Replicating"
      ],
      "metadata": {
        "id": "ke1v7o2YDC2i"
      }
    },
    {
      "cell_type": "code",
      "execution_count": 4,
      "metadata": {
        "id": "xoSsEIlJC9SL",
        "colab": {
          "base_uri": "https://localhost:8080/"
        },
        "outputId": "c33a0546-74bd-4439-e6f0-5785ef8176b8"
      },
      "outputs": [
        {
          "output_type": "stream",
          "name": "stdout",
          "text": [
            "torch version: 2.5.1+cu121\n",
            "torchvision version: 0.20.1+cu121\n"
          ]
        }
      ],
      "source": [
        "try:\n",
        "    import torch\n",
        "    import torchvision\n",
        "    assert int(torch.__version__.split(\".\")[1]) >= 12 or int(torch.__version__.split(\".\")[0]) == 2, \"torch version son olarak 1.12+ ve üstü olmalıdır.\"\n",
        "    assert int(torchvision.__version__.split(\".\")[1]) >= 13, \"torchvision version 0.13+ üstü olmalıdır.\"\n",
        "    print(f\"torch version: {torch.__version__}\")\n",
        "    print(f\"torchvision version: {torchvision.__version__}\")\n",
        "except:\n",
        "    print(f\"[INFO] torch/torchvision verisonlarını güncel hale getirmeliyiz!\")\n",
        "    !pip3 install -U torch torchvision torchaudio --index-url https://download.pytorch.org/whl/cu118\n",
        "    import torch\n",
        "    import torchvision\n",
        "    print(f\"torch version: {torch.__version__}\")\n",
        "    print(f\"torchvision version: {torchvision.__version__}\")\n",
        "\n",
        "import matplotlib.pyplot as plt\n",
        "import torch\n",
        "import torchvision\n",
        "\n",
        "from torch import nn\n",
        "from torchvision import transforms\n",
        "\n",
        "# Torchinfo yoksa indirilecek.\n",
        "try:\n",
        "    from torchinfo import summary\n",
        "except:\n",
        "    print(\"[INFO] Torchinfo bulanamadı. İndiriliyor.\")\n",
        "    !pip install -q torchinfo\n",
        "    from torchinfo import summary\n",
        "\n",
        "# Github'tan dosyalar indirilsin.\n",
        "try:\n",
        "    from Module_Files import data_setup, engine\n",
        "    from helper_functions import download_data, set_seeds, plot_loss_curves\n",
        "except:\n",
        "    # Module_Files adlı dosyalar\n",
        "    print(\"[INFO] Github dosyaları indiriliyor.\")\n",
        "    !git clone https://github.com/ugursirvermez/PyTorch_Education/\n",
        "    !mv PyTorch_Education/Module_Files .\n",
        "    !rm -rf PyTorch_Education\n",
        "    from Module_Files import data_setup, engine\n",
        "\n",
        "    # MRDBOURKE'un Helper_Functions'ı\n",
        "    !git clone https://github.com/mrdbourke/pytorch-deep-learning\n",
        "    !mv pytorch-deep-learning/going_modular .\n",
        "    !mv pytorch-deep-learning/helper_functions.py . # Helper_Functions by mrdbourke\n",
        "    !rm -rf pytorch-deep-learning\n",
        "    from helper_functions import download_data, set_seeds, plot_loss_curves"
      ]
    },
    {
      "cell_type": "code",
      "source": [
        "device = \"cuda\" if torch.cuda.is_available() else \"cpu\""
      ],
      "metadata": {
        "id": "DzvQyTdkoNWu"
      },
      "execution_count": 5,
      "outputs": []
    },
    {
      "cell_type": "markdown",
      "source": [
        "##Aşama-2: Veri Alma"
      ],
      "metadata": {
        "id": "4GvwC1QSwmYh"
      }
    },
    {
      "cell_type": "code",
      "source": [],
      "metadata": {
        "id": "SDAuSkU2wpdq"
      },
      "execution_count": null,
      "outputs": []
    }
  ]
}