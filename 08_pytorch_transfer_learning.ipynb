{
  "nbformat": 4,
  "nbformat_minor": 0,
  "metadata": {
    "colab": {
      "provenance": [],
      "authorship_tag": "ABX9TyMZCdjp5wcTfrCDhaiQCT8Z",
      "include_colab_link": true
    },
    "kernelspec": {
      "name": "python3",
      "display_name": "Python 3"
    },
    "language_info": {
      "name": "python"
    }
  },
  "cells": [
    {
      "cell_type": "markdown",
      "metadata": {
        "id": "view-in-github",
        "colab_type": "text"
      },
      "source": [
        "<a href=\"https://colab.research.google.com/github/ugursirvermez/PyTorch_Education/blob/main/08_pytorch_transfer_learning.ipynb\" target=\"_parent\"><img src=\"https://colab.research.google.com/assets/colab-badge.svg\" alt=\"Open In Colab\"/></a>"
      ]
    },
    {
      "cell_type": "markdown",
      "source": [
        "#Transfer Learning"
      ],
      "metadata": {
        "id": "hjNKBwTY8qMx"
      }
    },
    {
      "cell_type": "markdown",
      "source": [
        "##Aşama-1: Kurulum ve Güncelleme"
      ],
      "metadata": {
        "id": "a-UBUK6StYJE"
      }
    },
    {
      "cell_type": "code",
      "execution_count": 2,
      "metadata": {
        "id": "Dbnydpkd8gZZ",
        "colab": {
          "base_uri": "https://localhost:8080/"
        },
        "outputId": "965a2a69-6b2c-489b-c726-46e1aa239161"
      },
      "outputs": [
        {
          "output_type": "stream",
          "name": "stdout",
          "text": [
            "[INFO] torch/torchvision versionları son sürümleri ile güncellenmektedir...\n",
            "Looking in indexes: https://pypi.org/simple, https://download.pytorch.org/whl/cu113\n",
            "Requirement already satisfied: torch in /usr/local/lib/python3.10/dist-packages (2.5.0+cu121)\n",
            "Requirement already satisfied: torchvision in /usr/local/lib/python3.10/dist-packages (0.20.0+cu121)\n",
            "Requirement already satisfied: torchaudio in /usr/local/lib/python3.10/dist-packages (2.5.0+cu121)\n",
            "Requirement already satisfied: filelock in /usr/local/lib/python3.10/dist-packages (from torch) (3.16.1)\n",
            "Requirement already satisfied: typing-extensions>=4.8.0 in /usr/local/lib/python3.10/dist-packages (from torch) (4.12.2)\n",
            "Requirement already satisfied: networkx in /usr/local/lib/python3.10/dist-packages (from torch) (3.4.2)\n",
            "Requirement already satisfied: jinja2 in /usr/local/lib/python3.10/dist-packages (from torch) (3.1.4)\n",
            "Requirement already satisfied: fsspec in /usr/local/lib/python3.10/dist-packages (from torch) (2024.6.1)\n",
            "Requirement already satisfied: sympy==1.13.1 in /usr/local/lib/python3.10/dist-packages (from torch) (1.13.1)\n",
            "Requirement already satisfied: mpmath<1.4,>=1.1.0 in /usr/local/lib/python3.10/dist-packages (from sympy==1.13.1->torch) (1.3.0)\n",
            "Requirement already satisfied: numpy in /usr/local/lib/python3.10/dist-packages (from torchvision) (1.26.4)\n",
            "Requirement already satisfied: pillow!=8.3.*,>=5.3.0 in /usr/local/lib/python3.10/dist-packages (from torchvision) (10.4.0)\n",
            "Requirement already satisfied: MarkupSafe>=2.0 in /usr/local/lib/python3.10/dist-packages (from jinja2->torch) (3.0.2)\n",
            "torch version: 2.5.0+cu121\n",
            "torchvision version: 0.20.0+cu121\n"
          ]
        }
      ],
      "source": [
        "# Torch'un güncel olarak torch 1.12+ ve torchvision 0.13+ versiyonlarından üstün olup olamdığına bakalım.\n",
        "try:\n",
        "    import torch\n",
        "    import torchvision\n",
        "    assert int(torch.__version__.split(\".\")[1]) >= 12, \"torch version 1.12+ üstü olmalıdır!\"\n",
        "    assert int(torchvision.__version__.split(\".\")[1]) >= 13, \"torchvision version 0.13+ üstü olmalıdır!\"\n",
        "    print(f\"torch version: {torch.__version__}\")\n",
        "    print(f\"torchvision version: {torchvision.__version__}\")\n",
        "except:\n",
        "    print(f\"[INFO] torch/torchvision versionları son sürümleri ile güncellenmektedir...\")\n",
        "    !pip3 install -U torch torchvision torchaudio --extra-index-url https://download.pytorch.org/whl/cu113\n",
        "    import torch\n",
        "    import torchvision\n",
        "    print(f\"torch version: {torch.__version__}\")\n",
        "    print(f\"torchvision version: {torchvision.__version__}\")"
      ]
    },
    {
      "cell_type": "markdown",
      "source": [
        "##Kütüphaneleri Getirme"
      ],
      "metadata": {
        "id": "mpw_B0tiu4qh"
      }
    },
    {
      "cell_type": "code",
      "source": [
        "# Temel Kütüphaneler\n",
        "import matplotlib.pyplot as plt\n",
        "import torch\n",
        "import torchvision\n",
        "\n",
        "from torch import nn\n",
        "from torchvision import transforms\n",
        "\n",
        "# Torchinfo var mı? yoksa Yükle!\n",
        "try:\n",
        "    from torchinfo import summary\n",
        "except:\n",
        "    print(\"[INFO] Torchinfo bulunamadı. Yükleniyor...\")\n",
        "    !pip install -q torchinfo\n",
        "    from torchinfo import summary\n",
        "\n",
        "# Module_Files dosyasındaki kütüphanelerimizi yüklemeye çalışalım.\n",
        "try:\n",
        "    from Module_Files import data_setup, engine\n",
        "except:\n",
        "    # Get the going_modular scripts\n",
        "    print(\"[INFO] Dosyalar bulunamadı. Github'tan dosyalara erişiliyor...\")\n",
        "    !git clone https://github.com/ugursirvermez/PyTorch_Education/\n",
        "    !mv PyTorch_Education/Module_Files .\n",
        "    !rm -rf PyTorch_Education\n",
        "    from Module_Files import data_setup, engine"
      ],
      "metadata": {
        "colab": {
          "base_uri": "https://localhost:8080/"
        },
        "id": "ox1YsuagteCQ",
        "outputId": "06e3898e-2f8e-4b39-bf48-c3521d4b6c3c"
      },
      "execution_count": 3,
      "outputs": [
        {
          "output_type": "stream",
          "name": "stdout",
          "text": [
            "[INFO] Torchinfo bulunamadı. Yükleniyor...\n",
            "[INFO] Dosyalar bulunamadı. Github'tan dosyalara erişiliyor...\n",
            "Cloning into 'PyTorch_Education'...\n",
            "remote: Enumerating objects: 133, done.\u001b[K\n",
            "remote: Counting objects: 100% (133/133), done.\u001b[K\n",
            "remote: Compressing objects: 100% (131/131), done.\u001b[K\n",
            "remote: Total 133 (delta 65), reused 0 (delta 0), pack-reused 0 (from 0)\u001b[K\n",
            "Receiving objects: 100% (133/133), 8.93 MiB | 14.14 MiB/s, done.\n",
            "Resolving deltas: 100% (65/65), done.\n",
            "data/pizza_steak_sushi Dosyası olusturuluyor\n",
            "İndiriliyor...\n",
            "Sıkıştırılmış dosyada çıkarılıyor...\n",
            "Train data:\n",
            "Dataset ImageFolder\n",
            "    Number of datapoints: 225\n",
            "    Root location: data/pizza_steak_sushi/train\n",
            "    StandardTransform\n",
            "Transform: Compose(\n",
            "               Resize(size=(64, 64), interpolation=bilinear, max_size=None, antialias=True)\n",
            "               ToTensor()\n",
            "           )\n",
            "Test data:\n",
            "Dataset ImageFolder\n",
            "    Number of datapoints: 75\n",
            "    Root location: data/pizza_steak_sushi/test\n",
            "    StandardTransform\n",
            "Transform: Compose(\n",
            "               Resize(size=(64, 64), interpolation=bilinear, max_size=None, antialias=True)\n",
            "               ToTensor()\n",
            "           )\n"
          ]
        }
      ]
    },
    {
      "cell_type": "markdown",
      "source": [
        "### device ? cpu : gpu -> cihaza yolla"
      ],
      "metadata": {
        "id": "Q1Aoxrz1v2Ut"
      }
    },
    {
      "cell_type": "code",
      "source": [
        "# device ? cpu : gpu -> cihaza yolla\n",
        "device = \"cuda\" if torch.cuda.is_available() else \"cpu\""
      ],
      "metadata": {
        "id": "za1aCJiMv5ML"
      },
      "execution_count": 4,
      "outputs": []
    },
    {
      "cell_type": "markdown",
      "source": [
        "##Aşama-2: Veri Alma Aşaması"
      ],
      "metadata": {
        "id": "cxoIusRxv9Km"
      }
    },
    {
      "cell_type": "code",
      "source": [
        "import os\n",
        "import zipfile\n",
        "\n",
        "from pathlib import Path\n",
        "\n",
        "import requests\n",
        "\n",
        "# Dosya yolunu oluştur.\n",
        "data_path = Path(\"data/\")\n",
        "image_path = data_path / \"pizza_steak_sushi\"\n",
        "\n",
        "# Yoksa bir yol hazırla!\n",
        "if image_path.is_dir():\n",
        "    print(f\"{image_path} bu yol zaten var.\")\n",
        "else:\n",
        "    print(f\"{image_path} dosya yolu bulunamadı. Bir tane oluştur...\")\n",
        "    image_path.mkdir(parents=True, exist_ok=True)\n",
        "\n",
        "    # David Bourke'un oluşturduğu veri yolunu oluştur.\n",
        "    with open(data_path / \"pizza_steak_sushi.zip\", \"wb\") as f:\n",
        "        request = requests.get(\"https://github.com/mrdbourke/pytorch-deep-learning/raw/main/data/pizza_steak_sushi.zip\")\n",
        "        print(\"Veriler indiriliyor...\")\n",
        "        f.write(request.content)\n",
        "\n",
        "    # Veriler arşivden ayıklanıyor...\n",
        "    with zipfile.ZipFile(data_path / \"pizza_steak_sushi.zip\", \"r\") as zip_ref:\n",
        "        print(\"Veriler arşivden ayıklanıyor...\")\n",
        "        zip_ref.extractall(image_path)\n",
        "\n",
        "    # Remove .zip file\n",
        "    os.remove(data_path / \"pizza_steak_sushi.zip\")"
      ],
      "metadata": {
        "colab": {
          "base_uri": "https://localhost:8080/"
        },
        "id": "lCZrvbW9wC3l",
        "outputId": "b1e70760-3440-41a8-93f4-6c1bce6fc73c"
      },
      "execution_count": 5,
      "outputs": [
        {
          "output_type": "stream",
          "name": "stdout",
          "text": [
            "data/pizza_steak_sushi bu yol zaten var.\n"
          ]
        }
      ]
    },
    {
      "cell_type": "markdown",
      "source": [
        "###Dosya Yolu Oluştur."
      ],
      "metadata": {
        "id": "VWHw1oLHxvDF"
      }
    },
    {
      "cell_type": "code",
      "source": [
        "#Dosya yollarını sadeleştirmek için değişkene aktarma yap.\n",
        "train_dir = image_path / \"train\"\n",
        "test_dir = image_path / \"test\""
      ],
      "metadata": {
        "id": "ykTD5Ciwxxja"
      },
      "execution_count": 6,
      "outputs": []
    },
    {
      "cell_type": "markdown",
      "source": [
        "##DataSet ve DataLoader Oluştur."
      ],
      "metadata": {
        "id": "HjGdOU9Sx0Fy"
      }
    },
    {
      "cell_type": "code",
      "source": [
        "# Önceden eğitilmiş veri için uygun veri sağla.\n",
        "weights = torchvision.models.EfficientNet_B0_Weights.DEFAULT # .DEFAULT = ImageNet için önceden eğitilmiş verilere uygun en ideal değerdir.\n",
        "# Bu veri için otomatik en uygun transform oluştur.\n",
        "auto_transforms = weights.transforms()\n",
        "\n",
        "# DataLoader'ları oluşturma ve Etiketleri isimlendirme\n",
        "train_dataloader, test_dataloader, class_names = data_setup.create_dataloaders(train_dir=train_dir,\n",
        "                                                                               test_dir=test_dir,\n",
        "                                                                               transform=auto_transforms, #Otomatik doldurma yapılacak\n",
        "                                                                               batch_size=32) # mini-batch miktarını 32 yap."
      ],
      "metadata": {
        "id": "ypbsSnE7x3dC"
      },
      "execution_count": 7,
      "outputs": []
    },
    {
      "cell_type": "markdown",
      "source": [
        "##Aşama-3: Eğitilmiş Modeli Alma"
      ],
      "metadata": {
        "id": "3EVPJkb177_T"
      }
    },
    {
      "cell_type": "code",
      "source": [],
      "metadata": {
        "id": "-kvXwj-O8Auq"
      },
      "execution_count": null,
      "outputs": []
    }
  ]
}