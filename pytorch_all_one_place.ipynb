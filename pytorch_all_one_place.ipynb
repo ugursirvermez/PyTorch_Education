{
  "nbformat": 4,
  "nbformat_minor": 0,
  "metadata": {
    "colab": {
      "provenance": [],
      "gpuType": "T4",
      "authorship_tag": "ABX9TyPW8MViRxfj0719fUzAgTsn",
      "include_colab_link": true
    },
    "kernelspec": {
      "name": "python3",
      "display_name": "Python 3"
    },
    "language_info": {
      "name": "python"
    },
    "accelerator": "GPU"
  },
  "cells": [
    {
      "cell_type": "markdown",
      "metadata": {
        "id": "view-in-github",
        "colab_type": "text"
      },
      "source": [
        "<a href=\"https://colab.research.google.com/github/ugursirvermez/PyTorch_Education/blob/main/pytorch_all_one_place.ipynb\" target=\"_parent\"><img src=\"https://colab.research.google.com/assets/colab-badge.svg\" alt=\"Open In Colab\"/></a>"
      ]
    },
    {
      "cell_type": "markdown",
      "source": [
        "# BÜTÜN AŞAMALARI BİR ARAYA GETİERECEĞİZ"
      ],
      "metadata": {
        "id": "J_-bNcPzug23"
      }
    },
    {
      "cell_type": "markdown",
      "source": [
        "#1. VERİLER"
      ],
      "metadata": {
        "id": "vd1zihwRuzsC"
      }
    },
    {
      "cell_type": "code",
      "execution_count": 25,
      "metadata": {
        "id": "q0Qd09TldA8r",
        "colab": {
          "base_uri": "https://localhost:8080/"
        },
        "outputId": "36f5655f-47ec-4ca6-950b-a2480ea902df"
      },
      "outputs": [
        {
          "output_type": "stream",
          "name": "stdout",
          "text": [
            "2.4.0+cu121\n"
          ]
        }
      ],
      "source": [
        "import torch\n",
        "from torch import nn\n",
        "import matplotlib.pyplot as plt\n",
        "\n",
        "#Torch verisiyonu kontrol edelim\n",
        "print(torch.__version__)"
      ]
    },
    {
      "cell_type": "markdown",
      "source": [
        "GPU OR CPU ?"
      ],
      "metadata": {
        "id": "TF0pAEfhv9rL"
      }
    },
    {
      "cell_type": "code",
      "source": [
        "#Agnostik kod kullanıyoruz.\n",
        "device = \"cuda\" if torch.cuda.is_available() else \"cpu\"\n",
        "print(f\"Device: {device}\")"
      ],
      "metadata": {
        "colab": {
          "base_uri": "https://localhost:8080/"
        },
        "id": "tQ1F2H2MwCtV",
        "outputId": "14f5b886-d1b4-4db5-deb2-6426ed07612d"
      },
      "execution_count": 26,
      "outputs": [
        {
          "output_type": "stream",
          "name": "stdout",
          "text": [
            "Device: cpu\n"
          ]
        }
      ]
    },
    {
      "cell_type": "markdown",
      "source": [
        "# DOĞRUSAL REGRESYON İÇİN VERİ OLUŞTURMA"
      ],
      "metadata": {
        "id": "BjWdnpyexY9o"
      }
    },
    {
      "cell_type": "code",
      "source": [
        "#Verileri Doğrusal regresyon modeli için oluşturalım.\n",
        "# y = agirlik * X + eğilim -> y = weight * X + bias\n",
        "weight = 0.923\n",
        "bias = 0.44\n",
        "\n",
        "#Değer aralığını yaratalım.\n",
        "start = 0\n",
        "end = 1\n",
        "step = 0.05\n",
        "\n",
        "#X ve Y değerlerini olusturalım. (Degiskenleri ve içerikleri olusturuyoruz)\n",
        "X = torch.arange(start, end, step).unsqueeze(dim=1) #unsqueeze etmezsek hata verir.\n",
        "y = weight * X +bias\n",
        "print(X[:10], y[:10])"
      ],
      "metadata": {
        "colab": {
          "base_uri": "https://localhost:8080/"
        },
        "id": "dj44yFR5xc9F",
        "outputId": "6cca6cbc-655a-471c-c7d4-865f700eab79"
      },
      "execution_count": 27,
      "outputs": [
        {
          "output_type": "stream",
          "name": "stdout",
          "text": [
            "tensor([[0.0000],\n",
            "        [0.0500],\n",
            "        [0.1000],\n",
            "        [0.1500],\n",
            "        [0.2000],\n",
            "        [0.2500],\n",
            "        [0.3000],\n",
            "        [0.3500],\n",
            "        [0.4000],\n",
            "        [0.4500]]) tensor([[0.4400],\n",
            "        [0.4861],\n",
            "        [0.5323],\n",
            "        [0.5784],\n",
            "        [0.6246],\n",
            "        [0.6708],\n",
            "        [0.7169],\n",
            "        [0.7630],\n",
            "        [0.8092],\n",
            "        [0.8554]])\n"
          ]
        }
      ]
    },
    {
      "cell_type": "markdown",
      "source": [
        "#Verileri split etme\n",
        "  Ayırma işlemi de deniyor."
      ],
      "metadata": {
        "id": "Z7G5bH7nx7w-"
      }
    },
    {
      "cell_type": "code",
      "source": [
        "#verileri split etme işlemi\n",
        "train_split = int(0.8 * len(X))\n",
        "X_train = X[:train_split]\n",
        "y_train = y[:train_split]\n",
        "X_test = X[train_split:]\n",
        "y_test =y[train_split:]\n",
        "print(len(X_train), len(y_train), len(X_test), len(y_test))\n"
      ],
      "metadata": {
        "colab": {
          "base_uri": "https://localhost:8080/"
        },
        "id": "4knLvY06yCl8",
        "outputId": "968809fd-1d85-4d0e-d7a2-b0947baea160"
      },
      "execution_count": 28,
      "outputs": [
        {
          "output_type": "stream",
          "name": "stdout",
          "text": [
            "16 16 4 4\n"
          ]
        }
      ]
    },
    {
      "cell_type": "markdown",
      "source": [
        "#Plotlib Kullanarak Verilerimizi Görselleştirelim"
      ],
      "metadata": {
        "id": "S8-dNmPTzZkV"
      }
    },
    {
      "cell_type": "code",
      "source": [
        "def plot_predictions(train_data, train_labels, test_data, test_labels, predictions): #Parametreleri fonksiyonu kullanırken dolduracağız.\n",
        "\tplt.figure(figsize=(10,7)) #Grafiğin kaça kaç çizileceğini söylüyorum.\n",
        "  #Scatter çizmeyi ifade ediyor.\n",
        "\tplt.scatter(train_data, train_labels, c=\"b\", s=4, label=\"Training Data\") #veriyi mavi renkte(c), 4 boyutunda(s) gormek istiyorum.\n",
        "\tplt.scatter(test_data, test_labels, c=\"g\", s=4, label=\"Testing Data\") #veriyi yeşil renkte(c), 4 boyutunda(s) gormek istiyorum.\n",
        "\t#eğer tahmin varsa...\n",
        "\tif predictions is not None:\n",
        "\t\t#tahmini yazdir\n",
        "\t\tplt.scatter(test_data, predictions, c=\"r\", s=4, label=\"Predictions\"),\n",
        "\n",
        "\t#Show the legend\n",
        "\tplt.legend(prop={\"size\": 14});\n",
        "\n",
        "plot_predictions(X_train, y_train, X_test, y_test,None)"
      ],
      "metadata": {
        "colab": {
          "base_uri": "https://localhost:8080/",
          "height": 599
        },
        "id": "6MSvfDi-zfmQ",
        "outputId": "6f8e4193-a2ec-434c-8342-5c07298896f0"
      },
      "execution_count": 29,
      "outputs": [
        {
          "output_type": "display_data",
          "data": {
            "text/plain": [
              "<Figure size 1000x700 with 1 Axes>"
            ],
            "image/png": "[encoded data removed]"
          },
          "metadata": {}
        }
      ]
    },
    {
      "cell_type": "markdown",
      "source": [
        "# PYTORCH DOĞRUSAL MODELİ OLUŞTURMA"
      ],
      "metadata": {
        "id": "xFIaATRaz8O0"
      }
    },
    {
      "cell_type": "code",
      "source": [
        "#Doğrusal modeli nn.Module ile sınıfla oluşturalım.\n",
        "class LinearRegressionModelV2(nn.Module):\n",
        "\t#Initialize etme yani başlatma işleminde olacaklar\n",
        "\tdef __init__(self):\n",
        "\t\tsuper().__init__()\n",
        "\t\t#nn.Linear() sayesinde modelin parametrelerini oluşturuyoruz.\n",
        "\t\tself.linear_layer = nn.Linear(in_features=1, out_features=1) #x ve y içeriğimizi oluşturduk.\n",
        "\n",
        "\tdef forward(self, x) -> torch.Tensor: #Devam etme fonksiyonu\n",
        "\t\treturn self.linear_layer(x) #Burada doğrusal denklemi uygulanıyor.\n",
        "\n",
        "torch.manual_seed(42) #Manual seed yapma\n",
        "model_1 = LinearRegressionModelV2()\n",
        "print(model_1)\n",
        "print(model_1.state_dict())"
      ],
      "metadata": {
        "colab": {
          "base_uri": "https://localhost:8080/"
        },
        "id": "psVuvy1E0CTU",
        "outputId": "7e363a0f-0958-47df-b971-1be076c807e2"
      },
      "execution_count": 30,
      "outputs": [
        {
          "output_type": "stream",
          "name": "stdout",
          "text": [
            "LinearRegressionModelV2(\n",
            "  (linear_layer): Linear(in_features=1, out_features=1, bias=True)\n",
            ")\n",
            "OrderedDict([('linear_layer.weight', tensor([[0.7645]])), ('linear_layer.bias', tensor([0.8300]))])\n"
          ]
        }
      ]
    }
  ]
}