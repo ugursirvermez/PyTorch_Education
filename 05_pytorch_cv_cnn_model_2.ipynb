{
  "nbformat": 4,
  "nbformat_minor": 0,
  "metadata": {
    "colab": {
      "provenance": [],
      "authorship_tag": "ABX9TyP+j4jMVeCY9eV6xg4VmNzH",
      "include_colab_link": true
    },
    "kernelspec": {
      "name": "python3",
      "display_name": "Python 3"
    },
    "language_info": {
      "name": "python"
    },
    "widgets": {
      "application/vnd.jupyter.widget-state+json": {
        "9d52df15302846a5b6ced832b983791c": {
          "model_module": "@jupyter-widgets/controls",
          "model_name": "HBoxModel",
          "model_module_version": "1.5.0",
          "state": {
            "_dom_classes": [],
            "_model_module": "@jupyter-widgets/controls",
            "_model_module_version": "1.5.0",
            "_model_name": "HBoxModel",
            "_view_count": null,
            "_view_module": "@jupyter-widgets/controls",
            "_view_module_version": "1.5.0",
            "_view_name": "HBoxView",
            "box_style": "",
            "children": [
              "IPY_MODEL_de0aa4a04efb42d18a41ce17da879f40",
              "IPY_MODEL_2ed9f4922a4b4ef68fa7772af266d34a",
              "IPY_MODEL_464e4bbbcb7f45739f0810d4758e3892"
            ],
            "layout": "IPY_MODEL_33254b8663f647eeb1d65ea1f68a524c"
          }
        },
        "de0aa4a04efb42d18a41ce17da879f40": {
          "model_module": "@jupyter-widgets/controls",
          "model_name": "HTMLModel",
          "model_module_version": "1.5.0",
          "state": {
            "_dom_classes": [],
            "_model_module": "@jupyter-widgets/controls",
            "_model_module_version": "1.5.0",
            "_model_name": "HTMLModel",
            "_view_count": null,
            "_view_module": "@jupyter-widgets/controls",
            "_view_module_version": "1.5.0",
            "_view_name": "HTMLView",
            "description": "",
            "description_tooltip": null,
            "layout": "IPY_MODEL_79a9aa68832b4ed295410683dc2f8c50",
            "placeholder": "​",
            "style": "IPY_MODEL_dbf4740943004a288c60283789847e8f",
            "value": "100%"
          }
        },
        "2ed9f4922a4b4ef68fa7772af266d34a": {
          "model_module": "@jupyter-widgets/controls",
          "model_name": "FloatProgressModel",
          "model_module_version": "1.5.0",
          "state": {
            "_dom_classes": [],
            "_model_module": "@jupyter-widgets/controls",
            "_model_module_version": "1.5.0",
            "_model_name": "FloatProgressModel",
            "_view_count": null,
            "_view_module": "@jupyter-widgets/controls",
            "_view_module_version": "1.5.0",
            "_view_name": "ProgressView",
            "bar_style": "success",
            "description": "",
            "description_tooltip": null,
            "layout": "IPY_MODEL_2323185c423f4517893d4b11d84e6bdd",
            "max": 3,
            "min": 0,
            "orientation": "horizontal",
            "style": "IPY_MODEL_17cacdfdf6034b82ac38128dea8f84c2",
            "value": 3
          }
        },
        "464e4bbbcb7f45739f0810d4758e3892": {
          "model_module": "@jupyter-widgets/controls",
          "model_name": "HTMLModel",
          "model_module_version": "1.5.0",
          "state": {
            "_dom_classes": [],
            "_model_module": "@jupyter-widgets/controls",
            "_model_module_version": "1.5.0",
            "_model_name": "HTMLModel",
            "_view_count": null,
            "_view_module": "@jupyter-widgets/controls",
            "_view_module_version": "1.5.0",
            "_view_name": "HTMLView",
            "description": "",
            "description_tooltip": null,
            "layout": "IPY_MODEL_d7b735e3bc624cdf8262430d73b60a49",
            "placeholder": "​",
            "style": "IPY_MODEL_392181b351b54c1e859d0fa318cb5ddf",
            "value": " 3/3 [03:05&lt;00:00, 60.28s/it]"
          }
        },
        "33254b8663f647eeb1d65ea1f68a524c": {
          "model_module": "@jupyter-widgets/base",
          "model_name": "LayoutModel",
          "model_module_version": "1.2.0",
          "state": {
            "_model_module": "@jupyter-widgets/base",
            "_model_module_version": "1.2.0",
            "_model_name": "LayoutModel",
            "_view_count": null,
            "_view_module": "@jupyter-widgets/base",
            "_view_module_version": "1.2.0",
            "_view_name": "LayoutView",
            "align_content": null,
            "align_items": null,
            "align_self": null,
            "border": null,
            "bottom": null,
            "display": null,
            "flex": null,
            "flex_flow": null,
            "grid_area": null,
            "grid_auto_columns": null,
            "grid_auto_flow": null,
            "grid_auto_rows": null,
            "grid_column": null,
            "grid_gap": null,
            "grid_row": null,
            "grid_template_areas": null,
            "grid_template_columns": null,
            "grid_template_rows": null,
            "height": null,
            "justify_content": null,
            "justify_items": null,
            "left": null,
            "margin": null,
            "max_height": null,
            "max_width": null,
            "min_height": null,
            "min_width": null,
            "object_fit": null,
            "object_position": null,
            "order": null,
            "overflow": null,
            "overflow_x": null,
            "overflow_y": null,
            "padding": null,
            "right": null,
            "top": null,
            "visibility": null,
            "width": null
          }
        },
        "79a9aa68832b4ed295410683dc2f8c50": {
          "model_module": "@jupyter-widgets/base",
          "model_name": "LayoutModel",
          "model_module_version": "1.2.0",
          "state": {
            "_model_module": "@jupyter-widgets/base",
            "_model_module_version": "1.2.0",
            "_model_name": "LayoutModel",
            "_view_count": null,
            "_view_module": "@jupyter-widgets/base",
            "_view_module_version": "1.2.0",
            "_view_name": "LayoutView",
            "align_content": null,
            "align_items": null,
            "align_self": null,
            "border": null,
            "bottom": null,
            "display": null,
            "flex": null,
            "flex_flow": null,
            "grid_area": null,
            "grid_auto_columns": null,
            "grid_auto_flow": null,
            "grid_auto_rows": null,
            "grid_column": null,
            "grid_gap": null,
            "grid_row": null,
            "grid_template_areas": null,
            "grid_template_columns": null,
            "grid_template_rows": null,
            "height": null,
            "justify_content": null,
            "justify_items": null,
            "left": null,
            "margin": null,
            "max_height": null,
            "max_width": null,
            "min_height": null,
            "min_width": null,
            "object_fit": null,
            "object_position": null,
            "order": null,
            "overflow": null,
            "overflow_x": null,
            "overflow_y": null,
            "padding": null,
            "right": null,
            "top": null,
            "visibility": null,
            "width": null
          }
        },
        "dbf4740943004a288c60283789847e8f": {
          "model_module": "@jupyter-widgets/controls",
          "model_name": "DescriptionStyleModel",
          "model_module_version": "1.5.0",
          "state": {
            "_model_module": "@jupyter-widgets/controls",
            "_model_module_version": "1.5.0",
            "_model_name": "DescriptionStyleModel",
            "_view_count": null,
            "_view_module": "@jupyter-widgets/base",
            "_view_module_version": "1.2.0",
            "_view_name": "StyleView",
            "description_width": ""
          }
        },
        "2323185c423f4517893d4b11d84e6bdd": {
          "model_module": "@jupyter-widgets/base",
          "model_name": "LayoutModel",
          "model_module_version": "1.2.0",
          "state": {
            "_model_module": "@jupyter-widgets/base",
            "_model_module_version": "1.2.0",
            "_model_name": "LayoutModel",
            "_view_count": null,
            "_view_module": "@jupyter-widgets/base",
            "_view_module_version": "1.2.0",
            "_view_name": "LayoutView",
            "align_content": null,
            "align_items": null,
            "align_self": null,
            "border": null,
            "bottom": null,
            "display": null,
            "flex": null,
            "flex_flow": null,
            "grid_area": null,
            "grid_auto_columns": null,
            "grid_auto_flow": null,
            "grid_auto_rows": null,
            "grid_column": null,
            "grid_gap": null,
            "grid_row": null,
            "grid_template_areas": null,
            "grid_template_columns": null,
            "grid_template_rows": null,
            "height": null,
            "justify_content": null,
            "justify_items": null,
            "left": null,
            "margin": null,
            "max_height": null,
            "max_width": null,
            "min_height": null,
            "min_width": null,
            "object_fit": null,
            "object_position": null,
            "order": null,
            "overflow": null,
            "overflow_x": null,
            "overflow_y": null,
            "padding": null,
            "right": null,
            "top": null,
            "visibility": null,
            "width": null
          }
        },
        "17cacdfdf6034b82ac38128dea8f84c2": {
          "model_module": "@jupyter-widgets/controls",
          "model_name": "ProgressStyleModel",
          "model_module_version": "1.5.0",
          "state": {
            "_model_module": "@jupyter-widgets/controls",
            "_model_module_version": "1.5.0",
            "_model_name": "ProgressStyleModel",
            "_view_count": null,
            "_view_module": "@jupyter-widgets/base",
            "_view_module_version": "1.2.0",
            "_view_name": "StyleView",
            "bar_color": null,
            "description_width": ""
          }
        },
        "d7b735e3bc624cdf8262430d73b60a49": {
          "model_module": "@jupyter-widgets/base",
          "model_name": "LayoutModel",
          "model_module_version": "1.2.0",
          "state": {
            "_model_module": "@jupyter-widgets/base",
            "_model_module_version": "1.2.0",
            "_model_name": "LayoutModel",
            "_view_count": null,
            "_view_module": "@jupyter-widgets/base",
            "_view_module_version": "1.2.0",
            "_view_name": "LayoutView",
            "align_content": null,
            "align_items": null,
            "align_self": null,
            "border": null,
            "bottom": null,
            "display": null,
            "flex": null,
            "flex_flow": null,
            "grid_area": null,
            "grid_auto_columns": null,
            "grid_auto_flow": null,
            "grid_auto_rows": null,
            "grid_column": null,
            "grid_gap": null,
            "grid_row": null,
            "grid_template_areas": null,
            "grid_template_columns": null,
            "grid_template_rows": null,
            "height": null,
            "justify_content": null,
            "justify_items": null,
            "left": null,
            "margin": null,
            "max_height": null,
            "max_width": null,
            "min_height": null,
            "min_width": null,
            "object_fit": null,
            "object_position": null,
            "order": null,
            "overflow": null,
            "overflow_x": null,
            "overflow_y": null,
            "padding": null,
            "right": null,
            "top": null,
            "visibility": null,
            "width": null
          }
        },
        "392181b351b54c1e859d0fa318cb5ddf": {
          "model_module": "@jupyter-widgets/controls",
          "model_name": "DescriptionStyleModel",
          "model_module_version": "1.5.0",
          "state": {
            "_model_module": "@jupyter-widgets/controls",
            "_model_module_version": "1.5.0",
            "_model_name": "DescriptionStyleModel",
            "_view_count": null,
            "_view_module": "@jupyter-widgets/base",
            "_view_module_version": "1.2.0",
            "_view_name": "StyleView",
            "description_width": ""
          }
        },
        "03225f8e416249259b9a15ca3e42241e": {
          "model_module": "@jupyter-widgets/controls",
          "model_name": "HBoxModel",
          "model_module_version": "1.5.0",
          "state": {
            "_dom_classes": [],
            "_model_module": "@jupyter-widgets/controls",
            "_model_module_version": "1.5.0",
            "_model_name": "HBoxModel",
            "_view_count": null,
            "_view_module": "@jupyter-widgets/controls",
            "_view_module_version": "1.5.0",
            "_view_name": "HBoxView",
            "box_style": "",
            "children": [
              "IPY_MODEL_a318d1b7c6ec43539f4592602b72db68",
              "IPY_MODEL_3b46027595cf4e119cf22dc58a74164b",
              "IPY_MODEL_195e8205c827465bade6ec4875237c00"
            ],
            "layout": "IPY_MODEL_4c04940f6dbe440c8db0b6c4f6ec14a2"
          }
        },
        "a318d1b7c6ec43539f4592602b72db68": {
          "model_module": "@jupyter-widgets/controls",
          "model_name": "HTMLModel",
          "model_module_version": "1.5.0",
          "state": {
            "_dom_classes": [],
            "_model_module": "@jupyter-widgets/controls",
            "_model_module_version": "1.5.0",
            "_model_name": "HTMLModel",
            "_view_count": null,
            "_view_module": "@jupyter-widgets/controls",
            "_view_module_version": "1.5.0",
            "_view_name": "HTMLView",
            "description": "",
            "description_tooltip": null,
            "layout": "IPY_MODEL_fa345bd7e7934402a3c7e5967d0e633f",
            "placeholder": "​",
            "style": "IPY_MODEL_31d146144a65415f832d69205d1bc4c7",
            "value": "Tahmin yürütme: 100%"
          }
        },
        "3b46027595cf4e119cf22dc58a74164b": {
          "model_module": "@jupyter-widgets/controls",
          "model_name": "FloatProgressModel",
          "model_module_version": "1.5.0",
          "state": {
            "_dom_classes": [],
            "_model_module": "@jupyter-widgets/controls",
            "_model_module_version": "1.5.0",
            "_model_name": "FloatProgressModel",
            "_view_count": null,
            "_view_module": "@jupyter-widgets/controls",
            "_view_module_version": "1.5.0",
            "_view_name": "ProgressView",
            "bar_style": "success",
            "description": "",
            "description_tooltip": null,
            "layout": "IPY_MODEL_ca220b06fc2449d19adc54ba11779613",
            "max": 313,
            "min": 0,
            "orientation": "horizontal",
            "style": "IPY_MODEL_3a24bb7445114a8fba66bdcb5dc8d8ec",
            "value": 313
          }
        },
        "195e8205c827465bade6ec4875237c00": {
          "model_module": "@jupyter-widgets/controls",
          "model_name": "HTMLModel",
          "model_module_version": "1.5.0",
          "state": {
            "_dom_classes": [],
            "_model_module": "@jupyter-widgets/controls",
            "_model_module_version": "1.5.0",
            "_model_name": "HTMLModel",
            "_view_count": null,
            "_view_module": "@jupyter-widgets/controls",
            "_view_module_version": "1.5.0",
            "_view_name": "HTMLView",
            "description": "",
            "description_tooltip": null,
            "layout": "IPY_MODEL_ad420c1cbe51461e9d39285fa80e35e1",
            "placeholder": "​",
            "style": "IPY_MODEL_2804dcf6026a43fc81e380a15bf0f58e",
            "value": " 313/313 [00:05&lt;00:00, 65.40it/s]"
          }
        },
        "4c04940f6dbe440c8db0b6c4f6ec14a2": {
          "model_module": "@jupyter-widgets/base",
          "model_name": "LayoutModel",
          "model_module_version": "1.2.0",
          "state": {
            "_model_module": "@jupyter-widgets/base",
            "_model_module_version": "1.2.0",
            "_model_name": "LayoutModel",
            "_view_count": null,
            "_view_module": "@jupyter-widgets/base",
            "_view_module_version": "1.2.0",
            "_view_name": "LayoutView",
            "align_content": null,
            "align_items": null,
            "align_self": null,
            "border": null,
            "bottom": null,
            "display": null,
            "flex": null,
            "flex_flow": null,
            "grid_area": null,
            "grid_auto_columns": null,
            "grid_auto_flow": null,
            "grid_auto_rows": null,
            "grid_column": null,
            "grid_gap": null,
            "grid_row": null,
            "grid_template_areas": null,
            "grid_template_columns": null,
            "grid_template_rows": null,
            "height": null,
            "justify_content": null,
            "justify_items": null,
            "left": null,
            "margin": null,
            "max_height": null,
            "max_width": null,
            "min_height": null,
            "min_width": null,
            "object_fit": null,
            "object_position": null,
            "order": null,
            "overflow": null,
            "overflow_x": null,
            "overflow_y": null,
            "padding": null,
            "right": null,
            "top": null,
            "visibility": null,
            "width": null
          }
        },
        "fa345bd7e7934402a3c7e5967d0e633f": {
          "model_module": "@jupyter-widgets/base",
          "model_name": "LayoutModel",
          "model_module_version": "1.2.0",
          "state": {
            "_model_module": "@jupyter-widgets/base",
            "_model_module_version": "1.2.0",
            "_model_name": "LayoutModel",
            "_view_count": null,
            "_view_module": "@jupyter-widgets/base",
            "_view_module_version": "1.2.0",
            "_view_name": "LayoutView",
            "align_content": null,
            "align_items": null,
            "align_self": null,
            "border": null,
            "bottom": null,
            "display": null,
            "flex": null,
            "flex_flow": null,
            "grid_area": null,
            "grid_auto_columns": null,
            "grid_auto_flow": null,
            "grid_auto_rows": null,
            "grid_column": null,
            "grid_gap": null,
            "grid_row": null,
            "grid_template_areas": null,
            "grid_template_columns": null,
            "grid_template_rows": null,
            "height": null,
            "justify_content": null,
            "justify_items": null,
            "left": null,
            "margin": null,
            "max_height": null,
            "max_width": null,
            "min_height": null,
            "min_width": null,
            "object_fit": null,
            "object_position": null,
            "order": null,
            "overflow": null,
            "overflow_x": null,
            "overflow_y": null,
            "padding": null,
            "right": null,
            "top": null,
            "visibility": null,
            "width": null
          }
        },
        "31d146144a65415f832d69205d1bc4c7": {
          "model_module": "@jupyter-widgets/controls",
          "model_name": "DescriptionStyleModel",
          "model_module_version": "1.5.0",
          "state": {
            "_model_module": "@jupyter-widgets/controls",
            "_model_module_version": "1.5.0",
            "_model_name": "DescriptionStyleModel",
            "_view_count": null,
            "_view_module": "@jupyter-widgets/base",
            "_view_module_version": "1.2.0",
            "_view_name": "StyleView",
            "description_width": ""
          }
        },
        "ca220b06fc2449d19adc54ba11779613": {
          "model_module": "@jupyter-widgets/base",
          "model_name": "LayoutModel",
          "model_module_version": "1.2.0",
          "state": {
            "_model_module": "@jupyter-widgets/base",
            "_model_module_version": "1.2.0",
            "_model_name": "LayoutModel",
            "_view_count": null,
            "_view_module": "@jupyter-widgets/base",
            "_view_module_version": "1.2.0",
            "_view_name": "LayoutView",
            "align_content": null,
            "align_items": null,
            "align_self": null,
            "border": null,
            "bottom": null,
            "display": null,
            "flex": null,
            "flex_flow": null,
            "grid_area": null,
            "grid_auto_columns": null,
            "grid_auto_flow": null,
            "grid_auto_rows": null,
            "grid_column": null,
            "grid_gap": null,
            "grid_row": null,
            "grid_template_areas": null,
            "grid_template_columns": null,
            "grid_template_rows": null,
            "height": null,
            "justify_content": null,
            "justify_items": null,
            "left": null,
            "margin": null,
            "max_height": null,
            "max_width": null,
            "min_height": null,
            "min_width": null,
            "object_fit": null,
            "object_position": null,
            "order": null,
            "overflow": null,
            "overflow_x": null,
            "overflow_y": null,
            "padding": null,
            "right": null,
            "top": null,
            "visibility": null,
            "width": null
          }
        },
        "3a24bb7445114a8fba66bdcb5dc8d8ec": {
          "model_module": "@jupyter-widgets/controls",
          "model_name": "ProgressStyleModel",
          "model_module_version": "1.5.0",
          "state": {
            "_model_module": "@jupyter-widgets/controls",
            "_model_module_version": "1.5.0",
            "_model_name": "ProgressStyleModel",
            "_view_count": null,
            "_view_module": "@jupyter-widgets/base",
            "_view_module_version": "1.2.0",
            "_view_name": "StyleView",
            "bar_color": null,
            "description_width": ""
          }
        },
        "ad420c1cbe51461e9d39285fa80e35e1": {
          "model_module": "@jupyter-widgets/base",
          "model_name": "LayoutModel",
          "model_module_version": "1.2.0",
          "state": {
            "_model_module": "@jupyter-widgets/base",
            "_model_module_version": "1.2.0",
            "_model_name": "LayoutModel",
            "_view_count": null,
            "_view_module": "@jupyter-widgets/base",
            "_view_module_version": "1.2.0",
            "_view_name": "LayoutView",
            "align_content": null,
            "align_items": null,
            "align_self": null,
            "border": null,
            "bottom": null,
            "display": null,
            "flex": null,
            "flex_flow": null,
            "grid_area": null,
            "grid_auto_columns": null,
            "grid_auto_flow": null,
            "grid_auto_rows": null,
            "grid_column": null,
            "grid_gap": null,
            "grid_row": null,
            "grid_template_areas": null,
            "grid_template_columns": null,
            "grid_template_rows": null,
            "height": null,
            "justify_content": null,
            "justify_items": null,
            "left": null,
            "margin": null,
            "max_height": null,
            "max_width": null,
            "min_height": null,
            "min_width": null,
            "object_fit": null,
            "object_position": null,
            "order": null,
            "overflow": null,
            "overflow_x": null,
            "overflow_y": null,
            "padding": null,
            "right": null,
            "top": null,
            "visibility": null,
            "width": null
          }
        },
        "2804dcf6026a43fc81e380a15bf0f58e": {
          "model_module": "@jupyter-widgets/controls",
          "model_name": "DescriptionStyleModel",
          "model_module_version": "1.5.0",
          "state": {
            "_model_module": "@jupyter-widgets/controls",
            "_model_module_version": "1.5.0",
            "_model_name": "DescriptionStyleModel",
            "_view_count": null,
            "_view_module": "@jupyter-widgets/base",
            "_view_module_version": "1.2.0",
            "_view_name": "StyleView",
            "description_width": ""
          }
        }
      }
    }
  },
  "cells": [
    {
      "cell_type": "markdown",
      "metadata": {
        "id": "view-in-github",
        "colab_type": "text"
      },
      "source": [
        "<a href=\"https://colab.research.google.com/github/ugursirvermez/PyTorch_Education/blob/main/05_pytorch_cv_cnn_model_2.ipynb\" target=\"_parent\"><img src=\"https://colab.research.google.com/assets/colab-badge.svg\" alt=\"Open In Colab\"/></a>"
      ]
    },
    {
      "cell_type": "markdown",
      "source": [
        "#CNN Yüksek Seviye Model Tasarlama: Model_2"
      ],
      "metadata": {
        "id": "ODGWj-ieNM50"
      }
    },
    {
      "cell_type": "markdown",
      "source": [
        "##Modelin Aşamalarına Test\n",
        "Modelin aşamalarını test etmek için yazılan kodlar, pasifler."
      ],
      "metadata": {
        "id": "mbPt0Khy06ed"
      }
    },
    {
      "cell_type": "code",
      "source": [
        "#---------------------------------------------------------------TEST ETMEK İÇİN----------------------------------------------------------\n",
        "'''\n",
        "images = torch.randn(size=(32,3,64,64)) #resimleri batch=32, color_channel=3, size= 64x64\n",
        "test_image = images[0] #Örnek resim\n",
        "\n",
        "#nn.Conv2d() -> Bunun üzerine gideceğiz.\n",
        "conv_layer = nn.Conv2d(in_channels=3, out_channels=10, kernel_size=(3,3), stride=1, padding=0)\n",
        "#Convolutional katmana doğru veriyi geçirme\n",
        "conv_output = conv_layer(test_image.unsqueeze(0)) #hata olmasın diye 3 boyutlu veriyi unsqueeze ile 4 boyutlu yaptık.\n",
        "\n",
        "#nn.Maxpool2d -> Conventional sonrası kullanılan katman\n",
        "max_pool_layer = nn.MaxPool2d(kernel_size=2)\n",
        "#conv_layer'dan veriyi geçirelim.\n",
        "test_image_through_conv = conv_layer(test_image.unsqueeze(dim=0))\n",
        "#max pool layer'a veriyi geçirelim.\n",
        "test_image_through_conv_and_max_pool = max_pool_layer(test_image_through_conv)\n",
        "'''\n",
        "print(\"Önceki test kodları\")\n",
        "#---------------------------------------------------------------TEST BURADA BITIYOR------------------------------------------------------"
      ],
      "metadata": {
        "colab": {
          "base_uri": "https://localhost:8080/"
        },
        "id": "Ti8eeKVYZCOq",
        "outputId": "19b62461-5655-49e7-8915-5117876fa893"
      },
      "execution_count": 1,
      "outputs": [
        {
          "output_type": "stream",
          "name": "stdout",
          "text": [
            "Önceki test kodları\n"
          ]
        }
      ]
    },
    {
      "cell_type": "markdown",
      "source": [
        "#MODEL_2\n",
        "İçinde CNN, Pooling ve Sınıflandırma var."
      ],
      "metadata": {
        "id": "XyWlD5Ez1Fk_"
      }
    },
    {
      "cell_type": "code",
      "execution_count": 2,
      "metadata": {
        "id": "7CDQNgkyNHsl",
        "colab": {
          "base_uri": "https://localhost:8080/",
          "height": 709,
          "referenced_widgets": [
            "9d52df15302846a5b6ced832b983791c",
            "de0aa4a04efb42d18a41ce17da879f40",
            "2ed9f4922a4b4ef68fa7772af266d34a",
            "464e4bbbcb7f45739f0810d4758e3892",
            "33254b8663f647eeb1d65ea1f68a524c",
            "79a9aa68832b4ed295410683dc2f8c50",
            "dbf4740943004a288c60283789847e8f",
            "2323185c423f4517893d4b11d84e6bdd",
            "17cacdfdf6034b82ac38128dea8f84c2",
            "d7b735e3bc624cdf8262430d73b60a49",
            "392181b351b54c1e859d0fa318cb5ddf"
          ]
        },
        "outputId": "c06c7af5-0b27-43e3-e3fb-e304ceefb32e"
      },
      "outputs": [
        {
          "output_type": "stream",
          "name": "stdout",
          "text": [
            "helper_function.py indir\n",
            "Downloading http://fashion-mnist.s3-website.eu-central-1.amazonaws.com/train-images-idx3-ubyte.gz\n",
            "Downloading http://fashion-mnist.s3-website.eu-central-1.amazonaws.com/train-images-idx3-ubyte.gz to data/FashionMNIST/raw/train-images-idx3-ubyte.gz\n"
          ]
        },
        {
          "output_type": "stream",
          "name": "stderr",
          "text": [
            "100%|██████████| 26421880/26421880 [00:01<00:00, 15139373.78it/s]\n"
          ]
        },
        {
          "output_type": "stream",
          "name": "stdout",
          "text": [
            "Extracting data/FashionMNIST/raw/train-images-idx3-ubyte.gz to data/FashionMNIST/raw\n",
            "\n",
            "Downloading http://fashion-mnist.s3-website.eu-central-1.amazonaws.com/train-labels-idx1-ubyte.gz\n",
            "Downloading http://fashion-mnist.s3-website.eu-central-1.amazonaws.com/train-labels-idx1-ubyte.gz to data/FashionMNIST/raw/train-labels-idx1-ubyte.gz\n"
          ]
        },
        {
          "output_type": "stream",
          "name": "stderr",
          "text": [
            "100%|██████████| 29515/29515 [00:00<00:00, 268646.84it/s]\n"
          ]
        },
        {
          "output_type": "stream",
          "name": "stdout",
          "text": [
            "Extracting data/FashionMNIST/raw/train-labels-idx1-ubyte.gz to data/FashionMNIST/raw\n",
            "\n",
            "Downloading http://fashion-mnist.s3-website.eu-central-1.amazonaws.com/t10k-images-idx3-ubyte.gz\n",
            "Downloading http://fashion-mnist.s3-website.eu-central-1.amazonaws.com/t10k-images-idx3-ubyte.gz to data/FashionMNIST/raw/t10k-images-idx3-ubyte.gz\n"
          ]
        },
        {
          "output_type": "stream",
          "name": "stderr",
          "text": [
            "100%|██████████| 4422102/4422102 [00:05<00:00, 873730.99it/s] \n"
          ]
        },
        {
          "output_type": "stream",
          "name": "stdout",
          "text": [
            "Extracting data/FashionMNIST/raw/t10k-images-idx3-ubyte.gz to data/FashionMNIST/raw\n",
            "\n",
            "Downloading http://fashion-mnist.s3-website.eu-central-1.amazonaws.com/t10k-labels-idx1-ubyte.gz\n",
            "Downloading http://fashion-mnist.s3-website.eu-central-1.amazonaws.com/t10k-labels-idx1-ubyte.gz to data/FashionMNIST/raw/t10k-labels-idx1-ubyte.gz\n"
          ]
        },
        {
          "output_type": "stream",
          "name": "stderr",
          "text": [
            "100%|██████████| 5148/5148 [00:00<00:00, 8863824.71it/s]\n"
          ]
        },
        {
          "output_type": "stream",
          "name": "stdout",
          "text": [
            "Extracting data/FashionMNIST/raw/t10k-labels-idx1-ubyte.gz to data/FashionMNIST/raw\n",
            "\n"
          ]
        },
        {
          "output_type": "display_data",
          "data": {
            "text/plain": [
              "  0%|          | 0/3 [00:00<?, ?it/s]"
            ],
            "application/vnd.jupyter.widget-view+json": {
              "version_major": 2,
              "version_minor": 0,
              "model_id": "9d52df15302846a5b6ced832b983791c"
            }
          },
          "metadata": {}
        },
        {
          "output_type": "stream",
          "name": "stdout",
          "text": [
            "Epoch:0\n",
            "----\n",
            "Train Loss:  0.89260 | Train Acc:  0.04\n",
            "Test Loss:  0.62134 | Test Acc: 81.85%\n",
            "\n",
            "Epoch:1\n",
            "----\n",
            "Train Loss:  0.56656 | Train Acc:  0.04\n",
            "Test Loss:  0.55760 | Test Acc: 82.82%\n",
            "\n",
            "Epoch:2\n",
            "----\n",
            "Train Loss:  0.52327 | Train Acc:  0.05\n",
            "Test Loss:  0.54754 | Test Acc: 82.85%\n",
            "\n",
            "Eğitim Zamanı: cpu: 185.219049616 Saniye\n",
            "İşlemler Bitti!\n"
          ]
        }
      ],
      "source": [
        "import torch\n",
        "from torch import nn\n",
        "import torchvision\n",
        "from torchvision import datasets\n",
        "from torch.utils.data import DataLoader\n",
        "from torchvision import transforms\n",
        "from torchvision.transforms import ToTensor\n",
        "from torch import nn\n",
        "from timeit import default_timer as timer # Zaman ayarları için var.\n",
        "from tqdm.auto import tqdm #Eğitimi işlem barında göstermek için kullanacağız. Progess bar kütüphanesi\n",
        "import requests\n",
        "from pathlib import Path\n",
        "if Path(\"helper_functions.py\").is_file():\n",
        "\tprint(\"helper_functions.py varsa indirme\")\n",
        "else:\n",
        "\tprint(\"helper_function.py indir\")\n",
        "\trequest = requests.get(\"https://raw.githubusercontent.com/mrdbourke/pytorch-deep-learning/main/helper_functions.py\")\n",
        "\twith open(\"helper_functions.py\", \"wb\") as f: #aynı dosyayı aç ve içeriğini yaz.\n",
        "\t\tf.write(request.content)\n",
        "\n",
        "from helper_functions import plot_predictions, plot_decision_boundary, accuracy_fn #Daha önceden yazdığımız kodlardan alınma aslında.\n",
        "#-------------------------------------------------------KÜTÜPHANELER--------------------------------------------------------------------\n",
        "#Device tanımlama\n",
        "device = \"cuda\" if torch.cuda.is_available() else \"cpu\"\n",
        "\n",
        "#CNN Oluşturma\n",
        "class FashionMNISTModelV2(nn.Module): #TinyVGG modeli yapacağız.\n",
        "\tdef __init__(self, input_shape: int, hidden_units: int, output_shape: int):\n",
        "\t\tsuper().__init__()\n",
        "\t\t#CNN için Conv2d kullanıyoruz. TinyVGG'de iki tane Conv modeli kullanıldığı için 2 kullandık.\n",
        "\t\tself.conv_block_1 = nn.Sequential(#kernel_size, stride ve padding bizim belirlediğimiz değerlerdir. Bunu anlamak için: https://poloclub.github.io/cnn-explainer/\n",
        "\t\t\t\t\t\t\t\t\t\t\t\tnn.Conv2d(in_channels = input_shape, out_channels = hidden_units, kernel_size=3, stride=1, padding=1),\n",
        "\t\t\t\t\t\t\t\t\t\t\t\tnn.ReLU(),\n",
        "\t\t\t\t\t\t\t\t\t\t\t\tnn.Conv2d(in_channels = hidden_units, out_channels = hidden_units, kernel_size=3, stride=1, padding=1),\n",
        "\t\t\t\t\t\t\t\t\t\t\t\tnn.ReLU(),\n",
        "\t\t\t\t\t\t\t\t\t\t\t\tnn.MaxPool2d(kernel_size=2) #Pooling Layer\n",
        "\t\t\t\t\t\t\t\t\t\t\t\t)\n",
        "\t\t#Şimdi 2.CNN katmanını kuruyoruz.\n",
        "\t\tself.conv_block_2 = nn.Sequential(\n",
        "\t\t\t\t\t\t\t\t\t\t\t\tnn.Conv2d(in_channels = hidden_units, out_channels = hidden_units, kernel_size=3, stride=1, padding=1),\n",
        "\t\t\t\t\t\t\t\t\t\t\t\tnn.ReLU(),\n",
        "\t\t\t\t\t\t\t\t\t\t\t\tnn.Conv2d(in_channels = hidden_units, out_channels = hidden_units, kernel_size=3, stride=1, padding=1),\n",
        "\t\t\t\t\t\t\t\t\t\t\t\tnn.ReLU(),\n",
        "\t\t\t\t\t\t\t\t\t\t\t\tnn.MaxPool2d(kernel_size=2)\n",
        "\t\t\t\t\t\t\t\t\t\t\t\t)\n",
        "\t\t#Şimdi doğrusal modele çıkarmak için yaptığımız self.Linear modeli uygulayacağız.\n",
        "\t\tself.classifier= nn.Sequential(nn.Flatten(),\n",
        "\t\t\t\t\t\t\t\t\t\t\t\t\t\t\t\t\t\t nn.Linear(in_features = hidden_units *7 *7, out_features = output_shape),\n",
        "\t\t\t\t\t\t\t\t\t\t\t\t\t\t\t\t\t\t nn.ReLU()) # doğrusal olmayan çıktı için ReLU gereklidir.\n",
        "\n",
        "\tdef forward(self,x):\n",
        "\t\tx = self.conv_block_1(x)\n",
        "\t\t#print(f\"Conv_1:{x.shape}\") # ne oluyor bir bakarız.\n",
        "\t\tx = self.conv_block_2(x)\n",
        "\t\t#print(f\"Conv_2:{x.shape}\")\n",
        "\t\tx = self.classifier(x)\n",
        "\t\treturn x # zaten output shape olacak.\n",
        "#---------------------------------------------------------------MODEL BURADA BITIYOR------------------------------------------------------\n",
        "#---------------------------------------MODEL_1 HAZIRLADIGIMIZ FONKSIYONLAR---------------------------------------------------------------\n",
        "#TIMER KODU\n",
        "#Zamana bağlı eğitimi yazdırmak için var.\n",
        "def print_train_time(start: float, end: float, device: torch.device = None):\n",
        "\ttotal_time = end - start\n",
        "\tprint(f\"Eğitim Zamanı: {device}: {total_time} Saniye\")\n",
        "\treturn total_time\n",
        "\n",
        "#TRAIN_STEP ve TEST_STEP FONKSİYONLARI\n",
        "#TRAIN_STEP\n",
        "def train_step(model: torch.nn.Module, data_loader: torch.utils.data.DataLoader, loss_fn: torch.nn.Module,\n",
        "\t\t\t\t\t\t\t optimizer: torch.optim.Optimizer, accuracy_fn, device: torch.device = device):\n",
        "\n",
        "\ttrain_loss, train_acc = 0,0\n",
        "\n",
        "\t#Eğitime başlıyoruz.\n",
        "\tmodel.train()\n",
        "\n",
        "\t#Döngü içinde döngü yapalım.\n",
        "\tfor batch, (X, y) in enumerate(data_loader): #X -> Image, y -> Label\n",
        "\t\t#Cihazları ayarlayalım.\n",
        "\t\tX, y = X.to(device), y.to(device)\n",
        "\n",
        "\t\ty_pred = model_2(X) #Forward edilecek.\n",
        "\n",
        "\t\t#Loss'u her batch için yapacağız.\n",
        "\t\tloss = loss_fn(y_pred, y)\n",
        "\t\ttrain_loss += loss # eğitim kaybını kümeleyelim.\n",
        "\t\ttrain_acc = accuracy_fn(y_true = y, y_pred = y_pred.argmax(dim=1))\n",
        "\n",
        "\t\t#Batch için Optimizer\n",
        "\t\toptimizer.zero_grad()\n",
        "\t\t#Loss Backward\n",
        "\t\tloss.backward()\n",
        "\t\t#Optimizer step\n",
        "\t\toptimizer.step()\n",
        "\n",
        "\t#Train_dataloader'daki kayba bakalım.\n",
        "\ttrain_loss /= len (data_loader)\n",
        "\ttrain_acc /= len(data_loader)\n",
        "\tprint(f\"Train Loss: {train_loss: .5f} | Train Acc: {train_acc: .2f}\")\n",
        "\n",
        "#TEST_STEP\n",
        "def test_step(model: torch.nn.Module, data_loader: torch.utils.data.DataLoader, loss_fn: torch.nn.Module,\n",
        "\t\t\t\t\t\t\toptimizer: torch.optim.Optimizer, accuracy_fn, device: torch.device = device):\n",
        "\n",
        "\ttest_loss, test_acc = 0, 0\n",
        "\tmodel.eval()\n",
        "\t# inference modu çalıştıralım.\n",
        "\twith torch.inference_mode():\n",
        "\t\tfor X_test, y_test in data_loader:\n",
        "\n",
        "\t\t\tX_test, y_test = X_test.to(device), y_test.to(device)\n",
        "\n",
        "\t\t\ttest_pred = model(X_test)\n",
        "\n",
        "\t\t\ttest_loss += loss_fn(test_pred, y_test)\n",
        "\t\t\ttest_acc += accuracy_fn(y_true = y_test, y_pred = test_pred.argmax(dim=1))\n",
        "\n",
        "\t\ttest_loss /= len(data_loader)\n",
        "\t\ttest_acc /= len(data_loader)\n",
        "\t\tprint(f\"Test Loss: {test_loss: .5f} | Test Acc: {test_acc:.2f}%\\n\")\n",
        "\n",
        "#Model_2.eval() şeyleri\n",
        "def eval_model(model: torch.nn.Module, data_loader: torch.utils.data.DataLoader, loss_fn: torch.nn.Module, accuracy_fn):\n",
        "    loss, acc = 0, 0\n",
        "    model.eval()\n",
        "    with torch.inference_mode():\n",
        "        for X, y in data_loader:\n",
        "            # Make predictions with the model\n",
        "            y_pred = model(X)\n",
        "\n",
        "            # Accumulate the loss and accuracy values per batch\n",
        "            loss += loss_fn(y_pred, y)\n",
        "            acc += accuracy_fn(y_true=y,\n",
        "                                y_pred=y_pred.argmax(dim=1)) # For accuracy, need the prediction labels (logits -> pred_prob -> pred_labels)\n",
        "\n",
        "        # Scale loss and acc to find the average loss/acc per batch\n",
        "        loss /= len(data_loader)\n",
        "        acc /= len(data_loader)\n",
        "\n",
        "    return {\"model_name\": model.__class__.__name__, # only works when model was created with a class\n",
        "            \"model_loss\": loss.item(),\n",
        "            \"model_acc\": acc}\n",
        "\n",
        "\n",
        "#---------------------------------------MODEL_1 HAZIRLADIGIMIZ FONKSIYONLAR BITTI----------------------------------------------------------\n",
        "\n",
        "#TRAIN_DATA\n",
        "train_data = datasets.FashionMNIST(root=\"data\", train=True, download=True, transform = torchvision.transforms.ToTensor(), target_transform = None)\n",
        "\n",
        "#TEST_DATA\n",
        "test_data = datasets.FashionMNIST(root=\"data\", train=False, download=True, transform = torchvision.transforms.ToTensor(), target_transform = None)\n",
        "#TRAIN DATA CLASS\n",
        "class_names = train_data.classes\n",
        "\n",
        "#DATALOADER\n",
        "BATCH_SIZE = 32\n",
        "\n",
        "#Veri setini yenilemeye çevirelim. Train_Data\n",
        "train_dataloader = DataLoader(dataset = train_data, batch_size = BATCH_SIZE, shuffle = True)\n",
        "#Test_Data\n",
        "test_dataloader = DataLoader(dataset = test_data, batch_size = BATCH_SIZE, shuffle = False)\n",
        "#Eğitilmiş verilerin içinde ne var?\n",
        "train_features_batch , train_labels_batch = next(iter(train_dataloader))\n",
        "\n",
        "#MODELİ ÇALIŞTIRALIM!\n",
        "torch.manual_seed(42)\n",
        "torch.cuda.manual_seed(42)\n",
        "model_2 = FashionMNISTModelV2(input_shape = 1, hidden_units= 10, output_shape=len(class_names)).to(device) #Model tanımlandı.\n",
        "\n",
        "#rastgele image olusturalım.\n",
        "rand_image_tensor = torch.randn(size=(1, 28, 28))\n",
        "\n",
        "#Model_2'ye sokalım.\n",
        "#model_2(rand_image_tensor.unsqueeze(0).to(device))\n",
        "\n",
        "#Loss ve Optimizer\n",
        "loss_fn = nn.CrossEntropyLoss()\n",
        "optimizer = torch.optim.SGD(params=model_2.parameters(), lr=0.1)\n",
        "\n",
        "#Training/Testing Fonksiyonları\n",
        "#Timer start\n",
        "Train_Start_timer = timer()\n",
        "\n",
        "#dongu\n",
        "epochs = 3\n",
        "for epoch in tqdm(range(epochs)):\n",
        "\tprint(f\"Epoch:{epoch}\\n----\")\n",
        "\t#Train uygula\n",
        "\ttrain_step(model= model_2, data_loader = train_dataloader, loss_fn = loss_fn, optimizer=optimizer, accuracy_fn= accuracy_fn, device = device)\n",
        "\t#Test Uygula\n",
        "\ttest_step(model= model_2, data_loader = test_dataloader, loss_fn = loss_fn, optimizer=optimizer, accuracy_fn= accuracy_fn, device = device)\n",
        "\n",
        "#Timer End\n",
        "Train_End_timer = timer()\n",
        "#Timer Calc\n",
        "total_train_time_model_2 = print_train_time(Train_Start_timer, Train_End_timer, device)\n",
        "\n",
        "#Değerlendirme ve Sonuç yazdırma\n",
        "model_2_results = eval_model(model=model_2, data_loader = test_dataloader, loss_fn = loss_fn, accuracy_fn = accuracy_fn)\n",
        "print(\"İşlemler Bitti!\")"
      ]
    },
    {
      "cell_type": "markdown",
      "source": [
        "Yukarıdaki veri sonucu manual_seed'i tekrar yapıp yapmamaya göre değişiklik gösterecektir. Normalde bir daha seed yaptığımda % 80 en az başarı sağlıyor."
      ],
      "metadata": {
        "id": "YT04VcJ9gN2y"
      }
    },
    {
      "cell_type": "markdown",
      "source": [
        "## Model_2: Rastgele Görsel Tahminlerle Sonuçları Değerlendirme"
      ],
      "metadata": {
        "id": "9ybYBqhvz9iN"
      }
    },
    {
      "cell_type": "code",
      "source": [
        "#Model_2'den görsel sonuçlar üretmek için rastgele verileri değerlendireceğiz.\n",
        "def make_predictions(model: torch.nn.Module, data: list, device: torch.device = device):\n",
        "\tpred_probs = [] # -> liste oluşturup otahmin olasılıklarına bakacağız.\n",
        "\tmodel.eval()\n",
        "\tmodel.to(device)\n",
        "\twith torch.inference_mode():\n",
        "\t\tfor sample in data:\n",
        "\t\t\t#Örnek hazırlayalım.\n",
        "\t\t\tsample = torch.unsqueeze(sample, dim=0).to(device)\n",
        "\t\t\t#Forward Edelim.\n",
        "\t\t\tpred_logit = model(sample)\n",
        "\t\t\t#Olasılık tahminlerini topla)\n",
        "\t\t\tpred_prob = torch.softmax(pred_logit.squeeze(), dim=0)\n",
        "\t\t\t#GPU'da işlemlerin yapılacağını belirtme -> diziye yazdırma\n",
        "\t\t\tpred_probs.append(pred_prob.cpu())\n",
        "\n",
        "\treturn torch.stack(pred_probs) #diziyi torch.stack ile dışarıdan değer döndürme."
      ],
      "metadata": {
        "id": "YlEPzsgf0OYN"
      },
      "execution_count": 3,
      "outputs": []
    },
    {
      "cell_type": "code",
      "source": [
        "import random #Rastgele kütüphanesi Python'dan gelen kütüphanedir.\n",
        "import matplotlib.pyplot as plt\n",
        "\n",
        "random.seed(42) #Rastgele veri üretme\n",
        "test_samples = [] #test listesi\n",
        "test_labels = [] #test etiket listesi\n",
        "\n",
        "for sample, label in random.sample(list(test_data), k=9): #3'e 3 liste olacağı için k=9\n",
        "\ttest_samples.append(sample)\n",
        "\ttest_labels.append(label)\n",
        "\n",
        "#görselleme Sadece bir tanesi\n",
        "#plt.imshow(test_samples[0].squeeze(), cmap=\"gray\")\n",
        "#plt.title(class_names[test_labels[0]])\n",
        "\n",
        "#Fonskiyonu çağırma\n",
        "pred_probs = make_predictions(model=model_2, data = test_samples)\n",
        "#Tahmin olasılıklarını etiketleyelim.\n",
        "pred_classes = pred_probs.argmax(dim=1)\n",
        "#Tahminleri Görselleştirelim\n",
        "plt.figure(figsize=(9,9))\n",
        "# k = 9 bu yüzden\n",
        "nrows = 3\n",
        "ncols = 3\n",
        "\n",
        "#sample toplayalım.\n",
        "for i, sample in enumerate(test_samples):\n",
        "\n",
        "\tplt.subplot(nrows, ncols, i+1) # alt bir çizim yapılacak.\n",
        "\tplt.imshow(sample.squeeze(), cmap=\"gray\") #Sample çizdir.\n",
        "\tpred_label = class_names[pred_classes[i]] #etiketleri yerleştir.\n",
        "\ttruth_label = class_names[test_labels[i]] # text metni olarak yazdır.\n",
        "\ttitle_text = f\"Pred: {pred_label} | Truth: {truth_label}\" #başlığı yazdır.\n",
        "\n",
        "\t#Eğer sonuçlar aynıysa yeşil, değilse kırmızı yaz.\n",
        "\tif pred_label == truth_label:\n",
        "\t\tplt.title(title_text, fontsize=10, c=\"g\")\n",
        "\telse:\n",
        "\t\tplt.title(title_test, fontsize=10, c=\"r\")\n"
      ],
      "metadata": {
        "colab": {
          "base_uri": "https://localhost:8080/",
          "height": 773
        },
        "id": "jDTWBsEkz9HC",
        "outputId": "f14e2552-713b-4816-e777-db53a221c61f"
      },
      "execution_count": 4,
      "outputs": [
        {
          "output_type": "display_data",
          "data": {
            "text/plain": [
              "<Figure size 900x900 with 9 Axes>"
            ],
            "image/png": "[encoded data removed]"
          },
          "metadata": {}
        }
      ]
    },
    {
      "cell_type": "markdown",
      "source": [
        "##Model_2: Confusion Matrix (Hata Matrisi) Oluşturma"
      ],
      "metadata": {
        "id": "s5aN9OMn5UHs"
      }
    },
    {
      "cell_type": "code",
      "source": [
        "# Confusion Matrix oluşturma\n",
        "from tqdm.auto import tqdm\n",
        "try: #mlxtend yüklü olmayabilir.\n",
        "\timport torchmetrics, mlxtend\n",
        "\tprint(f\"Kutuphaneler yuklu: {mlxtend.__version__}\")\n",
        "\tassert int(mlxtend.__version__.split(\".\")[1] >= 19, \"mlxtend 19.0 üstü olmalı...\")\n",
        "except:\n",
        "\t!pip install -q torchmetrics -U mlxtend\n",
        "\timport torchmetrics, mlxtend\n",
        "\tprint(f\"Kutuphaneler yuklu: {mlxtend.__version__}\")\n",
        "\n",
        "from torchmetrics import ConfusionMatrix\n",
        "from mlxtend.plotting import plot_confusion_matrix\n",
        "\n",
        "#Eğitilmiş modelden tahmin alma\n",
        "y_preds =[]\n",
        "model_2.eval()\n",
        "with torch.inference_mode():\n",
        "\tfor X, y in tqdm(test_dataloader, desc=\"Tahmin yürütme\"):\n",
        "\t\tX,y = X.to(device), y.to(device)\n",
        "\t\t#Forward etme\n",
        "\t\ty_logit = model_2(X)\n",
        "\t\t#logit -> olasılık tahminlerine -> etiketlere dönüştürme\n",
        "\t\ty_pred = torch.softmax(y_logit.squeeze(), dim=0).argmax(dim=1)\n",
        "\t\t#CPU ile çalıştırma\n",
        "\t\ty_preds.append(y_pred.cpu())\n",
        "\n",
        "#Tahmin tensörünü elde etme\n",
        "y_pred_tensor = torch.cat(y_preds)\n",
        "\n",
        "#Hataları bulalım.\n",
        "confmat = ConfusionMatrix(task=\"multiclass\", num_classes = len(class_names))\n",
        "confmat_tensor = confmat(preds = y_pred_tensor, target=test_data.targets)\n",
        "\n",
        "# mlxtend ile hata matrisini sunma\n",
        "fig, ax = plot_confusion_matrix(conf_mat = confmat_tensor.numpy(), class_names = class_names, figsize=(10,7))"
      ],
      "metadata": {
        "colab": {
          "base_uri": "https://localhost:8080/",
          "height": 734,
          "referenced_widgets": [
            "03225f8e416249259b9a15ca3e42241e",
            "a318d1b7c6ec43539f4592602b72db68",
            "3b46027595cf4e119cf22dc58a74164b",
            "195e8205c827465bade6ec4875237c00",
            "4c04940f6dbe440c8db0b6c4f6ec14a2",
            "fa345bd7e7934402a3c7e5967d0e633f",
            "31d146144a65415f832d69205d1bc4c7",
            "ca220b06fc2449d19adc54ba11779613",
            "3a24bb7445114a8fba66bdcb5dc8d8ec",
            "ad420c1cbe51461e9d39285fa80e35e1",
            "2804dcf6026a43fc81e380a15bf0f58e"
          ]
        },
        "id": "4bpxrGmz5WdN",
        "outputId": "68f5ac23-a29a-4917-f6c8-c237db1d0af4"
      },
      "execution_count": 5,
      "outputs": [
        {
          "output_type": "stream",
          "name": "stdout",
          "text": [
            "\u001b[?25l   \u001b[90m━━━━━━━━━━━━━━━━━━━━━━━━━━━━━━━━━━━━━━━━\u001b[0m \u001b[32m0.0/869.2 kB\u001b[0m \u001b[31m?\u001b[0m eta \u001b[36m-:--:--\u001b[0m\r\u001b[2K   \u001b[91m━━━━━━━━━━━━━━━━━━━━━━━━━\u001b[0m\u001b[90m╺\u001b[0m\u001b[90m━━━━━━━━━━━━━━\u001b[0m \u001b[32m553.0/869.2 kB\u001b[0m \u001b[31m16.4 MB/s\u001b[0m eta \u001b[36m0:00:01\u001b[0m\r\u001b[2K   \u001b[90m━━━━━━━━━━━━━━━━━━━━━━━━━━━━━━━━━━━━━━━━\u001b[0m \u001b[32m869.2/869.2 kB\u001b[0m \u001b[31m14.7 MB/s\u001b[0m eta \u001b[36m0:00:00\u001b[0m\n",
            "\u001b[?25hKutuphaneler yuklu: 0.23.1\n"
          ]
        },
        {
          "output_type": "display_data",
          "data": {
            "text/plain": [
              "Tahmin yürütme:   0%|          | 0/313 [00:00<?, ?it/s]"
            ],
            "application/vnd.jupyter.widget-view+json": {
              "version_major": 2,
              "version_minor": 0,
              "model_id": "03225f8e416249259b9a15ca3e42241e"
            }
          },
          "metadata": {}
        },
        {
          "output_type": "display_data",
          "data": {
            "text/plain": [
              "<Figure size 1000x700 with 1 Axes>"
            ],
            "image/png": "[encoded data removed]"
          },
          "metadata": {}
        }
      ]
    },
    {
      "cell_type": "markdown",
      "source": [
        "##MODEL_2 Kaydetme ve Yükleme"
      ],
      "metadata": {
        "id": "ISTzXAYz6bS_"
      }
    },
    {
      "cell_type": "code",
      "source": [
        "from pathlib import Path\n",
        "\n",
        "#Modelin kaydedileceği dosya yolunu belirleyelim.\n",
        "MODEL_PATH = Path(\"models\")\n",
        "MODEL_PATH.mkdir(parents=True, exist_ok=True)\n",
        "\n",
        "#Modelin kaydedileceği yol ve ismi belirleyelim.\n",
        "MODEL_NAME = \"Model_2.pth\"\n",
        "MODEL_SAVE_PATH = MODEL_PATH / MODEL_NAME\n",
        "\n",
        "#Modeli kaydetme işlemini yapalım.\n",
        "print(f\"Dosyanız {MODEL_SAVE_PATH} yoluna, {MODEL_NAME} ismiyle başarıyla kaydedilmiştir.\")\n",
        "torch.save(obj=model_2.state_dict(), f=MODEL_SAVE_PATH)"
      ],
      "metadata": {
        "colab": {
          "base_uri": "https://localhost:8080/"
        },
        "id": "J34OmZSA6gHj",
        "outputId": "893427fe-6b13-4fb4-c95f-d99abfca7c59"
      },
      "execution_count": 7,
      "outputs": [
        {
          "output_type": "stream",
          "name": "stdout",
          "text": [
            "Dosyanız models/Model_2.pth yoluna, Model_2.pth ismiyle başarıyla kaydedilmiştir.\n"
          ]
        }
      ]
    },
    {
      "cell_type": "code",
      "source": [
        "#Instance yani nesne türetme işlemi yapalım.\n",
        "torch.manual_seed(42)\n",
        "loaded_model_2 = FashionMNISTModelV2(input_shape=1, hidden_units=10, output_shape=len(class_names))\n",
        "\n",
        "#Mevcut kaydedilmiş modeli yükelyelim.\n",
        "loaded_model_2.load_state_dict(torch.load(f=MODEL_SAVE_PATH))\n",
        "\n",
        "#Modeli cihaza yükleme\n",
        "loaded_model_2.to(device)"
      ],
      "metadata": {
        "colab": {
          "base_uri": "https://localhost:8080/"
        },
        "id": "gPfAyYud-fil",
        "outputId": "900fd689-7da4-4ed7-b651-b92f9aaea1c2"
      },
      "execution_count": 8,
      "outputs": [
        {
          "output_type": "stream",
          "name": "stderr",
          "text": [
            "<ipython-input-8-10464e68204b>:6: FutureWarning: You are using `torch.load` with `weights_only=False` (the current default value), which uses the default pickle module implicitly. It is possible to construct malicious pickle data which will execute arbitrary code during unpickling (See https://github.com/pytorch/pytorch/blob/main/SECURITY.md#untrusted-models for more details). In a future release, the default value for `weights_only` will be flipped to `True`. This limits the functions that could be executed during unpickling. Arbitrary objects will no longer be allowed to be loaded via this mode unless they are explicitly allowlisted by the user via `torch.serialization.add_safe_globals`. We recommend you start setting `weights_only=True` for any use case where you don't have full control of the loaded file. Please open an issue on GitHub for any issues related to this experimental feature.\n",
            "  loaded_model_2.load_state_dict(torch.load(f=MODEL_SAVE_PATH))\n"
          ]
        },
        {
          "output_type": "execute_result",
          "data": {
            "text/plain": [
              "FashionMNISTModelV2(\n",
              "  (conv_block_1): Sequential(\n",
              "    (0): Conv2d(1, 10, kernel_size=(3, 3), stride=(1, 1), padding=(1, 1))\n",
              "    (1): ReLU()\n",
              "    (2): Conv2d(10, 10, kernel_size=(3, 3), stride=(1, 1), padding=(1, 1))\n",
              "    (3): ReLU()\n",
              "    (4): MaxPool2d(kernel_size=2, stride=2, padding=0, dilation=1, ceil_mode=False)\n",
              "  )\n",
              "  (conv_block_2): Sequential(\n",
              "    (0): Conv2d(10, 10, kernel_size=(3, 3), stride=(1, 1), padding=(1, 1))\n",
              "    (1): ReLU()\n",
              "    (2): Conv2d(10, 10, kernel_size=(3, 3), stride=(1, 1), padding=(1, 1))\n",
              "    (3): ReLU()\n",
              "    (4): MaxPool2d(kernel_size=2, stride=2, padding=0, dilation=1, ceil_mode=False)\n",
              "  )\n",
              "  (classifier): Sequential(\n",
              "    (0): Flatten(start_dim=1, end_dim=-1)\n",
              "    (1): Linear(in_features=490, out_features=10, bias=True)\n",
              "    (2): ReLU()\n",
              "  )\n",
              ")"
            ]
          },
          "metadata": {},
          "execution_count": 8
        }
      ]
    },
    {
      "cell_type": "code",
      "source": [
        "#Loaded_model_2'nin sonuçlarını kontrol edelim.\n",
        "torch.manual_seed(42)\n",
        "\n",
        "loaded_model_2_results = eval_model(model = loaded_model_2,\n",
        "\t\t\t\t\t\t\t\t\t\t\t\t\t\t\t\t\t\tdata_loader = test_dataloader,\n",
        "\t\t\t\t\t\t\t\t\t\t\t\t\t\t\t\t\t\tloss_fn = loss_fn,\n",
        "\t\t\t\t\t\t\t\t\t\t\t\t\t\t\t\t\t\taccuracy_fn = accuracy_fn)\n",
        "\n",
        "#Model sonuçlarının diğeri ile durumunu karşılaştırabiliriz.\n",
        "torch.isclose(torch.tensor(model_2_results[\"model_loss\"]),\n",
        "\t\t\t\t\t\t\t\t\t\t\t\t\t torch.tensor(loaded_model_2_results[\"model_loss\"]),\n",
        "\t\t\t\t\t\t\t\t\t\t\t\t\t atol=1e-02) #atol -> Tolerans miktarı ne kadar olsun? logaritma olarak düşünülmeli."
      ],
      "metadata": {
        "colab": {
          "base_uri": "https://localhost:8080/"
        },
        "id": "cwgCVJrJ-gxa",
        "outputId": "c2ae21e4-8441-4685-f263-a50befe81c99"
      },
      "execution_count": 9,
      "outputs": [
        {
          "output_type": "execute_result",
          "data": {
            "text/plain": [
              "tensor(True)"
            ]
          },
          "metadata": {},
          "execution_count": 9
        }
      ]
    }
  ]
}