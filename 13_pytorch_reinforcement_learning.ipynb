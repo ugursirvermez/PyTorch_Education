{
  "nbformat": 4,
  "nbformat_minor": 0,
  "metadata": {
    "colab": {
      "provenance": [],
      "gpuType": "L4",
      "authorship_tag": "ABX9TyPvX4CeLx8L7cx6egWMiih2",
      "include_colab_link": true
    },
    "kernelspec": {
      "name": "python3",
      "display_name": "Python 3"
    },
    "language_info": {
      "name": "python"
    },
    "accelerator": "GPU"
  },
  "cells": [
    {
      "cell_type": "markdown",
      "metadata": {
        "id": "view-in-github",
        "colab_type": "text"
      },
      "source": [
        "<a href=\"https://colab.research.google.com/github/ugursirvermez/PyTorch_Education/blob/main/13_pytorch_reinforcement_learning.ipynb\" target=\"_parent\"><img src=\"https://colab.research.google.com/assets/colab-badge.svg\" alt=\"Open In Colab\"/></a>"
      ]
    },
    {
      "cell_type": "markdown",
      "source": [
        "# Reinforcement Learning\n",
        "\n",
        "İçerik Sahibi: Adam Paszke <br>\n",
        "\n",
        "[Linkten orijinal](https://colab.research.google.com/github/pytorch/tutorials/blob/gh-pages/_downloads/9da0471a9eeb2351a488cd4b44fc6bbf/reinforcement_q_learning.ipynb) metine ulaşabilirsiniz. <br>\n",
        "\n",
        "Agent, iki eylem arasında karar vermek zorundadır - arabayı sola veya sağa hareket ettirmek - böylece ona bağlı direk dik kalır. Gymnasium'un web sitesinde ortam ve diğer daha zorlu ortamlar hakkında daha fazla bilgi bulabilirsiniz. Ajan ortamın mevcut durumunu gözlemledikçe ve bir eylem seçtikçe, ortam yeni bir duruma geçer ve ayrıca eylemin sonuçlarını gösteren bir ödül döndürür. Bu görevde, ödüller her artımlı zaman adımı için +1'dir ve direk çok fazla devrilirse veya araba merkezden 2,4 birimden fazla uzaklaşırsa ortam sonlanır. Bu, daha iyi performans gösteren senaryoların daha uzun süre çalışacağı ve daha büyük getiri elde edeceği anlamına gelir.\n",
        "\n",
        "CartPole görevi, agent'e girdilerin ortam durumunu (konum, hız vb.) temsil eden 4 gerçek değer olacak şekilde tasarlanmıştır. Bu 4 girdiyi herhangi bir ölçekleme yapmadan alırız ve her eylem için bir tane olmak üzere 2 çıktısı olan küçük, tamamen bağlı bir ağdan geçiririz. Ağ, girdi durumu verildiğinde her eylem için beklenen değeri tahmin edecek şekilde eğitilir. Daha sonra en yüksek beklenen değere sahip eylem seçilir."
      ],
      "metadata": {
        "id": "hfgg3lUPWVj0"
      }
    },
    {
      "cell_type": "markdown",
      "source": [
        "https://gist.github.com/hatashiro/bb7584e890300b633339a3c09281d044"
      ],
      "metadata": {
        "id": "h0hAhwEDYji4"
      }
    },
    {
      "cell_type": "code",
      "source": [
        "%%bash\n",
        "pip3 install gymnasium[classic_control]"
      ],
      "metadata": {
        "colab": {
          "base_uri": "https://localhost:8080/"
        },
        "id": "ZaMNq_J83ypN",
        "outputId": "7cad33c7-7bc9-4ca8-ee08-9b39245aaf85"
      },
      "execution_count": 75,
      "outputs": [
        {
          "output_type": "stream",
          "name": "stdout",
          "text": [
            "Requirement already satisfied: gymnasium[classic_control] in /usr/local/lib/python3.11/dist-packages (1.1.1)\n",
            "Requirement already satisfied: numpy>=1.21.0 in /usr/local/lib/python3.11/dist-packages (from gymnasium[classic_control]) (1.26.4)\n",
            "Requirement already satisfied: cloudpickle>=1.2.0 in /usr/local/lib/python3.11/dist-packages (from gymnasium[classic_control]) (3.1.1)\n",
            "Requirement already satisfied: typing-extensions>=4.3.0 in /usr/local/lib/python3.11/dist-packages (from gymnasium[classic_control]) (4.12.2)\n",
            "Requirement already satisfied: farama-notifications>=0.0.1 in /usr/local/lib/python3.11/dist-packages (from gymnasium[classic_control]) (0.0.4)\n",
            "Requirement already satisfied: pygame>=2.1.3 in /usr/local/lib/python3.11/dist-packages (from gymnasium[classic_control]) (2.6.1)\n"
          ]
        }
      ]
    },
    {
      "cell_type": "code",
      "source": [
        "!apt-get install python-opengl -y\n",
        "!apt install xvfb -y\n",
        "!pip install pyvirtualdisplay > /dev/null 2>&1\n",
        "!pip install piglet\n",
        "!apt-get install -y xvfb python-opengl ffmpeg > /dev/null 2>&1\n",
        "!apt-get update > /dev/null 2>&1\n",
        "!apt-get install cmake > /dev/null 2>&1\n",
        "!pip install --upgrade setuptools 2>&1\n",
        "!pip install ez_setup > /dev/null 2>&1\n",
        "!pip install gym[atari] > /dev/null 2>&1"
      ],
      "metadata": {
        "colab": {
          "base_uri": "https://localhost:8080/"
        },
        "id": "FaVnW1oJLf9T",
        "outputId": "0d18061b-882f-4ff1-9062-427a76669abd"
      },
      "execution_count": 76,
      "outputs": [
        {
          "output_type": "stream",
          "name": "stdout",
          "text": [
            "Reading package lists... Done\n",
            "Building dependency tree... Done\n",
            "Reading state information... Done\n",
            "E: Unable to locate package python-opengl\n",
            "Reading package lists... Done\n",
            "Building dependency tree... Done\n",
            "Reading state information... Done\n",
            "xvfb is already the newest version (2:21.1.4-2ubuntu1.7~22.04.13).\n",
            "0 upgraded, 0 newly installed, 0 to remove and 29 not upgraded.\n",
            "Requirement already satisfied: piglet in /usr/local/lib/python3.11/dist-packages (1.0.0)\n",
            "Requirement already satisfied: piglet-templates in /usr/local/lib/python3.11/dist-packages (from piglet) (1.3.2)\n",
            "Requirement already satisfied: pyparsing in /usr/local/lib/python3.11/dist-packages (from piglet-templates->piglet) (3.2.1)\n",
            "Requirement already satisfied: attrs in /usr/local/lib/python3.11/dist-packages (from piglet-templates->piglet) (25.2.0)\n",
            "Requirement already satisfied: markupsafe in /usr/local/lib/python3.11/dist-packages (from piglet-templates->piglet) (3.0.2)\n",
            "Requirement already satisfied: setuptools in /usr/local/lib/python3.11/dist-packages (76.0.0)\n"
          ]
        }
      ]
    },
    {
      "cell_type": "markdown",
      "source": [
        "##Ortamın Kurulması"
      ],
      "metadata": {
        "id": "xTZ6gkXb8mR0"
      }
    },
    {
      "cell_type": "code",
      "source": [
        "import gymnasium as gym #RL için kullanılan, çevre oluşturmayı sağlayan bir kütüphanedir.\n",
        "import math\n",
        "import random\n",
        "import numpy as np\n",
        "import matplotlib\n",
        "import matplotlib.pyplot as plt #Grafik\n",
        "from collections import namedtuple, deque #Verileri listelemek için\n",
        "from itertools import count\n",
        "from PIL import Image\n",
        "import glob\n",
        "import io\n",
        "import os\n",
        "import base64\n",
        "#PyTorch\n",
        "import torch\n",
        "import torch.nn as nn\n",
        "import torch.optim as optim\n",
        "import torch.nn.functional as F\n",
        "import torchvision.transforms as T\n",
        "#Görselleştirme için\n",
        "import pyvirtualdisplay\n",
        "from IPython import display as ipythondisplay\n",
        "# matplotlib Kurulumu\n",
        "is_ipython = 'inline' in matplotlib.get_backend()\n",
        "if is_ipython:\n",
        "    from IPython import display\n",
        "    from IPython.display import HTML\n",
        "\n",
        "###### Environment #######\n",
        "#Environment seçimi -> Oyunun adını yazıyoruz.\n",
        "env = gym.make(\"CartPole-v1\",render_mode=\"rgb_array\")\n",
        "plt.ion()\n",
        "\n",
        "#Ekranı Başlatma\n",
        "if not os.environ.get('DISPLAY'):\n",
        "    pyvirtualdisplay.Display(visible=0, size=(1400, 900)).start()\n",
        "\n",
        "# GPU mu yoksa CPU mu?\n",
        "device = torch.device(\"cuda\" if torch.cuda.is_available() else \"cpu\")"
      ],
      "metadata": {
        "id": "vUlMTSRM8k7X"
      },
      "execution_count": 77,
      "outputs": []
    },
    {
      "cell_type": "markdown",
      "source": [
        "## Video Kayıt"
      ],
      "metadata": {
        "id": "moJ7Ik6g1Om4"
      }
    },
    {
      "cell_type": "code",
      "source": [
        "def render_as_image(env):\n",
        "    img = env.render()\n",
        "    img = Image.fromarray(img)\n",
        "    plt.imshow(img)\n",
        "    plt.axis('off')\n",
        "    plt.show()"
      ],
      "metadata": {
        "id": "URq8jjeV007j"
      },
      "execution_count": 78,
      "outputs": []
    },
    {
      "cell_type": "code",
      "source": [
        "def embed_video(video_path, width=640):\n",
        "    content = io.open(video_path, 'rb').read()\n",
        "    b64 = base64.b64encode(content)\n",
        "    video_tag = '''\n",
        "\n",
        "    '''.format(b64.decode(), width)\n",
        "    ipythondisplay.display(ipythondisplay.HTML(video_tag))"
      ],
      "metadata": {
        "id": "AzINjsaI1K0t"
      },
      "execution_count": 79,
      "outputs": []
    },
    {
      "cell_type": "code",
      "source": [
        "import imageio\n",
        "from datetime import datetime\n",
        "\n",
        "def random_filename():\n",
        "    return datetime.now().strftime('%Y_%m_%d_%H_%M_%S.mp4')\n",
        "\n",
        "class VideoRecorder:\n",
        "    def __init__(self, filename=random_filename(), fps=30):\n",
        "        self.filename = filename\n",
        "        self.writer = imageio.get_writer(filename, fps=fps)\n",
        "\n",
        "    def record_frame(self, env):\n",
        "        frame = env.render()\n",
        "        self.writer.append_data(frame)\n",
        "\n",
        "    def close(self, *args, **kwargs):\n",
        "        self.writer.close(*args, **kwargs)\n",
        "\n",
        "    def play(self):\n",
        "        self.close()\n",
        "        embed_video(self.filename)\n",
        "\n",
        "    def __enter__(self):\n",
        "        return self\n",
        "\n",
        "    def __exit__(self, type, value, traceback):\n",
        "        self.play()"
      ],
      "metadata": {
        "id": "DW6BOpo51Q83"
      },
      "execution_count": 80,
      "outputs": []
    },
    {
      "cell_type": "markdown",
      "source": [
        "## Tekrarlı Hafıza Oluşturma"
      ],
      "metadata": {
        "id": "8DZ5vdz89Nxb"
      }
    },
    {
      "cell_type": "code",
      "source": [
        "#Bu değişken birden fazla etikete sahip.\n",
        "#Etiketler -> Durum, eylem, sonraki durum ve ödülden oluşuyor.\n",
        "Transition = namedtuple('Transition',\n",
        "                        ('state', 'action', 'next_state', 'reward'))\n",
        "\n",
        "#Agent'ın yaptığı eylemler sonucunda hafızasını oluşturuyoruz.\n",
        "class ReplayMemory(object):\n",
        "\n",
        "    #Hafızanın kapasitesini belirliyoruz.\n",
        "    def __init__(self, capacity):\n",
        "        self.memory = deque([], maxlen=capacity)\n",
        "    #Her bir veriyi transition adlı değişkene aktarıyoruz.\n",
        "    def push(self, *args):\n",
        "        self.memory.append(Transition(*args))\n",
        "    #Verileri karşılaştırmak için hafızamızdan batch miktarı\n",
        "    #kadar veriyi rastgele seçiyoruz.\n",
        "    def sample(self, batch_size):\n",
        "        return random.sample(self.memory, batch_size)\n",
        "    #Hafıza miktarı ne kadar oldu bunu döndüren fonksiyon\n",
        "    def __len__(self):\n",
        "        return len(self.memory)"
      ],
      "metadata": {
        "id": "FVUwheXo9UYB"
      },
      "execution_count": 81,
      "outputs": []
    },
    {
      "cell_type": "markdown",
      "source": [
        "## DQN Algoritması\n",
        "Çevremiz deterministiktir, bu nedenle burada sunulan tüm denklemler basitlik adına deterministik olarak formüle edilmiştir. Takviyeli öğrenme literatüründe, çevredeki stokastik geçişler üzerindeki beklentileri de içerirler. Amacımız, iskontolu, kümülatif ödülü maksimize etmeye çalışan bir politika eğitmek olacaktır, **𝑅𝑡0=∑∞𝑡=𝑡0𝛾𝑡−𝑡0𝑟𝑡 **, burada 𝑅𝑡0 aynı zamanda getiri olarak da bilinir. İskonto, 𝛾 , toplamın yakınsamasını sağlayan 0 ile 1 arasında bir sabit olmalıdır. Daha düşük bir 𝛾 , belirsiz uzak gelecekten gelen ödülleri, hakkında oldukça emin olabileceği yakın gelecekteki ödüllerden daha az önemli hale getirir. Ayrıca, temsilcileri, gelecekte zamansal olarak uzak olan eşdeğer ödüllerden daha yakın zamanda ödül toplamaya teşvik eder. <br>\n",
        "\n",
        "Q-öğrenmesinin arkasındaki temel fikir, eğer **𝑄:𝑆𝑡𝑎𝑡𝑒×𝐴𝑐𝑡𝑖𝑜𝑛→ℝ** şeklinde bir fonksiyonumuz olsaydı ve bu fonksiyon bize belirli bir durumda bir eylemde bulunursak getirimizin ne olacağını söyleyebilseydi, ödüllerimizi en üst düzeye çıkaracak bir politikayı kolayca oluşturabilirdik:\n",
        "### 𝜋∗(𝑠)=argmax𝑎 𝑄∗(𝑠,𝑎) <br>\n",
        "\n",
        "### Q-network\n",
        "Modelimiz, geçerli ve önceki ekran yamaları arasındaki farkı alan ileri beslemeli bir sinir ağı olacak. 𝑄(𝑠,sol) ve 𝑄(𝑠,sağ)'ı temsil eden iki çıktısı var (burada 𝑠, ağın girdisidir). Aslında, ağ, geçerli girdi verildiğinde her eylemin beklenen getirisini tahmin etmeye çalışmaktadır."
      ],
      "metadata": {
        "id": "0Wp5uOPY-LLl"
      }
    },
    {
      "cell_type": "code",
      "source": [
        "#DQN Sınıfı Oluşturarak Veri Analizi Yapılacak\n",
        "class DQN(nn.Module):\n",
        "    #Gözlemler ve eylemler sonucunda doğrusal bir veri azalması olmalı.\n",
        "    #Bu veri azalması eylem ve durumun bir orantısı ile sağlanabilir.\n",
        "    def __init__(self, n_observations, n_actions):\n",
        "        super(DQN, self).__init__()\n",
        "        self.layer1 = nn.Linear(n_observations, 128)\n",
        "        self.layer2 = nn.Linear(128, 128)\n",
        "        self.layer3 = nn.Linear(128, n_actions)\n",
        "\n",
        "    # Bir sonraki eylemi belirlemek için bir öğeyle veya\n",
        "    # optimizasyon sırasında bir toplu işlemle çağrılır.\n",
        "    # Tensor([[left0exp,right0exp]...]) döndürür.\n",
        "    def forward(self, x):\n",
        "        x = F.relu(self.layer1(x))\n",
        "        x = F.relu(self.layer2(x))\n",
        "        return self.layer3(x)"
      ],
      "metadata": {
        "id": "M0OXDviY-Jz3"
      },
      "execution_count": 82,
      "outputs": []
    },
    {
      "cell_type": "markdown",
      "source": [
        "## Eğitim"
      ],
      "metadata": {
        "id": "HY_BuFNsBe1Z"
      }
    },
    {
      "cell_type": "code",
      "source": [
        "BATCH_SIZE = 128 # tekrar oynatma arabelleğinden örneklenen geçişlerin sayısıdır\n",
        "GAMMA = 0.99 # önceki bölümde belirtildiği gibi indirim faktörüdür\n",
        "EPS_START = 0.9 # EPS_START epsilon'un başlangıç ​​değeridir\n",
        "EPS_END = 0.05 # EPS_END epsilon'un son değeridir.\n",
        "EPS_DECAY = 1000 # epsilonun üstel azalma oranını kontrol eder; daha yüksek değer daha yavaş azalma anlamına gelir\n",
        "TAU = 0.005 # hedef ağın güncelleme oranıdır\n",
        "LR = 1e-4 # Öğrenme oranı Adam optimizer'a göre\n",
        "\n",
        "#Ortamın Görselini çıkarma\n",
        "env.reset()\n",
        "render_as_image(env)\n",
        "\n",
        "# Ortam eylem sayısını alma\n",
        "n_actions = env.action_space.n\n",
        "# Durum gözlemlerini alma\n",
        "state, info = env.reset()\n",
        "n_observations = len(state)\n",
        "\n",
        "#Hedef ve uygulanacak protokol değerlerini alma\n",
        "policy_net = DQN(n_observations, n_actions).to(device)\n",
        "target_net = DQN(n_observations, n_actions).to(device)\n",
        "target_net.load_state_dict(policy_net.state_dict())\n",
        "#Optimizer\n",
        "optimizer = optim.AdamW(policy_net.parameters(), lr=LR, amsgrad=True)\n",
        "memory = ReplayMemory(10000) #Ne kadarlık hafıza oluşacak?\n",
        "\n",
        "#Kaç adım yapıldı\n",
        "steps_done = 0\n",
        "\n",
        "#Eylem Seçimi\n",
        "def select_action(state):\n",
        "    global steps_done\n",
        "    sample = random.random()\n",
        "    #Yukarıdaki formül uygulanıyor.\n",
        "    eps_threshold = EPS_END + (EPS_START - EPS_END) * \\\n",
        "        math.exp(-1. * steps_done / EPS_DECAY)\n",
        "    steps_done += 1\n",
        "    if sample > eps_threshold:\n",
        "        with torch.no_grad():\n",
        "            #En yüksek değere ulaşmak için eylemlerdeki ödülleri takip ediyoruz.\n",
        "            return policy_net(state).max(1).indices.view(1, 1)\n",
        "    else:\n",
        "        return torch.tensor([[env.action_space.sample()]], device=device, dtype=torch.long)\n",
        "\n",
        "#Devirlerin süresi\n",
        "episode_durations = []\n",
        "\n",
        "#Devir sürelerini grafikleştirme\n",
        "def plot_durations(show_result=False):\n",
        "    plt.figure(1)\n",
        "    durations_t = torch.tensor(episode_durations, dtype=torch.float)\n",
        "    if show_result:\n",
        "        plt.title('Result')\n",
        "    else:\n",
        "        plt.clf()\n",
        "        plt.title('Training...')\n",
        "    plt.xlabel('Episode')\n",
        "    plt.ylabel('Duration')\n",
        "    plt.plot(durations_t.numpy())\n",
        "    # 100 tane olmalı en az\n",
        "    if len(durations_t) >= 100:\n",
        "        means = durations_t.unfold(0, 100, 1).mean(1).view(-1)\n",
        "        means = torch.cat((torch.zeros(99), means))\n",
        "        plt.plot(means.numpy())\n",
        "\n",
        "    plt.pause(0.001)  # grafik güncelleme süresi\n",
        "    if is_ipython:\n",
        "        if not show_result:\n",
        "            display.display(plt.gcf())\n",
        "            display.clear_output(wait=True)\n",
        "        else:\n",
        "            display.display(plt.gcf())"
      ],
      "metadata": {
        "id": "_GiKyAEdBemC",
        "colab": {
          "base_uri": "https://localhost:8080/",
          "height": 367
        },
        "outputId": "c31162e0-0793-4716-a78b-e3cbd5c29588"
      },
      "execution_count": 83,
      "outputs": [
        {
          "output_type": "display_data",
          "data": {
            "text/plain": [
              "<Figure size 640x480 with 1 Axes>"
            ],
            "image/png": "[encoded data removed]"
          },
          "metadata": {}
        }
      ]
    },
    {
      "cell_type": "markdown",
      "source": [
        "## Eğitim Döngüsünü Oluşturma"
      ],
      "metadata": {
        "id": "ccMFMPIxDWud"
      }
    },
    {
      "cell_type": "code",
      "source": [
        "#Modeli İyileştirme\n",
        "def optimize_model():\n",
        "    if len(memory) < BATCH_SIZE:\n",
        "        return\n",
        "    transitions = memory.sample(BATCH_SIZE)\n",
        "    batch = Transition(*zip(*transitions)) #Durumlar, eylemler, sonraki durumlar ve ödüller\n",
        "\n",
        "    # Bütün durumları bir araya getirme. Tuple ile.\n",
        "    non_final_mask = torch.tensor(tuple(map(lambda s: s is not None,\n",
        "                                          batch.next_state)), device=device, dtype=torch.bool)\n",
        "    non_final_next_states = torch.cat([s for s in batch.next_state\n",
        "                                                if s is not None])\n",
        "    state_batch = torch.cat(batch.state)\n",
        "    action_batch = torch.cat(batch.action)\n",
        "    reward_batch = torch.cat(batch.reward)\n",
        "\n",
        "    #Durumları gözlemleyip eylemlerin gidişatını belirliyoruz.\n",
        "    # Eylem durumu ne getirdi? Bu eylemin sonucunda ödül mü var?\n",
        "    state_action_values = policy_net(state_batch).gather(1, action_batch)\n",
        "\n",
        "    # Alınan bütün ödül değerleri değerlendirilir ve değerlendirilen ödüllerden\n",
        "    # son duruma ulaşılır.\n",
        "    next_state_values = torch.zeros(BATCH_SIZE, device=device)\n",
        "    with torch.no_grad():\n",
        "        next_state_values[non_final_mask] = target_net(non_final_next_states).max(1).values\n",
        "\n",
        "    expected_state_action_values = (next_state_values * GAMMA) + reward_batch\n",
        "\n",
        "    # Huber loss ölçümü\n",
        "    criterion = nn.SmoothL1Loss()\n",
        "    loss = criterion(state_action_values, expected_state_action_values.unsqueeze(1))\n",
        "    #Optimizer\n",
        "    optimizer.zero_grad()\n",
        "    loss.backward()\n",
        "    # Gradyen azaltma\n",
        "    torch.nn.utils.clip_grad_value_(policy_net.parameters(), 100)\n",
        "    optimizer.step()"
      ],
      "metadata": {
        "id": "Pa-ezayXDY1Y"
      },
      "execution_count": 84,
      "outputs": []
    },
    {
      "cell_type": "markdown",
      "source": [
        "## Döngüyü Çalıştırma"
      ],
      "metadata": {
        "id": "o8XCEWbNE-fC"
      }
    },
    {
      "cell_type": "code",
      "source": [
        "# İşlemci seçimine göre döngü sayısı oluşturuluyor.\n",
        "if torch.cuda.is_available():\n",
        "    num_episodes = 600\n",
        "else:\n",
        "    num_episodes = 50\n",
        "\n",
        "with VideoRecorder() as video_recorder:\n",
        "  for i_episode in range(num_episodes):\n",
        "      # Env oluşturulup durumlar hazırlanıyor.\n",
        "      state, info = env.reset()\n",
        "\n",
        "      #State'in boyutu bir arttırılıyor.\n",
        "      state = torch.tensor(state, dtype=torch.float32, device=device).unsqueeze(0)\n",
        "\n",
        "      for t in count():\n",
        "          #Video kaydı alma\n",
        "          video_recorder.record_frame(env)\n",
        "          #Eylem, gözlem, ödül vs. yazdırılıyor.\n",
        "          action = select_action(state)\n",
        "          observation, reward, terminated, truncated, _ = env.step(action.item())\n",
        "          reward = torch.tensor([reward], device=device)\n",
        "          done = terminated or truncated\n",
        "\n",
        "          if terminated:\n",
        "              next_state = None\n",
        "          else:\n",
        "              next_state = torch.tensor(observation, dtype=torch.float32, device=device).unsqueeze(0)\n",
        "\n",
        "          # Elde edilen deneyi hafızaya atacağız.\n",
        "          memory.push(state, action, next_state, reward)\n",
        "\n",
        "          # Sonraki duruma geç\n",
        "          state = next_state\n",
        "\n",
        "          # Optimizer ve Loss\n",
        "          optimize_model()\n",
        "\n",
        "          # Hafif değer güncellemesi yapılacak.\n",
        "          target_net_state_dict = target_net.state_dict()\n",
        "          policy_net_state_dict = policy_net.state_dict()\n",
        "          for key in policy_net_state_dict:\n",
        "              target_net_state_dict[key] = policy_net_state_dict[key]*TAU + target_net_state_dict[key]*(1-TAU)\n",
        "          target_net.load_state_dict(target_net_state_dict)\n",
        "\n",
        "          if done:\n",
        "              episode_durations.append(t + 1)\n",
        "              plot_durations()\n",
        "              break\n",
        "\n",
        "print('Bitti!')\n",
        "plot_durations(show_result=True)\n",
        "plt.ioff()\n",
        "plt.show()"
      ],
      "metadata": {
        "colab": {
          "base_uri": "https://localhost:8080/",
          "height": 526
        },
        "id": "iuKd4u0rE8bS",
        "outputId": "7164ff44-79b9-4629-9015-bbd05d9b3424"
      },
      "execution_count": 85,
      "outputs": [
        {
          "output_type": "display_data",
          "data": {
            "text/plain": [
              "<IPython.core.display.HTML object>"
            ],
            "text/html": [
              "\n",
              "        \n",
              "    "
            ]
          },
          "metadata": {}
        },
        {
          "output_type": "stream",
          "name": "stdout",
          "text": [
            "Bitti!\n"
          ]
        },
        {
          "output_type": "display_data",
          "data": {
            "text/plain": [
              "<Figure size 640x480 with 1 Axes>"
            ],
            "image/png": "[encoded data removed]"
          },
          "metadata": {}
        },
        {
          "output_type": "display_data",
          "data": {
            "text/plain": [
              "<Figure size 640x480 with 0 Axes>"
            ]
          },
          "metadata": {}
        },
        {
          "output_type": "display_data",
          "data": {
            "text/plain": [
              "<Figure size 640x480 with 0 Axes>"
            ]
          },
          "metadata": {}
        }
      ]
    }
  ]
}