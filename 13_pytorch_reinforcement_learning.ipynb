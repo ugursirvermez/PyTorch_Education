{
  "nbformat": 4,
  "nbformat_minor": 0,
  "metadata": {
    "colab": {
      "provenance": [],
      "authorship_tag": "ABX9TyM7FhtOCPp8W4Sv1vT2N8Is",
      "include_colab_link": true
    },
    "kernelspec": {
      "name": "python3",
      "display_name": "Python 3"
    },
    "language_info": {
      "name": "python"
    }
  },
  "cells": [
    {
      "cell_type": "markdown",
      "metadata": {
        "id": "view-in-github",
        "colab_type": "text"
      },
      "source": [
        "<a href=\"https://colab.research.google.com/github/ugursirvermez/PyTorch_Education/blob/main/13_pytorch_reinforcement_learning.ipynb\" target=\"_parent\"><img src=\"https://colab.research.google.com/assets/colab-badge.svg\" alt=\"Open In Colab\"/></a>"
      ]
    },
    {
      "cell_type": "markdown",
      "source": [
        "# Kurulumlar"
      ],
      "metadata": {
        "id": "hfgg3lUPWVj0"
      }
    },
    {
      "cell_type": "code",
      "execution_count": null,
      "metadata": {
        "id": "-uDp68mxWQNv"
      },
      "outputs": [],
      "source": [
        "# Reinforcement Learning için ihtiyacımız olan kütüphaneler\n",
        "pip install gym\n",
        "pip install atari-py\n",
        "pip install box2d-py\n",
        "pip install torch\n",
        "pip install tensorflow-gpu #PyTorch yerine kullanılır."
      ]
    }
  ]
}